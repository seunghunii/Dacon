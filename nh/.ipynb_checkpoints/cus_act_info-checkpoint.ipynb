{
 "cells": [
  {
   "cell_type": "code",
   "execution_count": 1,
   "metadata": {
    "ExecuteTime": {
     "end_time": "2020-11-29T18:34:56.582143Z",
     "start_time": "2020-11-29T18:34:53.070220Z"
    }
   },
   "outputs": [],
   "source": [
    "import pandas as pd\n",
    "import numpy as np\n",
    "import matplotlib as mpl\n",
    "import matplotlib.pyplot as plt\n",
    "import seaborn as sns\n",
    "\n",
    "from IPython.core.interactiveshell import InteractiveShell\n",
    "InteractiveShell.ast_node_interactivity = \"all\""
   ]
  },
  {
   "cell_type": "code",
   "execution_count": 2,
   "metadata": {
    "ExecuteTime": {
     "end_time": "2020-11-29T18:35:00.098492Z",
     "start_time": "2020-11-29T18:34:56.584141Z"
    }
   },
   "outputs": [],
   "source": [
    "cus_info = pd.read_csv('C:/Users/rsh15/Desktop/seunghuni/dataset/리그2/2_cus_info.csv')\n",
    "act_info = pd.read_csv('C:/Users/rsh15/Desktop/seunghuni/dataset/리그2/2_act_info.csv')\n",
    "trd_kr   = pd.read_csv('C:/Users/rsh15/Desktop/seunghuni/dataset/리그2/2_trd_kr.csv')\n",
    "trd_os   = pd.read_csv('C:/Users/rsh15/Desktop/seunghuni/dataset/리그2/2_trd_oss.csv')"
   ]
  },
  {
   "cell_type": "code",
   "execution_count": 26,
   "metadata": {
    "ExecuteTime": {
     "end_time": "2020-11-29T18:47:34.862834Z",
     "start_time": "2020-11-29T18:47:34.321082Z"
    }
   },
   "outputs": [
    {
     "data": {
      "text/plain": [
       "10997"
      ]
     },
     "execution_count": 26,
     "metadata": {},
     "output_type": "execute_result"
    },
    {
     "data": {
      "text/plain": [
       "824"
      ]
     },
     "execution_count": 26,
     "metadata": {},
     "output_type": "execute_result"
    }
   ],
   "source": [
    "len(trd_kr['act_id'].unique())\n",
    "len(trd_os['act_id'].unique())"
   ]
  },
  {
   "cell_type": "code",
   "execution_count": 3,
   "metadata": {
    "ExecuteTime": {
     "end_time": "2020-11-29T18:35:00.113741Z",
     "start_time": "2020-11-29T18:35:00.100745Z"
    }
   },
   "outputs": [
    {
     "data": {
      "text/plain": [
       "Index(['cus_id', 'sex_dit_cd', 'cus_age', 'zip_ctp_cd', 'tco_cus_grd_cd',\n",
       "       'ivs_icn_cd'],\n",
       "      dtype='object')"
      ]
     },
     "execution_count": 3,
     "metadata": {},
     "output_type": "execute_result"
    },
    {
     "data": {
      "text/plain": [
       "array(['-', '04', '03', '02', '00', '05', '01', '09'], dtype=object)"
      ]
     },
     "execution_count": 3,
     "metadata": {},
     "output_type": "execute_result"
    }
   ],
   "source": [
    "cus_info.columns\n",
    "cus_info['ivs_icn_cd'].unique()"
   ]
  },
  {
   "cell_type": "code",
   "execution_count": 4,
   "metadata": {
    "ExecuteTime": {
     "end_time": "2020-11-29T18:35:00.237553Z",
     "start_time": "2020-11-29T18:35:00.117698Z"
    }
   },
   "outputs": [
    {
     "data": {
      "text/plain": [
       "0"
      ]
     },
     "execution_count": 4,
     "metadata": {},
     "output_type": "execute_result"
    },
    {
     "data": {
      "text/plain": [
       "0"
      ]
     },
     "execution_count": 4,
     "metadata": {},
     "output_type": "execute_result"
    }
   ],
   "source": [
    "# 날짜가 0인 데이터가 있음. 2개.\n",
    "# 이 두 계좌는 국내 해외 둘 다 주식거래가 없으므로 drop 한다.\n",
    "# drop 후 datetime 날짜 변환\n",
    "act_empty = act_info[act_info['act_opn_ym'] == 0]['act_id']\n",
    "trd_kr['act_id'].isin(act_empty).sum()\n",
    "trd_os['act_id'].isin(act_empty).sum()\n",
    "\n",
    "act_info.drop(act_info[act_info['act_opn_ym'] == 0].index,inplace=True)\n",
    "act_info['act_opn_ym'] = pd.to_datetime(act_info['act_opn_ym'],format='%Y%m')"
   ]
  },
  {
   "cell_type": "code",
   "execution_count": 6,
   "metadata": {
    "ExecuteTime": {
     "end_time": "2020-11-29T18:35:00.300179Z",
     "start_time": "2020-11-29T18:35:00.271249Z"
    }
   },
   "outputs": [
    {
     "data": {
      "text/html": [
       "<div>\n",
       "<style scoped>\n",
       "    .dataframe tbody tr th:only-of-type {\n",
       "        vertical-align: middle;\n",
       "    }\n",
       "\n",
       "    .dataframe tbody tr th {\n",
       "        vertical-align: top;\n",
       "    }\n",
       "\n",
       "    .dataframe thead th {\n",
       "        text-align: right;\n",
       "    }\n",
       "</style>\n",
       "<table border=\"1\" class=\"dataframe\">\n",
       "  <thead>\n",
       "    <tr style=\"text-align: right;\">\n",
       "      <th></th>\n",
       "      <th>cus_id</th>\n",
       "      <th>sex_dit_cd</th>\n",
       "      <th>cus_age</th>\n",
       "      <th>zip_ctp_cd</th>\n",
       "      <th>tco_cus_grd_cd</th>\n",
       "      <th>ivs_icn_cd</th>\n",
       "    </tr>\n",
       "  </thead>\n",
       "  <tbody>\n",
       "    <tr>\n",
       "      <th>0</th>\n",
       "      <td>1eec7e43dd6ea34d6be7a9484459e4db1a2da44c5bf311...</td>\n",
       "      <td>2</td>\n",
       "      <td>20</td>\n",
       "      <td>29</td>\n",
       "      <td>04</td>\n",
       "      <td>-</td>\n",
       "    </tr>\n",
       "    <tr>\n",
       "      <th>1</th>\n",
       "      <td>7e50c268acce884b1a5b78c9b5645b517c4639413c6dc4...</td>\n",
       "      <td>2</td>\n",
       "      <td>0</td>\n",
       "      <td>41</td>\n",
       "      <td>09</td>\n",
       "      <td>-</td>\n",
       "    </tr>\n",
       "    <tr>\n",
       "      <th>2</th>\n",
       "      <td>36d3cd293c4b02a00103fa1ba33ffbee176173a55df75b...</td>\n",
       "      <td>1</td>\n",
       "      <td>70</td>\n",
       "      <td>27</td>\n",
       "      <td>03</td>\n",
       "      <td>-</td>\n",
       "    </tr>\n",
       "    <tr>\n",
       "      <th>3</th>\n",
       "      <td>96b6dea03dc71d9ddb1462e06fdba23def1ddc838debf7...</td>\n",
       "      <td>1</td>\n",
       "      <td>70</td>\n",
       "      <td>41</td>\n",
       "      <td>09</td>\n",
       "      <td>-</td>\n",
       "    </tr>\n",
       "    <tr>\n",
       "      <th>4</th>\n",
       "      <td>034eb5406bd021a9a88f046e33765efd5b3cd190b39538...</td>\n",
       "      <td>1</td>\n",
       "      <td>70</td>\n",
       "      <td>11</td>\n",
       "      <td>05</td>\n",
       "      <td>-</td>\n",
       "    </tr>\n",
       "  </tbody>\n",
       "</table>\n",
       "</div>"
      ],
      "text/plain": [
       "                                              cus_id  sex_dit_cd  cus_age  \\\n",
       "0  1eec7e43dd6ea34d6be7a9484459e4db1a2da44c5bf311...           2       20   \n",
       "1  7e50c268acce884b1a5b78c9b5645b517c4639413c6dc4...           2        0   \n",
       "2  36d3cd293c4b02a00103fa1ba33ffbee176173a55df75b...           1       70   \n",
       "3  96b6dea03dc71d9ddb1462e06fdba23def1ddc838debf7...           1       70   \n",
       "4  034eb5406bd021a9a88f046e33765efd5b3cd190b39538...           1       70   \n",
       "\n",
       "  zip_ctp_cd tco_cus_grd_cd ivs_icn_cd  \n",
       "0         29             04          -  \n",
       "1         41             09          -  \n",
       "2         27             03          -  \n",
       "3         41             09          -  \n",
       "4         11             05          -  "
      ]
     },
     "execution_count": 6,
     "metadata": {},
     "output_type": "execute_result"
    },
    {
     "data": {
      "text/plain": [
       "(10000, 6)"
      ]
     },
     "execution_count": 6,
     "metadata": {},
     "output_type": "execute_result"
    }
   ],
   "source": [
    "cus_info.head(5)\n",
    "cus_info.shape"
   ]
  },
  {
   "cell_type": "code",
   "execution_count": 7,
   "metadata": {
    "ExecuteTime": {
     "end_time": "2020-11-29T18:35:00.316128Z",
     "start_time": "2020-11-29T18:35:00.303164Z"
    }
   },
   "outputs": [
    {
     "data": {
      "text/plain": [
       "09    2810\n",
       "05    2477\n",
       "04    2182\n",
       "03    1261\n",
       "_      638\n",
       "02     447\n",
       "01     185\n",
       "Name: tco_cus_grd_cd, dtype: int64"
      ]
     },
     "execution_count": 7,
     "metadata": {},
     "output_type": "execute_result"
    }
   ],
   "source": [
    "cus_info['tco_cus_grd_cd'].value_counts()"
   ]
  },
  {
   "cell_type": "code",
   "execution_count": 20,
   "metadata": {
    "ExecuteTime": {
     "end_time": "2020-11-29T18:44:11.854652Z",
     "start_time": "2020-11-29T18:44:11.832705Z"
    }
   },
   "outputs": [
    {
     "data": {
      "text/plain": [
       "-     400\n",
       "02     84\n",
       "03     59\n",
       "04     55\n",
       "05     16\n",
       "01     15\n",
       "00      9\n",
       "Name: ivs_icn_cd, dtype: int64"
      ]
     },
     "execution_count": 20,
     "metadata": {},
     "output_type": "execute_result"
    }
   ],
   "source": [
    "cus_info[cus_info['tco_cus_grd_cd'] == '_ ']['ivs_icn_cd'].value_counts()"
   ]
  },
  {
   "cell_type": "code",
   "execution_count": 8,
   "metadata": {
    "ExecuteTime": {
     "end_time": "2020-11-29T18:35:00.347722Z",
     "start_time": "2020-11-29T18:35:00.322115Z"
    }
   },
   "outputs": [
    {
     "data": {
      "text/plain": [
       "-     4308\n",
       "04    1844\n",
       "03    1501\n",
       "02    1072\n",
       "05     934\n",
       "00     173\n",
       "01     166\n",
       "09       2\n",
       "Name: ivs_icn_cd, dtype: int64"
      ]
     },
     "execution_count": 8,
     "metadata": {},
     "output_type": "execute_result"
    }
   ],
   "source": [
    "cus_info['ivs_icn_cd'].value_counts()"
   ]
  },
  {
   "cell_type": "code",
   "execution_count": 9,
   "metadata": {
    "ExecuteTime": {
     "end_time": "2020-11-29T18:35:01.438217Z",
     "start_time": "2020-11-29T18:35:00.351730Z"
    }
   },
   "outputs": [
    {
     "data": {
      "text/plain": [
       "<Figure size 432x288 with 0 Axes>"
      ]
     },
     "execution_count": 9,
     "metadata": {},
     "output_type": "execute_result"
    },
    {
     "data": {
      "text/plain": [
       "<AxesSubplot:xlabel='sex_dit_cd', ylabel='count'>"
      ]
     },
     "execution_count": 9,
     "metadata": {},
     "output_type": "execute_result"
    },
    {
     "data": {
      "text/plain": [
       "<Figure size 432x288 with 0 Axes>"
      ]
     },
     "execution_count": 9,
     "metadata": {},
     "output_type": "execute_result"
    },
    {
     "data": {
      "text/plain": [
       "<AxesSubplot:xlabel='cus_age', ylabel='count'>"
      ]
     },
     "execution_count": 9,
     "metadata": {},
     "output_type": "execute_result"
    },
    {
     "data": {
      "text/plain": [
       "<Figure size 432x288 with 0 Axes>"
      ]
     },
     "execution_count": 9,
     "metadata": {},
     "output_type": "execute_result"
    },
    {
     "data": {
      "text/plain": [
       "<AxesSubplot:xlabel='zip_ctp_cd', ylabel='count'>"
      ]
     },
     "execution_count": 9,
     "metadata": {},
     "output_type": "execute_result"
    },
    {
     "data": {
      "text/plain": [
       "<Figure size 432x288 with 0 Axes>"
      ]
     },
     "execution_count": 9,
     "metadata": {},
     "output_type": "execute_result"
    },
    {
     "data": {
      "text/plain": [
       "<AxesSubplot:xlabel='tco_cus_grd_cd', ylabel='count'>"
      ]
     },
     "execution_count": 9,
     "metadata": {},
     "output_type": "execute_result"
    },
    {
     "data": {
      "text/plain": [
       "<Figure size 432x288 with 0 Axes>"
      ]
     },
     "execution_count": 9,
     "metadata": {},
     "output_type": "execute_result"
    },
    {
     "data": {
      "text/plain": [
       "<AxesSubplot:xlabel='ivs_icn_cd', ylabel='count'>"
      ]
     },
     "execution_count": 9,
     "metadata": {},
     "output_type": "execute_result"
    },
    {
     "data": {
      "image/png": "[encoded data removed]",
      "text/plain": [
       "<Figure size 432x288 with 1 Axes>"
      ]
     },
     "metadata": {
      "needs_background": "light"
     },
     "output_type": "display_data"
    },
    {
     "data": {
      "image/png": "[encoded data removed]",
      "text/plain": [
       "<Figure size 432x288 with 1 Axes>"
      ]
     },
     "metadata": {
      "needs_background": "light"
     },
     "output_type": "display_data"
    },
    {
     "data": {
      "image/png": "[encoded data removed]",
      "text/plain": [
       "<Figure size 432x288 with 1 Axes>"
      ]
     },
     "metadata": {
      "needs_background": "light"
     },
     "output_type": "display_data"
    },
    {
     "data": {
      "image/png": "[encoded data removed]",
      "text/plain": [
       "<Figure size 432x288 with 1 Axes>"
      ]
     },
     "metadata": {
      "needs_background": "light"
     },
     "output_type": "display_data"
    },
    {
     "data": {
      "image/png": "[encoded data removed]",
      "text/plain": [
       "<Figure size 432x288 with 1 Axes>"
      ]
     },
     "metadata": {
      "needs_background": "light"
     },
     "output_type": "display_data"
    }
   ],
   "source": [
    "for cols in cus_info.columns.tolist()[1:]:\n",
    "    plt.figure()\n",
    "    sns.countplot(x=cols,data=cus_info)"
   ]
  },
  {
   "cell_type": "code",
   "execution_count": 10,
   "metadata": {
    "ExecuteTime": {
     "end_time": "2020-11-29T18:35:01.454201Z",
     "start_time": "2020-11-29T18:35:01.441234Z"
    }
   },
   "outputs": [],
   "source": [
    "dff = act_info.groupby('act_opn_ym').size().reset_index()\n",
    "dff.columns = ['acc_date','acc_count']"
   ]
  },
  {
   "cell_type": "code",
   "execution_count": 11,
   "metadata": {
    "ExecuteTime": {
     "end_time": "2020-11-29T18:35:01.753090Z",
     "start_time": "2020-11-29T18:35:01.457176Z"
    }
   },
   "outputs": [
    {
     "data": {
      "text/plain": [
       "<Figure size 1296x576 with 0 Axes>"
      ]
     },
     "execution_count": 11,
     "metadata": {},
     "output_type": "execute_result"
    },
    {
     "data": {
      "text/plain": [
       "<AxesSubplot:xlabel='acc_date', ylabel='acc_count'>"
      ]
     },
     "execution_count": 11,
     "metadata": {},
     "output_type": "execute_result"
    },
    {
     "data": {
      "text/plain": [
       "<matplotlib.lines.Line2D at 0x21e0de52550>"
      ]
     },
     "execution_count": 11,
     "metadata": {},
     "output_type": "execute_result"
    },
    {
     "data": {
      "image/png": "[encoded data removed]",
      "text/plain": [
       "<Figure size 1296x576 with 1 Axes>"
      ]
     },
     "metadata": {
      "needs_background": "light"
     },
     "output_type": "display_data"
    }
   ],
   "source": [
    "# 2020년 3월 주식거래활동계좌 수 추이 급증\n",
    "plt.figure(figsize=(18,8))\n",
    "sns.lineplot(data=dff[dff.acc_date.dt.year >= 2015],x='acc_date',y='acc_count')\n",
    "plt.axvline(pd.to_datetime('202003',format='%Y%m'),color='red')"
   ]
  },
  {
   "cell_type": "code",
   "execution_count": 12,
   "metadata": {
    "ExecuteTime": {
     "end_time": "2020-11-29T18:35:01.798974Z",
     "start_time": "2020-11-29T18:35:01.755076Z"
    }
   },
   "outputs": [
    {
     "data": {
      "text/html": [
       "<div>\n",
       "<style scoped>\n",
       "    .dataframe tbody tr th:only-of-type {\n",
       "        vertical-align: middle;\n",
       "    }\n",
       "\n",
       "    .dataframe tbody tr th {\n",
       "        vertical-align: top;\n",
       "    }\n",
       "\n",
       "    .dataframe thead th {\n",
       "        text-align: right;\n",
       "    }\n",
       "</style>\n",
       "<table border=\"1\" class=\"dataframe\">\n",
       "  <thead>\n",
       "    <tr style=\"text-align: right;\">\n",
       "      <th></th>\n",
       "      <th>act_id</th>\n",
       "      <th>cus_id</th>\n",
       "      <th>act_opn_ym</th>\n",
       "      <th>sex_dit_cd</th>\n",
       "      <th>cus_age</th>\n",
       "      <th>zip_ctp_cd</th>\n",
       "      <th>tco_cus_grd_cd</th>\n",
       "      <th>ivs_icn_cd</th>\n",
       "    </tr>\n",
       "  </thead>\n",
       "  <tbody>\n",
       "    <tr>\n",
       "      <th>0</th>\n",
       "      <td>8e1a987ebef2a3374ba558aeda4c7821de7808a11cfea1...</td>\n",
       "      <td>892f41b5002a79c9c93992acf60682f5698372aea023bd...</td>\n",
       "      <td>1979-12-01</td>\n",
       "      <td>1</td>\n",
       "      <td>65</td>\n",
       "      <td>11</td>\n",
       "      <td>01</td>\n",
       "      <td>04</td>\n",
       "    </tr>\n",
       "    <tr>\n",
       "      <th>1</th>\n",
       "      <td>eb161b66263589c3f38efd2277cec2a9a81e1ffa0a5255...</td>\n",
       "      <td>006ad32069efb2a8ce1a99542dfe41cb14e8e75685278a...</td>\n",
       "      <td>1987-02-01</td>\n",
       "      <td>1</td>\n",
       "      <td>35</td>\n",
       "      <td>28</td>\n",
       "      <td>09</td>\n",
       "      <td>-</td>\n",
       "    </tr>\n",
       "    <tr>\n",
       "      <th>2</th>\n",
       "      <td>01866857515304e9e1315e54863cc1108e1d46fff0d467...</td>\n",
       "      <td>1925ed2d8ed2cad53997f5b24722482137c4d1da4b555e...</td>\n",
       "      <td>1991-09-01</td>\n",
       "      <td>2</td>\n",
       "      <td>60</td>\n",
       "      <td>41</td>\n",
       "      <td>02</td>\n",
       "      <td>04</td>\n",
       "    </tr>\n",
       "    <tr>\n",
       "      <th>3</th>\n",
       "      <td>63a58b0fee2fa4dc467c043fde465846b65705659497c5...</td>\n",
       "      <td>7829365dc463ed8275c8b92518d58b3c8d983f00f7bf87...</td>\n",
       "      <td>1994-01-01</td>\n",
       "      <td>1</td>\n",
       "      <td>55</td>\n",
       "      <td>11</td>\n",
       "      <td>03</td>\n",
       "      <td>03</td>\n",
       "    </tr>\n",
       "    <tr>\n",
       "      <th>4</th>\n",
       "      <td>b563fb76d3d432d67198f194701ca67e895da4c2f24e8e...</td>\n",
       "      <td>36e05dde058cf7531bd4001ed3b976ef9562a9ecd9f43d...</td>\n",
       "      <td>1994-04-01</td>\n",
       "      <td>1</td>\n",
       "      <td>55</td>\n",
       "      <td>41</td>\n",
       "      <td>04</td>\n",
       "      <td>04</td>\n",
       "    </tr>\n",
       "  </tbody>\n",
       "</table>\n",
       "</div>"
      ],
      "text/plain": [
       "                                              act_id  \\\n",
       "0  8e1a987ebef2a3374ba558aeda4c7821de7808a11cfea1...   \n",
       "1  eb161b66263589c3f38efd2277cec2a9a81e1ffa0a5255...   \n",
       "2  01866857515304e9e1315e54863cc1108e1d46fff0d467...   \n",
       "3  63a58b0fee2fa4dc467c043fde465846b65705659497c5...   \n",
       "4  b563fb76d3d432d67198f194701ca67e895da4c2f24e8e...   \n",
       "\n",
       "                                              cus_id act_opn_ym  sex_dit_cd  \\\n",
       "0  892f41b5002a79c9c93992acf60682f5698372aea023bd... 1979-12-01           1   \n",
       "1  006ad32069efb2a8ce1a99542dfe41cb14e8e75685278a... 1987-02-01           1   \n",
       "2  1925ed2d8ed2cad53997f5b24722482137c4d1da4b555e... 1991-09-01           2   \n",
       "3  7829365dc463ed8275c8b92518d58b3c8d983f00f7bf87... 1994-01-01           1   \n",
       "4  36e05dde058cf7531bd4001ed3b976ef9562a9ecd9f43d... 1994-04-01           1   \n",
       "\n",
       "   cus_age zip_ctp_cd tco_cus_grd_cd ivs_icn_cd  \n",
       "0       65         11             01         04  \n",
       "1       35         28             09          -  \n",
       "2       60         41             02         04  \n",
       "3       55         11             03         03  \n",
       "4       55         41             04         04  "
      ]
     },
     "execution_count": 12,
     "metadata": {},
     "output_type": "execute_result"
    }
   ],
   "source": [
    "cus_act = pd.merge(act_info,cus_info,how='left',left_on='cus_id',right_on='cus_id')\n",
    "cus_act.head(5)"
   ]
  },
  {
   "cell_type": "code",
   "execution_count": 13,
   "metadata": {
    "ExecuteTime": {
     "end_time": "2020-11-29T18:35:01.830080Z",
     "start_time": "2020-11-29T18:35:01.801926Z"
    }
   },
   "outputs": [],
   "source": [
    "cus_act['tco_cus_grd_cd'] = np.where(cus_act['tco_cus_grd_cd'] == '_ ',99,cus_act['tco_cus_grd_cd']).astype(int)\n",
    "cus_act['ivs_icn_cd'] = np.where(cus_act['ivs_icn_cd'] == '-',99,cus_act['ivs_icn_cd']).astype(int)\n",
    "cus_act['zip_ctp_cd'] = np.where(cus_act['zip_ctp_cd'] == '-',99,cus_act['zip_ctp_cd']).astype(int)"
   ]
  },
  {
   "cell_type": "code",
   "execution_count": 14,
   "metadata": {
    "ExecuteTime": {
     "end_time": "2020-11-29T18:35:01.925469Z",
     "start_time": "2020-11-29T18:35:01.832690Z"
    }
   },
   "outputs": [
    {
     "data": {
      "text/html": [
       "<div>\n",
       "<style scoped>\n",
       "    .dataframe tbody tr th:only-of-type {\n",
       "        vertical-align: middle;\n",
       "    }\n",
       "\n",
       "    .dataframe tbody tr th {\n",
       "        vertical-align: top;\n",
       "    }\n",
       "\n",
       "    .dataframe thead th {\n",
       "        text-align: right;\n",
       "    }\n",
       "</style>\n",
       "<table border=\"1\" class=\"dataframe\">\n",
       "  <thead>\n",
       "    <tr style=\"text-align: right;\">\n",
       "      <th></th>\n",
       "      <th>cus_id</th>\n",
       "      <th>first_acc</th>\n",
       "      <th>recent_acc</th>\n",
       "      <th>cus_sex</th>\n",
       "      <th>cus_age</th>\n",
       "      <th>cus_zip</th>\n",
       "      <th>cus_class</th>\n",
       "      <th>cus_ivs</th>\n",
       "    </tr>\n",
       "  </thead>\n",
       "  <tbody>\n",
       "    <tr>\n",
       "      <th>0</th>\n",
       "      <td>0005485133f45a0074dc4588abe1ae0fb6b3dfebded28b...</td>\n",
       "      <td>2020-03-01</td>\n",
       "      <td>2020-03-01</td>\n",
       "      <td>1</td>\n",
       "      <td>25</td>\n",
       "      <td>41</td>\n",
       "      <td>5</td>\n",
       "      <td>1</td>\n",
       "    </tr>\n",
       "    <tr>\n",
       "      <th>1</th>\n",
       "      <td>000ffabe461b9b0f5360913aa1b340e84e44446617a8dc...</td>\n",
       "      <td>2017-01-01</td>\n",
       "      <td>2017-01-01</td>\n",
       "      <td>1</td>\n",
       "      <td>30</td>\n",
       "      <td>47</td>\n",
       "      <td>3</td>\n",
       "      <td>3</td>\n",
       "    </tr>\n",
       "    <tr>\n",
       "      <th>2</th>\n",
       "      <td>001b04c9eec677e2278040c51e01d262e72ce32ef25f00...</td>\n",
       "      <td>2015-09-01</td>\n",
       "      <td>2015-09-01</td>\n",
       "      <td>1</td>\n",
       "      <td>40</td>\n",
       "      <td>11</td>\n",
       "      <td>3</td>\n",
       "      <td>5</td>\n",
       "    </tr>\n",
       "    <tr>\n",
       "      <th>3</th>\n",
       "      <td>001ee721662751620282570981b2b4e2c1d42a8ef9329e...</td>\n",
       "      <td>1999-01-01</td>\n",
       "      <td>1999-01-01</td>\n",
       "      <td>1</td>\n",
       "      <td>50</td>\n",
       "      <td>47</td>\n",
       "      <td>2</td>\n",
       "      <td>99</td>\n",
       "    </tr>\n",
       "    <tr>\n",
       "      <th>4</th>\n",
       "      <td>001f5ef83673487f2abf25efdd61e284adcc1953001e69...</td>\n",
       "      <td>2020-04-01</td>\n",
       "      <td>2020-04-01</td>\n",
       "      <td>2</td>\n",
       "      <td>40</td>\n",
       "      <td>11</td>\n",
       "      <td>5</td>\n",
       "      <td>99</td>\n",
       "    </tr>\n",
       "    <tr>\n",
       "      <th>...</th>\n",
       "      <td>...</td>\n",
       "      <td>...</td>\n",
       "      <td>...</td>\n",
       "      <td>...</td>\n",
       "      <td>...</td>\n",
       "      <td>...</td>\n",
       "      <td>...</td>\n",
       "      <td>...</td>\n",
       "    </tr>\n",
       "    <tr>\n",
       "      <th>9995</th>\n",
       "      <td>ffccee553ca63b8c3355043ea85d0f0f8479d0f4cb786d...</td>\n",
       "      <td>2020-03-01</td>\n",
       "      <td>2020-03-01</td>\n",
       "      <td>2</td>\n",
       "      <td>40</td>\n",
       "      <td>41</td>\n",
       "      <td>4</td>\n",
       "      <td>2</td>\n",
       "    </tr>\n",
       "    <tr>\n",
       "      <th>9996</th>\n",
       "      <td>ffd9ed94981466a50996440ab3db67e1cef09607e81773...</td>\n",
       "      <td>1999-12-01</td>\n",
       "      <td>2008-01-01</td>\n",
       "      <td>1</td>\n",
       "      <td>50</td>\n",
       "      <td>47</td>\n",
       "      <td>3</td>\n",
       "      <td>5</td>\n",
       "    </tr>\n",
       "    <tr>\n",
       "      <th>9997</th>\n",
       "      <td>ffebf3316131bd93f1a78f9e79217bfecf4f9249b78b20...</td>\n",
       "      <td>1988-05-01</td>\n",
       "      <td>2004-05-01</td>\n",
       "      <td>2</td>\n",
       "      <td>60</td>\n",
       "      <td>11</td>\n",
       "      <td>1</td>\n",
       "      <td>3</td>\n",
       "    </tr>\n",
       "    <tr>\n",
       "      <th>9998</th>\n",
       "      <td>fff541dc6f57a081d8e84d4b27afed540aceffe1e521dc...</td>\n",
       "      <td>2013-05-01</td>\n",
       "      <td>2017-12-01</td>\n",
       "      <td>1</td>\n",
       "      <td>35</td>\n",
       "      <td>30</td>\n",
       "      <td>5</td>\n",
       "      <td>5</td>\n",
       "    </tr>\n",
       "    <tr>\n",
       "      <th>9999</th>\n",
       "      <td>fffb9c3387fe8e0f5b101ce463197559b8ba1d30562cec...</td>\n",
       "      <td>2014-12-01</td>\n",
       "      <td>2014-12-01</td>\n",
       "      <td>2</td>\n",
       "      <td>35</td>\n",
       "      <td>11</td>\n",
       "      <td>9</td>\n",
       "      <td>4</td>\n",
       "    </tr>\n",
       "  </tbody>\n",
       "</table>\n",
       "<p>10000 rows × 8 columns</p>\n",
       "</div>"
      ],
      "text/plain": [
       "                                                 cus_id  first_acc recent_acc  \\\n",
       "0     0005485133f45a0074dc4588abe1ae0fb6b3dfebded28b... 2020-03-01 2020-03-01   \n",
       "1     000ffabe461b9b0f5360913aa1b340e84e44446617a8dc... 2017-01-01 2017-01-01   \n",
       "2     001b04c9eec677e2278040c51e01d262e72ce32ef25f00... 2015-09-01 2015-09-01   \n",
       "3     001ee721662751620282570981b2b4e2c1d42a8ef9329e... 1999-01-01 1999-01-01   \n",
       "4     001f5ef83673487f2abf25efdd61e284adcc1953001e69... 2020-04-01 2020-04-01   \n",
       "...                                                 ...        ...        ...   \n",
       "9995  ffccee553ca63b8c3355043ea85d0f0f8479d0f4cb786d... 2020-03-01 2020-03-01   \n",
       "9996  ffd9ed94981466a50996440ab3db67e1cef09607e81773... 1999-12-01 2008-01-01   \n",
       "9997  ffebf3316131bd93f1a78f9e79217bfecf4f9249b78b20... 1988-05-01 2004-05-01   \n",
       "9998  fff541dc6f57a081d8e84d4b27afed540aceffe1e521dc... 2013-05-01 2017-12-01   \n",
       "9999  fffb9c3387fe8e0f5b101ce463197559b8ba1d30562cec... 2014-12-01 2014-12-01   \n",
       "\n",
       "      cus_sex  cus_age  cus_zip  cus_class  cus_ivs  \n",
       "0           1       25       41          5        1  \n",
       "1           1       30       47          3        3  \n",
       "2           1       40       11          3        5  \n",
       "3           1       50       47          2       99  \n",
       "4           2       40       11          5       99  \n",
       "...       ...      ...      ...        ...      ...  \n",
       "9995        2       40       41          4        2  \n",
       "9996        1       50       47          3        5  \n",
       "9997        2       60       11          1        3  \n",
       "9998        1       35       30          5        5  \n",
       "9999        2       35       11          9        4  \n",
       "\n",
       "[10000 rows x 8 columns]"
      ]
     },
     "execution_count": 14,
     "metadata": {},
     "output_type": "execute_result"
    }
   ],
   "source": [
    "cus_act_agg = cus_act.groupby('cus_id',as_index=False).agg({\n",
    "                              'act_opn_ym' : ['min','max'],\n",
    "                              'sex_dit_cd' : 'mean',\n",
    "                              'cus_age'    : 'mean',\n",
    "                              'zip_ctp_cd' : 'mean',\n",
    "                              'tco_cus_grd_cd' : 'mean',\n",
    "                              'ivs_icn_cd' : 'mean'})\n",
    "cus_act_agg.columns = ['cus_id','first_acc','recent_acc','cus_sex','cus_age','cus_zip','cus_class','cus_ivs']\n",
    "cus_act_agg"
   ]
  },
  {
   "cell_type": "code",
   "execution_count": 15,
   "metadata": {
    "ExecuteTime": {
     "end_time": "2020-11-29T18:35:01.940484Z",
     "start_time": "2020-11-29T18:35:01.928461Z"
    }
   },
   "outputs": [],
   "source": [
    "cus_march = cus_act[cus_act['act_opn_ym'] == '2020-03-01']"
   ]
  },
  {
   "cell_type": "code",
   "execution_count": 16,
   "metadata": {
    "ExecuteTime": {
     "end_time": "2020-11-29T18:35:02.982749Z",
     "start_time": "2020-11-29T18:35:01.944420Z"
    }
   },
   "outputs": [
    {
     "data": {
      "text/plain": [
       "<Figure size 432x288 with 0 Axes>"
      ]
     },
     "execution_count": 16,
     "metadata": {},
     "output_type": "execute_result"
    },
    {
     "data": {
      "text/plain": [
       "<AxesSubplot:xlabel='sex_dit_cd', ylabel='count'>"
      ]
     },
     "execution_count": 16,
     "metadata": {},
     "output_type": "execute_result"
    },
    {
     "data": {
      "text/plain": [
       "<Figure size 432x288 with 0 Axes>"
      ]
     },
     "execution_count": 16,
     "metadata": {},
     "output_type": "execute_result"
    },
    {
     "data": {
      "text/plain": [
       "<AxesSubplot:xlabel='cus_age', ylabel='count'>"
      ]
     },
     "execution_count": 16,
     "metadata": {},
     "output_type": "execute_result"
    },
    {
     "data": {
      "text/plain": [
       "<Figure size 432x288 with 0 Axes>"
      ]
     },
     "execution_count": 16,
     "metadata": {},
     "output_type": "execute_result"
    },
    {
     "data": {
      "text/plain": [
       "<AxesSubplot:xlabel='zip_ctp_cd', ylabel='count'>"
      ]
     },
     "execution_count": 16,
     "metadata": {},
     "output_type": "execute_result"
    },
    {
     "data": {
      "text/plain": [
       "<Figure size 432x288 with 0 Axes>"
      ]
     },
     "execution_count": 16,
     "metadata": {},
     "output_type": "execute_result"
    },
    {
     "data": {
      "text/plain": [
       "<AxesSubplot:xlabel='tco_cus_grd_cd', ylabel='count'>"
      ]
     },
     "execution_count": 16,
     "metadata": {},
     "output_type": "execute_result"
    },
    {
     "data": {
      "text/plain": [
       "<Figure size 432x288 with 0 Axes>"
      ]
     },
     "execution_count": 16,
     "metadata": {},
     "output_type": "execute_result"
    },
    {
     "data": {
      "text/plain": [
       "<AxesSubplot:xlabel='ivs_icn_cd', ylabel='count'>"
      ]
     },
     "execution_count": 16,
     "metadata": {},
     "output_type": "execute_result"
    },
    {
     "data": {
      "image/png": "[encoded data removed]",
      "text/plain": [
       "<Figure size 432x288 with 1 Axes>"
      ]
     },
     "metadata": {
      "needs_background": "light"
     },
     "output_type": "display_data"
    },
    {
     "data": {
      "image/png": "[encoded data removed]",
      "text/plain": [
       "<Figure size 432x288 with 1 Axes>"
      ]
     },
     "metadata": {
      "needs_background": "light"
     },
     "output_type": "display_data"
    },
    {
     "data": {
      "image/png": "[encoded data removed]",
      "text/plain": [
       "<Figure size 432x288 with 1 Axes>"
      ]
     },
     "metadata": {
      "needs_background": "light"
     },
     "output_type": "display_data"
    },
    {
     "data": {
      "image/png": "[encoded data removed]",
      "text/plain": [
       "<Figure size 432x288 with 1 Axes>"
      ]
     },
     "metadata": {
      "needs_background": "light"
     },
     "output_type": "display_data"
    },
    {
     "data": {
      "image/png": "[encoded data removed]",
      "text/plain": [
       "<Figure size 432x288 with 1 Axes>"
      ]
     },
     "metadata": {
      "needs_background": "light"
     },
     "output_type": "display_data"
    }
   ],
   "source": [
    "for cols in cus_march.columns.tolist()[3:]:\n",
    "    plt.figure()\n",
    "    sns.countplot(x=cols,data=cus_march)"
   ]
  },
  {
   "cell_type": "code",
   "execution_count": 17,
   "metadata": {
    "ExecuteTime": {
     "end_time": "2020-11-29T18:35:03.489389Z",
     "start_time": "2020-11-29T18:35:02.986740Z"
    }
   },
   "outputs": [
    {
     "data": {
      "text/plain": [
       "<AxesSubplot:xlabel='act_opn_ym', ylabel='count'>"
      ]
     },
     "execution_count": 17,
     "metadata": {},
     "output_type": "execute_result"
    },
    {
     "data": {
      "text/plain": [
       "([<matplotlib.axis.XTick at 0x21e0e245250>], [Text(56, 0, '2020-03')])"
      ]
     },
     "execution_count": 17,
     "metadata": {},
     "output_type": "execute_result"
    },
    {
     "data": {
      "text/plain": [
       "Text(0.5, 1.0, 'Age 25 group - account open')"
      ]
     },
     "execution_count": 17,
     "metadata": {},
     "output_type": "execute_result"
    },
    {
     "data": {
      "image/png": "[encoded data removed]",
      "text/plain": [
       "<Figure size 432x288 with 1 Axes>"
      ]
     },
     "metadata": {
      "needs_background": "light"
     },
     "output_type": "display_data"
    }
   ],
   "source": [
    "sns.countplot(cus_act[(cus_act['cus_age'] == 25) & (cus_act['act_opn_ym'] >= '2015-01-01')]['act_opn_ym'])\n",
    "plt.xticks([56],['2020-03'])\n",
    "plt.title('Age 25 group - account open')"
   ]
  },
  {
   "cell_type": "code",
   "execution_count": 18,
   "metadata": {
    "ExecuteTime": {
     "end_time": "2020-11-29T18:35:03.663995Z",
     "start_time": "2020-11-29T18:35:03.491385Z"
    }
   },
   "outputs": [
    {
     "data": {
      "text/plain": [
       "<AxesSubplot:ylabel='count'>"
      ]
     },
     "execution_count": 18,
     "metadata": {},
     "output_type": "execute_result"
    },
    {
     "data": {
      "image/png": "[encoded data removed]",
      "text/plain": [
       "<Figure size 432x288 with 1 Axes>"
      ]
     },
     "metadata": {
      "needs_background": "light"
     },
     "output_type": "display_data"
    }
   ],
   "source": [
    "march_first = cus_act_agg.loc[cus_act_agg['cus_id'].isin(cus_march['cus_id']),'first_acc']\n",
    "march_first_bi = np.where(march_first=='2020-03-01','0301','not_0301')\n",
    "sns.countplot(march_first_bi)"
   ]
  },
  {
   "cell_type": "code",
   "execution_count": null,
   "metadata": {},
   "outputs": [],
   "source": []
  },
  {
   "cell_type": "code",
   "execution_count": null,
   "metadata": {},
   "outputs": [],
   "source": []
  }
 ],
 "metadata": {
  "kernelspec": {
   "display_name": "simon_env",
   "language": "python",
   "name": "simon_env"
  },
  "language_info": {
   "codemirror_mode": {
    "name": "ipython",
    "version": 3
   },
   "file_extension": ".py",
   "mimetype": "text/x-python",
   "name": "python",
   "nbconvert_exporter": "python",
   "pygments_lexer": "ipython3",
   "version": "3.8.3"
  },
  "toc": {
   "base_numbering": 1,
   "nav_menu": {},
   "number_sections": true,
   "sideBar": true,
   "skip_h1_title": false,
   "title_cell": "Table of Contents",
   "title_sidebar": "Contents",
   "toc_cell": false,
   "toc_position": {},
   "toc_section_display": true,
   "toc_window_display": false
  },
  "varInspector": {
   "cols": {
    "lenName": 16,
    "lenType": 16,
    "lenVar": 40
   },
   "kernels_config": {
    "python": {
     "delete_cmd_postfix": "",
     "delete_cmd_prefix": "del ",
     "library": "var_list.py",
     "varRefreshCmd": "print(var_dic_list())"
    },
    "r": {
     "delete_cmd_postfix": ") ",
     "delete_cmd_prefix": "rm(",
     "library": "var_list.r",
     "varRefreshCmd": "cat(var_dic_list()) "
    }
   },
   "types_to_exclude": [
    "module",
    "function",
    "builtin_function_or_method",
    "instance",
    "_Feature"
   ],
   "window_display": false
  }
 },
 "nbformat": 4,
 "nbformat_minor": 4
}
