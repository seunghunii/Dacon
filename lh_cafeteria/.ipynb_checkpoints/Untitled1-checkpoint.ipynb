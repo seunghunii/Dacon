{
 "cells": [
  {
   "cell_type": "code",
   "execution_count": 146,
   "metadata": {
    "ExecuteTime": {
     "end_time": "2021-06-11T09:55:04.739412Z",
     "start_time": "2021-06-11T09:55:04.724440Z"
    }
   },
   "outputs": [],
   "source": [
    "import pandas as pd\n",
    "import numpy as np\n",
    "import matplotlib.pyplot as plt\n",
    "import seaborn as sns\n",
    "import re\n",
    "from statsmodels.formula.api import ols\n",
    "from sklearn.model_selection import train_test_split\n",
    "from pycaret.regression import *\n",
    "from sklearn.preprocessing import StandardScaler\n",
    "from sklearn.model_selection import GridSearchCV\n",
    "import time\n",
    "import warnings\n",
    "warnings.filterwarnings('ignore')"
   ]
  },
  {
   "cell_type": "code",
   "execution_count": 147,
   "metadata": {
    "ExecuteTime": {
     "end_time": "2021-06-11T09:55:04.755369Z",
     "start_time": "2021-06-11T09:55:04.742390Z"
    }
   },
   "outputs": [],
   "source": [
    "data_dir = 'C:/Users/rsh15/Desktop/seunghuni/dataset/lh_cafeteria_dataset'"
   ]
  },
  {
   "cell_type": "code",
   "execution_count": 148,
   "metadata": {
    "ExecuteTime": {
     "end_time": "2021-06-11T09:55:04.819218Z",
     "start_time": "2021-06-11T09:55:04.758346Z"
    }
   },
   "outputs": [
    {
     "data": {
      "text/html": [
       "<div>\n",
       "<style scoped>\n",
       "    .dataframe tbody tr th:only-of-type {\n",
       "        vertical-align: middle;\n",
       "    }\n",
       "\n",
       "    .dataframe tbody tr th {\n",
       "        vertical-align: top;\n",
       "    }\n",
       "\n",
       "    .dataframe thead th {\n",
       "        text-align: right;\n",
       "    }\n",
       "</style>\n",
       "<table border=\"1\" class=\"dataframe\">\n",
       "  <thead>\n",
       "    <tr style=\"text-align: right;\">\n",
       "      <th></th>\n",
       "      <th>일자</th>\n",
       "      <th>요일</th>\n",
       "      <th>본사정원수</th>\n",
       "      <th>본사휴가자수</th>\n",
       "      <th>본사출장자수</th>\n",
       "      <th>본사시간외근무명령서승인건수</th>\n",
       "      <th>현본사소속재택근무자수</th>\n",
       "      <th>조식메뉴</th>\n",
       "      <th>중식메뉴</th>\n",
       "      <th>석식메뉴</th>\n",
       "      <th>중식계</th>\n",
       "      <th>석식계</th>\n",
       "    </tr>\n",
       "  </thead>\n",
       "  <tbody>\n",
       "    <tr>\n",
       "      <th>0</th>\n",
       "      <td>2016-02-01</td>\n",
       "      <td>월</td>\n",
       "      <td>2601</td>\n",
       "      <td>50</td>\n",
       "      <td>150</td>\n",
       "      <td>238</td>\n",
       "      <td>0.0</td>\n",
       "      <td>모닝롤/찐빵  우유/두유/주스 계란후라이  호두죽/쌀밥 (쌀:국내산) 된장찌개  쥐...</td>\n",
       "      <td>쌀밥/잡곡밥 (쌀,현미흑미:국내산) 오징어찌개  쇠불고기 (쇠고기:호주산) 계란찜 ...</td>\n",
       "      <td>쌀밥/잡곡밥 (쌀,현미흑미:국내산) 육개장  자반고등어구이  두부조림  건파래무침 ...</td>\n",
       "      <td>1039.0</td>\n",
       "      <td>331.0</td>\n",
       "    </tr>\n",
       "    <tr>\n",
       "      <th>1</th>\n",
       "      <td>2016-02-02</td>\n",
       "      <td>화</td>\n",
       "      <td>2601</td>\n",
       "      <td>50</td>\n",
       "      <td>173</td>\n",
       "      <td>319</td>\n",
       "      <td>0.0</td>\n",
       "      <td>모닝롤/단호박샌드  우유/두유/주스 계란후라이  팥죽/쌀밥 (쌀:국내산) 호박젓국찌...</td>\n",
       "      <td>쌀밥/잡곡밥 (쌀,현미흑미:국내산) 김치찌개  가자미튀김  모둠소세지구이  마늘쫑무...</td>\n",
       "      <td>콩나물밥*양념장 (쌀,현미흑미:국내산) 어묵국  유산슬 (쇠고기:호주산) 아삭고추무...</td>\n",
       "      <td>867.0</td>\n",
       "      <td>560.0</td>\n",
       "    </tr>\n",
       "    <tr>\n",
       "      <th>2</th>\n",
       "      <td>2016-02-03</td>\n",
       "      <td>수</td>\n",
       "      <td>2601</td>\n",
       "      <td>56</td>\n",
       "      <td>180</td>\n",
       "      <td>111</td>\n",
       "      <td>0.0</td>\n",
       "      <td>모닝롤/베이글  우유/두유/주스 계란후라이  표고버섯죽/쌀밥 (쌀:국내산) 콩나물국...</td>\n",
       "      <td>카레덮밥 (쌀,현미흑미:국내산) 팽이장국  치킨핑거 (닭고기:국내산) 쫄면야채무침 ...</td>\n",
       "      <td>쌀밥/잡곡밥 (쌀,현미흑미:국내산) 청국장찌개  황태양념구이 (황태:러시아산) 고기...</td>\n",
       "      <td>1017.0</td>\n",
       "      <td>573.0</td>\n",
       "    </tr>\n",
       "    <tr>\n",
       "      <th>3</th>\n",
       "      <td>2016-02-04</td>\n",
       "      <td>목</td>\n",
       "      <td>2601</td>\n",
       "      <td>104</td>\n",
       "      <td>220</td>\n",
       "      <td>355</td>\n",
       "      <td>0.0</td>\n",
       "      <td>모닝롤/토마토샌드  우유/두유/주스 계란후라이  닭죽/쌀밥 (쌀,닭:국내산) 근대국...</td>\n",
       "      <td>쌀밥/잡곡밥 (쌀,현미흑미:국내산) 쇠고기무국  주꾸미볶음  부추전  시금치나물  ...</td>\n",
       "      <td>미니김밥*겨자장 (쌀,현미흑미:국내산) 우동  멕시칸샐러드  군고구마  무피클  포...</td>\n",
       "      <td>978.0</td>\n",
       "      <td>525.0</td>\n",
       "    </tr>\n",
       "    <tr>\n",
       "      <th>4</th>\n",
       "      <td>2016-02-05</td>\n",
       "      <td>금</td>\n",
       "      <td>2601</td>\n",
       "      <td>278</td>\n",
       "      <td>181</td>\n",
       "      <td>34</td>\n",
       "      <td>0.0</td>\n",
       "      <td>모닝롤/와플  우유/두유/주스 계란후라이  쇠고기죽/쌀밥 (쌀:국내산) 재첩국  방...</td>\n",
       "      <td>쌀밥/잡곡밥 (쌀,현미흑미:국내산) 떡국  돈육씨앗강정 (돼지고기:국내산) 우엉잡채...</td>\n",
       "      <td>쌀밥/잡곡밥 (쌀,현미흑미:국내산) 차돌박이찌개 (쇠고기:호주산) 닭갈비 (닭고기:...</td>\n",
       "      <td>925.0</td>\n",
       "      <td>330.0</td>\n",
       "    </tr>\n",
       "  </tbody>\n",
       "</table>\n",
       "</div>"
      ],
      "text/plain": [
       "           일자 요일  본사정원수  본사휴가자수  본사출장자수  본사시간외근무명령서승인건수  현본사소속재택근무자수  \\\n",
       "0  2016-02-01  월   2601      50     150             238          0.0   \n",
       "1  2016-02-02  화   2601      50     173             319          0.0   \n",
       "2  2016-02-03  수   2601      56     180             111          0.0   \n",
       "3  2016-02-04  목   2601     104     220             355          0.0   \n",
       "4  2016-02-05  금   2601     278     181              34          0.0   \n",
       "\n",
       "                                                조식메뉴  \\\n",
       "0  모닝롤/찐빵  우유/두유/주스 계란후라이  호두죽/쌀밥 (쌀:국내산) 된장찌개  쥐...   \n",
       "1  모닝롤/단호박샌드  우유/두유/주스 계란후라이  팥죽/쌀밥 (쌀:국내산) 호박젓국찌...   \n",
       "2  모닝롤/베이글  우유/두유/주스 계란후라이  표고버섯죽/쌀밥 (쌀:국내산) 콩나물국...   \n",
       "3  모닝롤/토마토샌드  우유/두유/주스 계란후라이  닭죽/쌀밥 (쌀,닭:국내산) 근대국...   \n",
       "4  모닝롤/와플  우유/두유/주스 계란후라이  쇠고기죽/쌀밥 (쌀:국내산) 재첩국  방...   \n",
       "\n",
       "                                                중식메뉴  \\\n",
       "0  쌀밥/잡곡밥 (쌀,현미흑미:국내산) 오징어찌개  쇠불고기 (쇠고기:호주산) 계란찜 ...   \n",
       "1  쌀밥/잡곡밥 (쌀,현미흑미:국내산) 김치찌개  가자미튀김  모둠소세지구이  마늘쫑무...   \n",
       "2  카레덮밥 (쌀,현미흑미:국내산) 팽이장국  치킨핑거 (닭고기:국내산) 쫄면야채무침 ...   \n",
       "3  쌀밥/잡곡밥 (쌀,현미흑미:국내산) 쇠고기무국  주꾸미볶음  부추전  시금치나물  ...   \n",
       "4  쌀밥/잡곡밥 (쌀,현미흑미:국내산) 떡국  돈육씨앗강정 (돼지고기:국내산) 우엉잡채...   \n",
       "\n",
       "                                                석식메뉴     중식계    석식계  \n",
       "0  쌀밥/잡곡밥 (쌀,현미흑미:국내산) 육개장  자반고등어구이  두부조림  건파래무침 ...  1039.0  331.0  \n",
       "1  콩나물밥*양념장 (쌀,현미흑미:국내산) 어묵국  유산슬 (쇠고기:호주산) 아삭고추무...   867.0  560.0  \n",
       "2  쌀밥/잡곡밥 (쌀,현미흑미:국내산) 청국장찌개  황태양념구이 (황태:러시아산) 고기...  1017.0  573.0  \n",
       "3  미니김밥*겨자장 (쌀,현미흑미:국내산) 우동  멕시칸샐러드  군고구마  무피클  포...   978.0  525.0  \n",
       "4  쌀밥/잡곡밥 (쌀,현미흑미:국내산) 차돌박이찌개 (쇠고기:호주산) 닭갈비 (닭고기:...   925.0  330.0  "
      ]
     },
     "execution_count": 148,
     "metadata": {},
     "output_type": "execute_result"
    }
   ],
   "source": [
    "df = pd.read_csv(data_dir+'/train.csv')\n",
    "df.head()"
   ]
  },
  {
   "cell_type": "code",
   "execution_count": 149,
   "metadata": {
    "ExecuteTime": {
     "end_time": "2021-06-11T09:55:04.835142Z",
     "start_time": "2021-06-11T09:55:04.822196Z"
    }
   },
   "outputs": [],
   "source": [
    "cols = ['일자','요일','본사정원수','본사휴가자수','본사출장자수','본사시간외근무명령서승인건수',\n",
    "        '현본사소속재택근무자수','중식계','석식계']\n",
    "df = df[cols]\n",
    "df.columns = ['date','dayofweek','p_total','p_off','p_biztrip','p_after','p_athome','y_lunch','y_dinner']"
   ]
  },
  {
   "cell_type": "code",
   "execution_count": 150,
   "metadata": {
    "ExecuteTime": {
     "end_time": "2021-06-11T09:55:04.865662Z",
     "start_time": "2021-06-11T09:55:04.837134Z"
    }
   },
   "outputs": [
    {
     "data": {
      "text/html": [
       "<div>\n",
       "<style scoped>\n",
       "    .dataframe tbody tr th:only-of-type {\n",
       "        vertical-align: middle;\n",
       "    }\n",
       "\n",
       "    .dataframe tbody tr th {\n",
       "        vertical-align: top;\n",
       "    }\n",
       "\n",
       "    .dataframe thead th {\n",
       "        text-align: right;\n",
       "    }\n",
       "</style>\n",
       "<table border=\"1\" class=\"dataframe\">\n",
       "  <thead>\n",
       "    <tr style=\"text-align: right;\">\n",
       "      <th></th>\n",
       "      <th>date</th>\n",
       "      <th>dayofweek</th>\n",
       "      <th>p_total</th>\n",
       "      <th>p_off</th>\n",
       "      <th>p_biztrip</th>\n",
       "      <th>p_after</th>\n",
       "      <th>p_athome</th>\n",
       "      <th>y_lunch</th>\n",
       "      <th>y_dinner</th>\n",
       "    </tr>\n",
       "  </thead>\n",
       "  <tbody>\n",
       "    <tr>\n",
       "      <th>0</th>\n",
       "      <td>2016-02-01</td>\n",
       "      <td>월</td>\n",
       "      <td>2601</td>\n",
       "      <td>50</td>\n",
       "      <td>150</td>\n",
       "      <td>238</td>\n",
       "      <td>0.0</td>\n",
       "      <td>1039.0</td>\n",
       "      <td>331.0</td>\n",
       "    </tr>\n",
       "    <tr>\n",
       "      <th>1</th>\n",
       "      <td>2016-02-02</td>\n",
       "      <td>화</td>\n",
       "      <td>2601</td>\n",
       "      <td>50</td>\n",
       "      <td>173</td>\n",
       "      <td>319</td>\n",
       "      <td>0.0</td>\n",
       "      <td>867.0</td>\n",
       "      <td>560.0</td>\n",
       "    </tr>\n",
       "    <tr>\n",
       "      <th>2</th>\n",
       "      <td>2016-02-03</td>\n",
       "      <td>수</td>\n",
       "      <td>2601</td>\n",
       "      <td>56</td>\n",
       "      <td>180</td>\n",
       "      <td>111</td>\n",
       "      <td>0.0</td>\n",
       "      <td>1017.0</td>\n",
       "      <td>573.0</td>\n",
       "    </tr>\n",
       "    <tr>\n",
       "      <th>3</th>\n",
       "      <td>2016-02-04</td>\n",
       "      <td>목</td>\n",
       "      <td>2601</td>\n",
       "      <td>104</td>\n",
       "      <td>220</td>\n",
       "      <td>355</td>\n",
       "      <td>0.0</td>\n",
       "      <td>978.0</td>\n",
       "      <td>525.0</td>\n",
       "    </tr>\n",
       "    <tr>\n",
       "      <th>4</th>\n",
       "      <td>2016-02-05</td>\n",
       "      <td>금</td>\n",
       "      <td>2601</td>\n",
       "      <td>278</td>\n",
       "      <td>181</td>\n",
       "      <td>34</td>\n",
       "      <td>0.0</td>\n",
       "      <td>925.0</td>\n",
       "      <td>330.0</td>\n",
       "    </tr>\n",
       "  </tbody>\n",
       "</table>\n",
       "</div>"
      ],
      "text/plain": [
       "         date dayofweek  p_total  p_off  p_biztrip  p_after  p_athome  \\\n",
       "0  2016-02-01         월     2601     50        150      238       0.0   \n",
       "1  2016-02-02         화     2601     50        173      319       0.0   \n",
       "2  2016-02-03         수     2601     56        180      111       0.0   \n",
       "3  2016-02-04         목     2601    104        220      355       0.0   \n",
       "4  2016-02-05         금     2601    278        181       34       0.0   \n",
       "\n",
       "   y_lunch  y_dinner  \n",
       "0   1039.0     331.0  \n",
       "1    867.0     560.0  \n",
       "2   1017.0     573.0  \n",
       "3    978.0     525.0  \n",
       "4    925.0     330.0  "
      ]
     },
     "execution_count": 150,
     "metadata": {},
     "output_type": "execute_result"
    }
   ],
   "source": [
    "df.head()"
   ]
  },
  {
   "cell_type": "markdown",
   "metadata": {},
   "source": [
    "## date"
   ]
  },
  {
   "cell_type": "code",
   "execution_count": 151,
   "metadata": {
    "ExecuteTime": {
     "end_time": "2021-06-11T09:55:04.881625Z",
     "start_time": "2021-06-11T09:55:04.868655Z"
    }
   },
   "outputs": [],
   "source": [
    "df['date'] = pd.to_datetime(df['date'])"
   ]
  },
  {
   "cell_type": "code",
   "execution_count": 152,
   "metadata": {
    "ExecuteTime": {
     "end_time": "2021-06-11T09:55:04.913534Z",
     "start_time": "2021-06-11T09:55:04.885611Z"
    }
   },
   "outputs": [],
   "source": [
    "# spring, summer, fall, winter\n",
    "df['date_month_num'] = df['date'].dt.month\n",
    "df['date_month'] = df['date_month_num'].replace([3,4,5],'spring').replace([6,7,8],'summer').replace([9,10,11],'fall').replace([12,1,2],'winter')"
   ]
  },
  {
   "cell_type": "code",
   "execution_count": 153,
   "metadata": {
    "ExecuteTime": {
     "end_time": "2021-06-11T09:55:05.341425Z",
     "start_time": "2021-06-11T09:55:04.918522Z"
    }
   },
   "outputs": [
    {
     "data": {
      "text/plain": [
       "(400.0, 500.0)"
      ]
     },
     "execution_count": 153,
     "metadata": {},
     "output_type": "execute_result"
    },
    {
     "data": {
      "image/png": "[encoded data removed]",
      "text/plain": [
       "<Figure size 1296x576 with 2 Axes>"
      ]
     },
     "metadata": {
      "needs_background": "light"
     },
     "output_type": "display_data"
    }
   ],
   "source": [
    "fig,ax = plt.subplots(1,2,figsize=(18,8))\n",
    "# for launch\n",
    "sns.barplot(x='date_month',y='y_lunch',data=df,ci=None,\n",
    "            order=['spring','summer','fall','winter'],ax=ax[0]);\n",
    "ax[0].set_title('y_launch by semester')\n",
    "ax[0].set_ylim(800,1000);\n",
    "\n",
    "# for dinner\n",
    "sns.barplot(x='date_month',y='y_dinner',data=df,ci=None,\n",
    "            order=['spring','summer','fall','winter'],ax=ax[1]);\n",
    "ax[1].set_title('y_dinner by semester')\n",
    "ax[1].set_ylim(400,500)"
   ]
  },
  {
   "cell_type": "markdown",
   "metadata": {
    "ExecuteTime": {
     "end_time": "2021-06-09T09:27:46.793113Z",
     "start_time": "2021-06-09T09:27:46.761199Z"
    }
   },
   "source": [
    "## dayofweek"
   ]
  },
  {
   "cell_type": "code",
   "execution_count": 154,
   "metadata": {
    "ExecuteTime": {
     "end_time": "2021-06-11T09:55:05.357382Z",
     "start_time": "2021-06-11T09:55:05.344385Z"
    }
   },
   "outputs": [],
   "source": [
    "df['dayofweek'] = df['dayofweek'].replace({\n",
    "    '월':'Mon','화':'Tue','수':'Wed','목':'Thu',\n",
    "    '금':'Fri','토':'Sat','일':'Sun'\n",
    "})"
   ]
  },
  {
   "cell_type": "code",
   "execution_count": 155,
   "metadata": {
    "ExecuteTime": {
     "end_time": "2021-06-11T09:55:05.769549Z",
     "start_time": "2021-06-11T09:55:05.360343Z"
    }
   },
   "outputs": [
    {
     "data": {
      "image/png": "[encoded data removed]",
      "text/plain": [
       "<Figure size 1296x576 with 2 Axes>"
      ]
     },
     "metadata": {
      "needs_background": "light"
     },
     "output_type": "display_data"
    }
   ],
   "source": [
    "fig,ax = plt.subplots(1,2,figsize=(18,8))\n",
    "# for launch\n",
    "sns.barplot(x='dayofweek',y='y_lunch',data=df,ci=None,\n",
    "            order=['Mon','Tue','Wed','Thu','Fri'],ax=ax[0]);\n",
    "ax[0].set_title('y_launch by weekday');\n",
    "ax[0].set_ylim(500,1200);\n",
    "\n",
    "# for dinner\n",
    "sns.barplot(x='dayofweek',y='y_dinner',data=df,ci=None,\n",
    "            order=['Mon','Tue','Wed','Thu','Fri'],ax=ax[1]);\n",
    "ax[1].set_title('y_dinner by weekday');\n",
    "ax[1].set_ylim(200,600);"
   ]
  },
  {
   "cell_type": "code",
   "execution_count": 156,
   "metadata": {
    "ExecuteTime": {
     "end_time": "2021-06-11T09:55:05.785506Z",
     "start_time": "2021-06-11T09:55:05.771511Z"
    }
   },
   "outputs": [],
   "source": [
    "df['if_weekend'] = np.where(df['dayofweek']=='Fri',1,0)"
   ]
  },
  {
   "cell_type": "code",
   "execution_count": 157,
   "metadata": {
    "ExecuteTime": {
     "end_time": "2021-06-11T09:55:06.085658Z",
     "start_time": "2021-06-11T09:55:05.788478Z"
    }
   },
   "outputs": [
    {
     "data": {
      "image/png": "[encoded data removed]",
      "text/plain": [
       "<Figure size 1296x576 with 2 Axes>"
      ]
     },
     "metadata": {
      "needs_background": "light"
     },
     "output_type": "display_data"
    }
   ],
   "source": [
    "fig,ax = plt.subplots(1,2,figsize=(18,8))\n",
    "# for launch\n",
    "sns.barplot(x='if_weekend',y='y_lunch',data=df,ci=None,\n",
    "            order=[0,1],ax=ax[0]);\n",
    "ax[0].set_title('y_launch by weekday');\n",
    "ax[0].set_ylim(500,1000);\n",
    "\n",
    "# for dinner\n",
    "sns.barplot(x='if_weekend',y='y_dinner',data=df,ci=None,\n",
    "            order=[0,1],ax=ax[1]);\n",
    "ax[1].set_title('y_dinner by weekday');\n",
    "ax[1].set_ylim(300,600);"
   ]
  },
  {
   "cell_type": "markdown",
   "metadata": {},
   "source": [
    "## p_total"
   ]
  },
  {
   "cell_type": "code",
   "execution_count": 158,
   "metadata": {
    "ExecuteTime": {
     "end_time": "2021-06-11T09:55:06.100580Z",
     "start_time": "2021-06-11T09:55:06.088612Z"
    }
   },
   "outputs": [],
   "source": [
    "df['p_var'] = df['p_total'] - df['p_total'].shift(1)\n",
    "df['p_var'] = df['p_var'].fillna(0)"
   ]
  },
  {
   "cell_type": "code",
   "execution_count": 159,
   "metadata": {
    "ExecuteTime": {
     "end_time": "2021-06-11T09:55:07.946805Z",
     "start_time": "2021-06-11T09:55:06.102577Z"
    }
   },
   "outputs": [
    {
     "data": {
      "image/png": "[encoded data removed]",
      "text/plain": [
       "<Figure size 2880x2160 with 2 Axes>"
      ]
     },
     "metadata": {
      "needs_background": "light"
     },
     "output_type": "display_data"
    }
   ],
   "source": [
    "fig,ax = plt.subplots(2,1,figsize=(40,30));\n",
    "sns.barplot(x='p_var',y='y_lunch',data=df,ci=None,ax=ax[0]);\n",
    "ax[0].axvspan(-1,19,alpha=0.2,color='blue');\n",
    "ax[0].axvspan(19,46,alpha=0.2,color='orange');\n",
    "sns.barplot(x='p_var',y='y_dinner',data=df,ci=None,ax=ax[1]);\n",
    "ax[1].axvspan(-1,19,alpha=0.2,color='blue');\n",
    "ax[1].axvspan(19,46,alpha=0.2,color='orange');"
   ]
  },
  {
   "cell_type": "code",
   "execution_count": 160,
   "metadata": {
    "ExecuteTime": {
     "end_time": "2021-06-11T09:55:07.962732Z",
     "start_time": "2021-06-11T09:55:07.948770Z"
    }
   },
   "outputs": [],
   "source": [
    "p_var_list = []\n",
    "for k in df['p_var']:\n",
    "    if k == 0:\n",
    "        p_var_list.append('is_0')\n",
    "    elif k < 0:\n",
    "        p_var_list.append('under_0')\n",
    "    elif k > 0:\n",
    "        p_var_list.append('over_0')"
   ]
  },
  {
   "cell_type": "code",
   "execution_count": 161,
   "metadata": {
    "ExecuteTime": {
     "end_time": "2021-06-11T09:55:08.391835Z",
     "start_time": "2021-06-11T09:55:07.966722Z"
    }
   },
   "outputs": [
    {
     "data": {
      "text/plain": [
       "Text(-0.45, 464.77261410788384, 'avg_dinner:461.77')"
      ]
     },
     "execution_count": 161,
     "metadata": {},
     "output_type": "execute_result"
    },
    {
     "data": {
      "image/png": "[encoded data removed]",
      "text/plain": [
       "<Figure size 1296x432 with 2 Axes>"
      ]
     },
     "metadata": {
      "needs_background": "light"
     },
     "output_type": "display_data"
    }
   ],
   "source": [
    "fig,ax = plt.subplots(1,2,figsize=(18,6))\n",
    "# lunch by people diff\n",
    "sns.barplot(x=p_var_list,y='y_lunch',data=df,ci=None,ax=ax[0])\n",
    "ax[0].set_ylim(400,1200)\n",
    "lunch_mean = df['y_lunch'].mean()\n",
    "ax[0].axhline(lunch_mean,color='red')\n",
    "ax[0].text(-0.45,lunch_mean+10,'avg_lunch:{}'.format(round(lunch_mean,2)))\n",
    "\n",
    "# dinner by people diff\n",
    "sns.barplot(x=p_var_list,y='y_dinner',data=df,ci=None,ax=ax[1])\n",
    "ax[1].set_ylim(400,600)\n",
    "dinner_mean = df['y_dinner'].mean()\n",
    "ax[1].axhline(dinner_mean,color='red')\n",
    "ax[1].text(-0.45,dinner_mean+3,'avg_dinner:{}'.format(round(dinner_mean,2)))"
   ]
  },
  {
   "cell_type": "markdown",
   "metadata": {
    "ExecuteTime": {
     "end_time": "2021-06-09T11:07:24.082016Z",
     "start_time": "2021-06-09T11:07:24.038131Z"
    }
   },
   "source": [
    "## p_off"
   ]
  },
  {
   "cell_type": "code",
   "execution_count": 162,
   "metadata": {
    "ExecuteTime": {
     "end_time": "2021-06-11T09:55:08.423150Z",
     "start_time": "2021-06-11T09:55:08.394228Z"
    }
   },
   "outputs": [
    {
     "ename": "NameError",
     "evalue": "name 'LinearRegression' is not defined",
     "output_type": "error",
     "traceback": [
      "\u001b[1;31m---------------------------------------------------------------------------\u001b[0m",
      "\u001b[1;31mNameError\u001b[0m                                 Traceback (most recent call last)",
      "\u001b[1;32m<ipython-input-162-5cfc570381d3>\u001b[0m in \u001b[0;36m<module>\u001b[1;34m\u001b[0m\n\u001b[1;32m----> 1\u001b[1;33m \u001b[0mlm\u001b[0m \u001b[1;33m=\u001b[0m \u001b[0mLinearRegression\u001b[0m\u001b[1;33m(\u001b[0m\u001b[1;33m)\u001b[0m\u001b[1;33m\u001b[0m\u001b[1;33m\u001b[0m\u001b[0m\n\u001b[0m\u001b[0;32m      2\u001b[0m \u001b[0mlm_off_lunch\u001b[0m  \u001b[1;33m=\u001b[0m \u001b[0mols\u001b[0m\u001b[1;33m(\u001b[0m\u001b[1;34m'y_lunch ~ p_off'\u001b[0m\u001b[1;33m,\u001b[0m\u001b[0mdata\u001b[0m\u001b[1;33m=\u001b[0m\u001b[0mdf\u001b[0m\u001b[1;33m)\u001b[0m\u001b[1;33m.\u001b[0m\u001b[0mfit\u001b[0m\u001b[1;33m(\u001b[0m\u001b[1;33m)\u001b[0m\u001b[1;33m\u001b[0m\u001b[1;33m\u001b[0m\u001b[0m\n\u001b[0;32m      3\u001b[0m \u001b[0mlm_off_dinner\u001b[0m \u001b[1;33m=\u001b[0m \u001b[0mols\u001b[0m\u001b[1;33m(\u001b[0m\u001b[1;34m'y_dinner ~ p_off'\u001b[0m\u001b[1;33m,\u001b[0m\u001b[0mdata\u001b[0m\u001b[1;33m=\u001b[0m\u001b[0mdf\u001b[0m\u001b[1;33m)\u001b[0m\u001b[1;33m.\u001b[0m\u001b[0mfit\u001b[0m\u001b[1;33m(\u001b[0m\u001b[1;33m)\u001b[0m\u001b[1;33m\u001b[0m\u001b[1;33m\u001b[0m\u001b[0m\n",
      "\u001b[1;31mNameError\u001b[0m: name 'LinearRegression' is not defined"
     ]
    }
   ],
   "source": [
    "lm = LinearRegression()\n",
    "lm_off_lunch  = ols('y_lunch ~ p_off',data=df).fit()\n",
    "lm_off_dinner = ols('y_dinner ~ p_off',data=df).fit()"
   ]
  },
  {
   "cell_type": "code",
   "execution_count": null,
   "metadata": {
    "ExecuteTime": {
     "end_time": "2021-06-11T09:55:08.429142Z",
     "start_time": "2021-06-11T09:55:04.765Z"
    }
   },
   "outputs": [],
   "source": [
    "print(lm_off_lunch.summary().tables[0])\n",
    "print(lm_off_dinner.summary().tables[0])"
   ]
  },
  {
   "cell_type": "code",
   "execution_count": null,
   "metadata": {
    "ExecuteTime": {
     "end_time": "2021-06-11T09:55:08.432128Z",
     "start_time": "2021-06-11T09:55:04.767Z"
    }
   },
   "outputs": [],
   "source": [
    "print(lm_off_lunch.summary().tables[1])\n",
    "print(lm_off_dinner.summary().tables[1])"
   ]
  },
  {
   "cell_type": "code",
   "execution_count": null,
   "metadata": {
    "ExecuteTime": {
     "end_time": "2021-06-11T09:55:08.434122Z",
     "start_time": "2021-06-11T09:55:04.769Z"
    }
   },
   "outputs": [],
   "source": [
    "fig,ax = plt.subplots(1,2,figsize=(18,8))\n",
    "sns.regplot(x='p_off',y='y_lunch',data=df[df['p_off']>0],ax=ax[0],ci=None,\n",
    "            line_kws={\"color\": \"red\",\"alpha\":0.5})\n",
    "sns.regplot(x='p_off',y='y_dinner',data=df[df['p_off']>0],ax=ax[1],ci=None,\n",
    "            line_kws={\"color\": \"red\",\"alpha\": 0.5})"
   ]
  },
  {
   "cell_type": "code",
   "execution_count": null,
   "metadata": {
    "ExecuteTime": {
     "end_time": "2021-06-11T09:55:08.435116Z",
     "start_time": "2021-06-11T09:55:04.771Z"
    }
   },
   "outputs": [],
   "source": [
    "fig,ax = plt.subplots(1,2,figsize=(18,6))\n",
    "sns.histplot(df['p_off'],ax=ax[0])\n",
    "sns.histplot(np.log(df['p_off']),ax=ax[1])"
   ]
  },
  {
   "cell_type": "markdown",
   "metadata": {},
   "source": [
    "## p_biztrip"
   ]
  },
  {
   "cell_type": "code",
   "execution_count": null,
   "metadata": {
    "ExecuteTime": {
     "end_time": "2021-06-11T09:55:08.437110Z",
     "start_time": "2021-06-11T09:55:04.773Z"
    }
   },
   "outputs": [],
   "source": [
    "lm_trip_lunch  = ols('y_lunch ~ p_biztrip',data=df).fit()\n",
    "lm_trip_dinner = ols('y_dinner ~ p_biztrip',data=df).fit()"
   ]
  },
  {
   "cell_type": "code",
   "execution_count": null,
   "metadata": {
    "ExecuteTime": {
     "end_time": "2021-06-11T09:55:08.438110Z",
     "start_time": "2021-06-11T09:55:04.775Z"
    }
   },
   "outputs": [],
   "source": [
    "print(lm_trip_lunch.summary().tables[0])\n",
    "print(lm_trip_dinner.summary().tables[0])"
   ]
  },
  {
   "cell_type": "code",
   "execution_count": null,
   "metadata": {
    "ExecuteTime": {
     "end_time": "2021-06-11T09:55:08.440104Z",
     "start_time": "2021-06-11T09:55:04.777Z"
    }
   },
   "outputs": [],
   "source": [
    "print(lm_trip_lunch.summary().tables[1])\n",
    "print(lm_trip_dinner.summary().tables[1])"
   ]
  },
  {
   "cell_type": "code",
   "execution_count": null,
   "metadata": {
    "ExecuteTime": {
     "end_time": "2021-06-11T09:55:08.441100Z",
     "start_time": "2021-06-11T09:55:04.779Z"
    }
   },
   "outputs": [],
   "source": [
    "fig,ax = plt.subplots(1,2,figsize=(18,8))\n",
    "sns.regplot(x='p_biztrip',y='y_lunch',data=df[df['p_biztrip']>0],ax=ax[0],ci=None,\n",
    "            line_kws={\"color\": \"red\",\"alpha\": 0.5})\n",
    "sns.regplot(x='p_biztrip',y='y_dinner',data=df[df['p_biztrip']>0],ax=ax[1],ci=None,\n",
    "            line_kws={\"color\": \"red\",\"alpha\": 0.5})"
   ]
  },
  {
   "cell_type": "markdown",
   "metadata": {},
   "source": [
    "## p_total - (p_off + p_biztrip)"
   ]
  },
  {
   "cell_type": "code",
   "execution_count": null,
   "metadata": {
    "ExecuteTime": {
     "end_time": "2021-06-11T09:55:08.442097Z",
     "start_time": "2021-06-11T09:55:04.782Z"
    }
   },
   "outputs": [],
   "source": [
    "df['p_atoffice'] = df['p_total'] - (df['p_off']+df['p_biztrip'])\n",
    "df['p_atoffice'][0:5]"
   ]
  },
  {
   "cell_type": "code",
   "execution_count": null,
   "metadata": {
    "ExecuteTime": {
     "end_time": "2021-06-11T09:55:08.444092Z",
     "start_time": "2021-06-11T09:55:04.784Z"
    }
   },
   "outputs": [],
   "source": [
    "fig,ax = plt.subplots(1,2,figsize=(18,6))\n",
    "sns.regplot(x='p_atoffice',y='y_lunch',ax=ax[0],\n",
    "            ci=None,line_kws={\"color\": \"red\",\"alpha\": 0.5})\n",
    "sns.regplot(x=aa,y=df['y_dinner'],ax=ax[1],ci=None,\n",
    "           line_kws={\"color\": \"red\",\"alpha\": 0.5})"
   ]
  },
  {
   "cell_type": "code",
   "execution_count": null,
   "metadata": {
    "ExecuteTime": {
     "end_time": "2021-06-11T09:55:08.447091Z",
     "start_time": "2021-06-11T09:55:04.786Z"
    }
   },
   "outputs": [],
   "source": [
    "lunch_md1 = ols('y_lunch ~ p_atoffice',data=df).fit()\n",
    "lunch_md2 = ols('y_lunch ~ p_total',data=df).fit()"
   ]
  },
  {
   "cell_type": "code",
   "execution_count": null,
   "metadata": {
    "ExecuteTime": {
     "end_time": "2021-06-11T09:55:08.449078Z",
     "start_time": "2021-06-11T09:55:04.789Z"
    }
   },
   "outputs": [],
   "source": [
    "print(lunch_md1.summary().tables[0])\n",
    "print(lunch_md2.summary().tables[0])"
   ]
  },
  {
   "cell_type": "markdown",
   "metadata": {},
   "source": [
    "## p_atoffice / p_total"
   ]
  },
  {
   "cell_type": "code",
   "execution_count": null,
   "metadata": {
    "ExecuteTime": {
     "end_time": "2021-06-11T09:55:08.450087Z",
     "start_time": "2021-06-11T09:55:04.792Z"
    }
   },
   "outputs": [],
   "source": [
    "df['p_office'] = df['p_atoffice'] / df['p_total']\n",
    "fig,ax = plt.subplots(1,2,figsize=(18,6))\n",
    "sns.regplot(x='p_office',y='y_lunch',data=df,ci=None,\n",
    "            line_kws={'color':'red','alpha':0.5},ax=ax[0])\n",
    "sns.regplot(x='p_office',y='y_dinner',data=df,ci=None,\n",
    "            line_kws={'color':'red','alpha':0.5},ax=ax[1])"
   ]
  },
  {
   "cell_type": "code",
   "execution_count": null,
   "metadata": {
    "ExecuteTime": {
     "end_time": "2021-06-11T09:55:08.452070Z",
     "start_time": "2021-06-11T09:55:04.795Z"
    }
   },
   "outputs": [],
   "source": [
    "lunch_office_md = ols('y_lunch ~ p_office',data=df).fit()\n",
    "lunch_office_md.summary()"
   ]
  },
  {
   "cell_type": "code",
   "execution_count": null,
   "metadata": {
    "ExecuteTime": {
     "end_time": "2021-06-11T09:55:08.454065Z",
     "start_time": "2021-06-11T09:55:04.798Z"
    }
   },
   "outputs": [],
   "source": [
    "lunch_office_md = ols('y_dinner ~ p_office',data=df).fit()\n",
    "lunch_office_md.summary()"
   ]
  },
  {
   "cell_type": "markdown",
   "metadata": {
    "ExecuteTime": {
     "end_time": "2021-06-10T08:55:05.738350Z",
     "start_time": "2021-06-10T08:55:05.714419Z"
    }
   },
   "source": [
    "## p_after"
   ]
  },
  {
   "cell_type": "code",
   "execution_count": null,
   "metadata": {
    "ExecuteTime": {
     "end_time": "2021-06-11T09:55:08.456061Z",
     "start_time": "2021-06-11T09:55:04.801Z"
    }
   },
   "outputs": [],
   "source": [
    "fig,ax = plt.subplots(1,2,figsize=(18,6));\n",
    "sns.regplot(x='p_after',y='y_lunch',data=df,ci=None,\n",
    "            line_kws={'color':'red','alpha':0.5},ax=ax[0])\n",
    "sns.regplot(x='p_after',y='y_dinner',data=df,ci=None,\n",
    "            line_kws={'color':'red','alpha':0.5},ax=ax[1])\n"
   ]
  },
  {
   "cell_type": "markdown",
   "metadata": {},
   "source": [
    "## modeling - for lunch"
   ]
  },
  {
   "cell_type": "markdown",
   "metadata": {},
   "source": [
    "### preparation"
   ]
  },
  {
   "cell_type": "code",
   "execution_count": null,
   "metadata": {
    "ExecuteTime": {
     "end_time": "2021-06-11T09:55:08.457057Z",
     "start_time": "2021-06-11T09:55:04.805Z"
    }
   },
   "outputs": [],
   "source": [
    "df_lunch = df.copy()\n",
    "df_dummies = pd.get_dummies(df[['dayofweek','date_month']])\n",
    "df_lunch.drop(['date','dayofweek','date_month','y_dinner'],axis=1,inplace=True)"
   ]
  },
  {
   "cell_type": "code",
   "execution_count": null,
   "metadata": {
    "ExecuteTime": {
     "end_time": "2021-06-11T09:55:08.459066Z",
     "start_time": "2021-06-11T09:55:04.807Z"
    }
   },
   "outputs": [],
   "source": [
    "scaler = StandardScaler()\n",
    "no_scale_cols = ['if_weekend']\n",
    "tmp_cols = df_lunch.drop(no_scale_cols,axis=1).columns.values\n",
    "df_lunch[tmp_cols] = scaler.fit_transform(df_lunch[tmp_cols])"
   ]
  },
  {
   "cell_type": "code",
   "execution_count": null,
   "metadata": {
    "ExecuteTime": {
     "end_time": "2021-06-11T09:55:08.461049Z",
     "start_time": "2021-06-11T09:55:04.810Z"
    }
   },
   "outputs": [],
   "source": [
    "df_lunch_scaled = pd.concat([df_lunch,df_dummies],axis=1)"
   ]
  },
  {
   "cell_type": "code",
   "execution_count": null,
   "metadata": {
    "ExecuteTime": {
     "end_time": "2021-06-11T09:55:08.464041Z",
     "start_time": "2021-06-11T09:55:04.812Z"
    }
   },
   "outputs": [],
   "source": [
    "train, valid = train_test_split(df_lunch_scaled,\n",
    "                                test_size=0.2, \n",
    "                                shuffle=True)"
   ]
  },
  {
   "cell_type": "markdown",
   "metadata": {},
   "source": [
    "### pycaret"
   ]
  },
  {
   "cell_type": "code",
   "execution_count": 60,
   "metadata": {
    "ExecuteTime": {
     "end_time": "2021-06-11T06:23:43.420851Z",
     "start_time": "2021-06-11T06:23:36.557217Z"
    }
   },
   "outputs": [
    {
     "ename": "ValueError",
     "evalue": "Column type forced is either target column or doesn't exist in the dataset.",
     "output_type": "error",
     "traceback": [
      "\u001b[1;31m---------------------------------------------------------------------------\u001b[0m",
      "\u001b[1;31mValueError\u001b[0m                                Traceback (most recent call last)",
      "\u001b[1;32m<ipython-input-60-7e6eb7e5516e>\u001b[0m in \u001b[0;36m<module>\u001b[1;34m\u001b[0m\n\u001b[1;32m----> 1\u001b[1;33m pycaret_set = setup(df_lunch,target='y_lunch',train_size=0.9,\n\u001b[0m\u001b[0;32m      2\u001b[0m                     \u001b[0mfeature_selection\u001b[0m\u001b[1;33m=\u001b[0m\u001b[1;32mTrue\u001b[0m\u001b[1;33m,\u001b[0m\u001b[0mfeature_selection_threshold\u001b[0m\u001b[1;33m=\u001b[0m\u001b[1;36m0.5\u001b[0m\u001b[1;33m,\u001b[0m\u001b[1;33m\u001b[0m\u001b[1;33m\u001b[0m\u001b[0m\n\u001b[0;32m      3\u001b[0m                     \u001b[0mnumeric_features\u001b[0m\u001b[1;33m=\u001b[0m\u001b[1;33m[\u001b[0m\u001b[1;34m'p_total'\u001b[0m\u001b[1;33m,\u001b[0m\u001b[1;34m'p_off'\u001b[0m\u001b[1;33m,\u001b[0m\u001b[1;34m'p_biztrip'\u001b[0m\u001b[1;33m,\u001b[0m\u001b[1;34m'p_after'\u001b[0m\u001b[1;33m,\u001b[0m\u001b[1;34m'p_athome'\u001b[0m\u001b[1;33m,\u001b[0m\u001b[1;34m'p_atoffice'\u001b[0m\u001b[1;33m,\u001b[0m\u001b[1;34m'p_after_ratio'\u001b[0m\u001b[1;33m]\u001b[0m\u001b[1;33m,\u001b[0m\u001b[1;33m\u001b[0m\u001b[1;33m\u001b[0m\u001b[0m\n\u001b[0;32m      4\u001b[0m                     categorical_features=['if_weekend','dayofweek_Fri','dayofweek_Mon','dayofweek_Thu','dayofweek_Tue',\n\u001b[0;32m      5\u001b[0m                                           \u001b[1;34m'dayofweek_Wed'\u001b[0m\u001b[1;33m,\u001b[0m\u001b[1;34m'date_month_fall'\u001b[0m\u001b[1;33m,\u001b[0m\u001b[1;34m'date_month_spring'\u001b[0m\u001b[1;33m,\u001b[0m\u001b[1;34m'date_month_summer'\u001b[0m\u001b[1;33m,\u001b[0m\u001b[1;33m\u001b[0m\u001b[1;33m\u001b[0m\u001b[0m\n",
      "\u001b[1;32m~\\AppData\\Roaming\\Python\\Python38\\site-packages\\pycaret\\regression.py\u001b[0m in \u001b[0;36msetup\u001b[1;34m(data, target, train_size, test_data, preprocess, imputation_type, iterative_imputation_iters, categorical_features, categorical_imputation, categorical_iterative_imputer, ordinal_features, high_cardinality_features, high_cardinality_method, numeric_features, numeric_imputation, numeric_iterative_imputer, date_features, ignore_features, normalize, normalize_method, transformation, transformation_method, handle_unknown_categorical, unknown_categorical_method, pca, pca_method, pca_components, ignore_low_variance, combine_rare_levels, rare_level_threshold, bin_numeric_features, remove_outliers, outliers_threshold, remove_multicollinearity, multicollinearity_threshold, remove_perfect_collinearity, create_clusters, cluster_iter, polynomial_features, polynomial_degree, trigonometry_features, polynomial_threshold, group_features, group_names, feature_selection, feature_selection_threshold, feature_selection_method, feature_interaction, feature_ratio, interaction_threshold, transform_target, transform_target_method, data_split_shuffle, data_split_stratify, fold_strategy, fold, fold_shuffle, fold_groups, n_jobs, use_gpu, custom_pipeline, html, session_id, log_experiment, experiment_name, log_plots, log_profile, log_data, silent, verbose, profile, profile_kwargs)\u001b[0m\n\u001b[0;32m    570\u001b[0m         \u001b[0mlog_plots\u001b[0m \u001b[1;33m=\u001b[0m \u001b[1;33m[\u001b[0m\u001b[1;34m\"residuals\"\u001b[0m\u001b[1;33m,\u001b[0m \u001b[1;34m\"error\"\u001b[0m\u001b[1;33m,\u001b[0m \u001b[1;34m\"feature\"\u001b[0m\u001b[1;33m]\u001b[0m\u001b[1;33m\u001b[0m\u001b[1;33m\u001b[0m\u001b[0m\n\u001b[0;32m    571\u001b[0m \u001b[1;33m\u001b[0m\u001b[0m\n\u001b[1;32m--> 572\u001b[1;33m     return pycaret.internal.tabular.setup(\n\u001b[0m\u001b[0;32m    573\u001b[0m         \u001b[0mml_usecase\u001b[0m\u001b[1;33m=\u001b[0m\u001b[1;34m\"regression\"\u001b[0m\u001b[1;33m,\u001b[0m\u001b[1;33m\u001b[0m\u001b[1;33m\u001b[0m\u001b[0m\n\u001b[0;32m    574\u001b[0m         \u001b[0mavailable_plots\u001b[0m\u001b[1;33m=\u001b[0m\u001b[0mavailable_plots\u001b[0m\u001b[1;33m,\u001b[0m\u001b[1;33m\u001b[0m\u001b[1;33m\u001b[0m\u001b[0m\n",
      "\u001b[1;32m~\\AppData\\Roaming\\Python\\Python38\\site-packages\\pycaret\\internal\\tabular.py\u001b[0m in \u001b[0;36msetup\u001b[1;34m(data, target, ml_usecase, available_plots, train_size, test_data, preprocess, imputation_type, iterative_imputation_iters, categorical_features, categorical_imputation, categorical_iterative_imputer, ordinal_features, high_cardinality_features, high_cardinality_method, numeric_features, numeric_imputation, numeric_iterative_imputer, date_features, ignore_features, normalize, normalize_method, transformation, transformation_method, handle_unknown_categorical, unknown_categorical_method, pca, pca_method, pca_components, ignore_low_variance, combine_rare_levels, rare_level_threshold, bin_numeric_features, remove_outliers, outliers_threshold, remove_multicollinearity, multicollinearity_threshold, remove_perfect_collinearity, create_clusters, cluster_iter, polynomial_features, polynomial_degree, trigonometry_features, polynomial_threshold, group_features, group_names, feature_selection, feature_selection_threshold, feature_selection_method, feature_interaction, feature_ratio, interaction_threshold, fix_imbalance, fix_imbalance_method, transform_target, transform_target_method, data_split_shuffle, data_split_stratify, fold_strategy, fold, fold_shuffle, fold_groups, n_jobs, use_gpu, custom_pipeline, html, session_id, log_experiment, experiment_name, log_plots, log_profile, log_data, silent, verbose, profile, profile_kwargs, display)\u001b[0m\n\u001b[0;32m    625\u001b[0m         \u001b[1;32mfor\u001b[0m \u001b[0mi\u001b[0m \u001b[1;32min\u001b[0m \u001b[0mnumeric_features\u001b[0m\u001b[1;33m:\u001b[0m\u001b[1;33m\u001b[0m\u001b[1;33m\u001b[0m\u001b[0m\n\u001b[0;32m    626\u001b[0m             \u001b[1;32mif\u001b[0m \u001b[0mi\u001b[0m \u001b[1;32mnot\u001b[0m \u001b[1;32min\u001b[0m \u001b[0mall_cols\u001b[0m\u001b[1;33m:\u001b[0m\u001b[1;33m\u001b[0m\u001b[1;33m\u001b[0m\u001b[0m\n\u001b[1;32m--> 627\u001b[1;33m                 raise ValueError(\n\u001b[0m\u001b[0;32m    628\u001b[0m                     \u001b[1;34m\"Column type forced is either target column or doesn't exist in the dataset.\"\u001b[0m\u001b[1;33m\u001b[0m\u001b[1;33m\u001b[0m\u001b[0m\n\u001b[0;32m    629\u001b[0m                 )\n",
      "\u001b[1;31mValueError\u001b[0m: Column type forced is either target column or doesn't exist in the dataset."
     ]
    }
   ],
   "source": [
    "pycaret_set = setup(df_lunch,target='y_lunch',train_size=0.9,\n",
    "                    feature_selection=True,feature_selection_threshold=0.5,\n",
    "                    numeric_features=['p_total','p_off','p_biztrip','p_after','p_athome','p_atoffice','p_after_ratio'],\n",
    "                    categorical_features=['if_weekend','dayofweek_Fri','dayofweek_Mon','dayofweek_Thu','dayofweek_Tue',\n",
    "                                          'dayofweek_Wed','date_month_fall','date_month_spring','date_month_summer',\n",
    "                                          'date_month_winter'])"
   ]
  },
  {
   "cell_type": "code",
   "execution_count": 294,
   "metadata": {
    "ExecuteTime": {
     "end_time": "2021-06-10T09:53:07.210271Z",
     "start_time": "2021-06-10T09:52:35.124785Z"
    }
   },
   "outputs": [
    {
     "data": {
      "text/html": [
       "<style  type=\"text/css\" >\n",
       "    #T_ed38c_ th {\n",
       "          text-align: left;\n",
       "    }#T_ed38c_row0_col0,#T_ed38c_row1_col0,#T_ed38c_row1_col1,#T_ed38c_row1_col2,#T_ed38c_row1_col3,#T_ed38c_row1_col4,#T_ed38c_row1_col5,#T_ed38c_row1_col6,#T_ed38c_row2_col0,#T_ed38c_row2_col1,#T_ed38c_row2_col2,#T_ed38c_row2_col3,#T_ed38c_row2_col4,#T_ed38c_row2_col5,#T_ed38c_row2_col6,#T_ed38c_row3_col0,#T_ed38c_row3_col1,#T_ed38c_row3_col2,#T_ed38c_row3_col3,#T_ed38c_row3_col4,#T_ed38c_row3_col5,#T_ed38c_row3_col6,#T_ed38c_row4_col0,#T_ed38c_row4_col1,#T_ed38c_row4_col2,#T_ed38c_row4_col3,#T_ed38c_row4_col4,#T_ed38c_row4_col5,#T_ed38c_row4_col6,#T_ed38c_row5_col0,#T_ed38c_row5_col1,#T_ed38c_row5_col2,#T_ed38c_row5_col3,#T_ed38c_row5_col4,#T_ed38c_row5_col5,#T_ed38c_row5_col6,#T_ed38c_row6_col0,#T_ed38c_row6_col1,#T_ed38c_row6_col2,#T_ed38c_row6_col3,#T_ed38c_row6_col4,#T_ed38c_row6_col5,#T_ed38c_row6_col6,#T_ed38c_row7_col0,#T_ed38c_row7_col1,#T_ed38c_row7_col2,#T_ed38c_row7_col3,#T_ed38c_row7_col4,#T_ed38c_row7_col5,#T_ed38c_row7_col6,#T_ed38c_row8_col0,#T_ed38c_row8_col1,#T_ed38c_row8_col2,#T_ed38c_row8_col3,#T_ed38c_row8_col4,#T_ed38c_row8_col5,#T_ed38c_row8_col6,#T_ed38c_row9_col0,#T_ed38c_row9_col1,#T_ed38c_row9_col2,#T_ed38c_row9_col3,#T_ed38c_row9_col4,#T_ed38c_row9_col5,#T_ed38c_row9_col6,#T_ed38c_row10_col0,#T_ed38c_row10_col1,#T_ed38c_row10_col2,#T_ed38c_row10_col3,#T_ed38c_row10_col4,#T_ed38c_row10_col5,#T_ed38c_row10_col6,#T_ed38c_row11_col0,#T_ed38c_row11_col1,#T_ed38c_row11_col2,#T_ed38c_row11_col3,#T_ed38c_row11_col4,#T_ed38c_row11_col5,#T_ed38c_row11_col6,#T_ed38c_row12_col0,#T_ed38c_row12_col1,#T_ed38c_row12_col2,#T_ed38c_row12_col3,#T_ed38c_row12_col4,#T_ed38c_row12_col5,#T_ed38c_row12_col6,#T_ed38c_row13_col0,#T_ed38c_row13_col1,#T_ed38c_row13_col2,#T_ed38c_row13_col3,#T_ed38c_row13_col4,#T_ed38c_row13_col5,#T_ed38c_row13_col6,#T_ed38c_row14_col0,#T_ed38c_row14_col1,#T_ed38c_row14_col2,#T_ed38c_row14_col3,#T_ed38c_row14_col4,#T_ed38c_row14_col5,#T_ed38c_row14_col6,#T_ed38c_row15_col0,#T_ed38c_row15_col1,#T_ed38c_row15_col2,#T_ed38c_row15_col3,#T_ed38c_row15_col4,#T_ed38c_row15_col5,#T_ed38c_row15_col6,#T_ed38c_row16_col0,#T_ed38c_row16_col1,#T_ed38c_row16_col2,#T_ed38c_row16_col3,#T_ed38c_row16_col4,#T_ed38c_row16_col5,#T_ed38c_row16_col6,#T_ed38c_row17_col0,#T_ed38c_row17_col1,#T_ed38c_row17_col2,#T_ed38c_row17_col3,#T_ed38c_row17_col4,#T_ed38c_row17_col5,#T_ed38c_row17_col6,#T_ed38c_row18_col0,#T_ed38c_row18_col1,#T_ed38c_row18_col2,#T_ed38c_row18_col3,#T_ed38c_row18_col4,#T_ed38c_row18_col5,#T_ed38c_row18_col6{\n",
       "            text-align:  left;\n",
       "            text-align:  left;\n",
       "        }#T_ed38c_row0_col1,#T_ed38c_row0_col2,#T_ed38c_row0_col3,#T_ed38c_row0_col4,#T_ed38c_row0_col5,#T_ed38c_row0_col6{\n",
       "            text-align:  left;\n",
       "            text-align:  left;\n",
       "            background-color:  yellow;\n",
       "        }#T_ed38c_row0_col7,#T_ed38c_row1_col7,#T_ed38c_row2_col7,#T_ed38c_row3_col7,#T_ed38c_row4_col7,#T_ed38c_row5_col7,#T_ed38c_row6_col7,#T_ed38c_row7_col7,#T_ed38c_row8_col7,#T_ed38c_row11_col7,#T_ed38c_row13_col7,#T_ed38c_row14_col7,#T_ed38c_row15_col7,#T_ed38c_row16_col7,#T_ed38c_row18_col7{\n",
       "            text-align:  left;\n",
       "            text-align:  left;\n",
       "            background-color:  lightgrey;\n",
       "        }#T_ed38c_row9_col7,#T_ed38c_row10_col7,#T_ed38c_row12_col7,#T_ed38c_row17_col7{\n",
       "            text-align:  left;\n",
       "            text-align:  left;\n",
       "            background-color:  yellow;\n",
       "            background-color:  lightgrey;\n",
       "        }</style><table id=\"T_ed38c_\" ><thead>    <tr>        <th class=\"blank level0\" ></th>        <th class=\"col_heading level0 col0\" >Model</th>        <th class=\"col_heading level0 col1\" >MAE</th>        <th class=\"col_heading level0 col2\" >MSE</th>        <th class=\"col_heading level0 col3\" >RMSE</th>        <th class=\"col_heading level0 col4\" >R2</th>        <th class=\"col_heading level0 col5\" >RMSLE</th>        <th class=\"col_heading level0 col6\" >MAPE</th>        <th class=\"col_heading level0 col7\" >TT (Sec)</th>    </tr></thead><tbody>\n",
       "                <tr>\n",
       "                        <th id=\"T_ed38c_level0_row0\" class=\"row_heading level0 row0\" >et</th>\n",
       "                        <td id=\"T_ed38c_row0_col0\" class=\"data row0 col0\" >Extra Trees Regressor</td>\n",
       "                        <td id=\"T_ed38c_row0_col1\" class=\"data row0 col1\" >87.5329</td>\n",
       "                        <td id=\"T_ed38c_row0_col2\" class=\"data row0 col2\" >13177.6340</td>\n",
       "                        <td id=\"T_ed38c_row0_col3\" class=\"data row0 col3\" >114.4640</td>\n",
       "                        <td id=\"T_ed38c_row0_col4\" class=\"data row0 col4\" >0.6888</td>\n",
       "                        <td id=\"T_ed38c_row0_col5\" class=\"data row0 col5\" >0.1362</td>\n",
       "                        <td id=\"T_ed38c_row0_col6\" class=\"data row0 col6\" >0.1047</td>\n",
       "                        <td id=\"T_ed38c_row0_col7\" class=\"data row0 col7\" >0.0960</td>\n",
       "            </tr>\n",
       "            <tr>\n",
       "                        <th id=\"T_ed38c_level0_row1\" class=\"row_heading level0 row1\" >catboost</th>\n",
       "                        <td id=\"T_ed38c_row1_col0\" class=\"data row1 col0\" >CatBoost Regressor</td>\n",
       "                        <td id=\"T_ed38c_row1_col1\" class=\"data row1 col1\" >88.0635</td>\n",
       "                        <td id=\"T_ed38c_row1_col2\" class=\"data row1 col2\" >13379.9233</td>\n",
       "                        <td id=\"T_ed38c_row1_col3\" class=\"data row1 col3\" >115.3885</td>\n",
       "                        <td id=\"T_ed38c_row1_col4\" class=\"data row1 col4\" >0.6840</td>\n",
       "                        <td id=\"T_ed38c_row1_col5\" class=\"data row1 col5\" >0.1377</td>\n",
       "                        <td id=\"T_ed38c_row1_col6\" class=\"data row1 col6\" >0.1057</td>\n",
       "                        <td id=\"T_ed38c_row1_col7\" class=\"data row1 col7\" >1.6230</td>\n",
       "            </tr>\n",
       "            <tr>\n",
       "                        <th id=\"T_ed38c_level0_row2\" class=\"row_heading level0 row2\" >rf</th>\n",
       "                        <td id=\"T_ed38c_row2_col0\" class=\"data row2 col0\" >Random Forest Regressor</td>\n",
       "                        <td id=\"T_ed38c_row2_col1\" class=\"data row2 col1\" >89.0676</td>\n",
       "                        <td id=\"T_ed38c_row2_col2\" class=\"data row2 col2\" >13611.0349</td>\n",
       "                        <td id=\"T_ed38c_row2_col3\" class=\"data row2 col3\" >116.2398</td>\n",
       "                        <td id=\"T_ed38c_row2_col4\" class=\"data row2 col4\" >0.6783</td>\n",
       "                        <td id=\"T_ed38c_row2_col5\" class=\"data row2 col5\" >0.1386</td>\n",
       "                        <td id=\"T_ed38c_row2_col6\" class=\"data row2 col6\" >0.1070</td>\n",
       "                        <td id=\"T_ed38c_row2_col7\" class=\"data row2 col7\" >0.1310</td>\n",
       "            </tr>\n",
       "            <tr>\n",
       "                        <th id=\"T_ed38c_level0_row3\" class=\"row_heading level0 row3\" >gbr</th>\n",
       "                        <td id=\"T_ed38c_row3_col0\" class=\"data row3 col0\" >Gradient Boosting Regressor</td>\n",
       "                        <td id=\"T_ed38c_row3_col1\" class=\"data row3 col1\" >90.2839</td>\n",
       "                        <td id=\"T_ed38c_row3_col2\" class=\"data row3 col2\" >13848.5597</td>\n",
       "                        <td id=\"T_ed38c_row3_col3\" class=\"data row3 col3\" >117.3530</td>\n",
       "                        <td id=\"T_ed38c_row3_col4\" class=\"data row3 col4\" >0.6733</td>\n",
       "                        <td id=\"T_ed38c_row3_col5\" class=\"data row3 col5\" >0.1398</td>\n",
       "                        <td id=\"T_ed38c_row3_col6\" class=\"data row3 col6\" >0.1079</td>\n",
       "                        <td id=\"T_ed38c_row3_col7\" class=\"data row3 col7\" >0.0430</td>\n",
       "            </tr>\n",
       "            <tr>\n",
       "                        <th id=\"T_ed38c_level0_row4\" class=\"row_heading level0 row4\" >lightgbm</th>\n",
       "                        <td id=\"T_ed38c_row4_col0\" class=\"data row4 col0\" >Light Gradient Boosting Machine</td>\n",
       "                        <td id=\"T_ed38c_row4_col1\" class=\"data row4 col1\" >90.8872</td>\n",
       "                        <td id=\"T_ed38c_row4_col2\" class=\"data row4 col2\" >14191.0231</td>\n",
       "                        <td id=\"T_ed38c_row4_col3\" class=\"data row4 col3\" >118.8013</td>\n",
       "                        <td id=\"T_ed38c_row4_col4\" class=\"data row4 col4\" >0.6644</td>\n",
       "                        <td id=\"T_ed38c_row4_col5\" class=\"data row4 col5\" >0.1426</td>\n",
       "                        <td id=\"T_ed38c_row4_col6\" class=\"data row4 col6\" >0.1094</td>\n",
       "                        <td id=\"T_ed38c_row4_col7\" class=\"data row4 col7\" >0.0380</td>\n",
       "            </tr>\n",
       "            <tr>\n",
       "                        <th id=\"T_ed38c_level0_row5\" class=\"row_heading level0 row5\" >xgboost</th>\n",
       "                        <td id=\"T_ed38c_row5_col0\" class=\"data row5 col0\" >Extreme Gradient Boosting</td>\n",
       "                        <td id=\"T_ed38c_row5_col1\" class=\"data row5 col1\" >92.3196</td>\n",
       "                        <td id=\"T_ed38c_row5_col2\" class=\"data row5 col2\" >14634.6086</td>\n",
       "                        <td id=\"T_ed38c_row5_col3\" class=\"data row5 col3\" >120.7102</td>\n",
       "                        <td id=\"T_ed38c_row5_col4\" class=\"data row5 col4\" >0.6544</td>\n",
       "                        <td id=\"T_ed38c_row5_col5\" class=\"data row5 col5\" >0.1431</td>\n",
       "                        <td id=\"T_ed38c_row5_col6\" class=\"data row5 col6\" >0.1100</td>\n",
       "                        <td id=\"T_ed38c_row5_col7\" class=\"data row5 col7\" >0.1770</td>\n",
       "            </tr>\n",
       "            <tr>\n",
       "                        <th id=\"T_ed38c_level0_row6\" class=\"row_heading level0 row6\" >knn</th>\n",
       "                        <td id=\"T_ed38c_row6_col0\" class=\"data row6 col0\" >K Neighbors Regressor</td>\n",
       "                        <td id=\"T_ed38c_row6_col1\" class=\"data row6 col1\" >97.8743</td>\n",
       "                        <td id=\"T_ed38c_row6_col2\" class=\"data row6 col2\" >15993.9518</td>\n",
       "                        <td id=\"T_ed38c_row6_col3\" class=\"data row6 col3\" >125.9357</td>\n",
       "                        <td id=\"T_ed38c_row6_col4\" class=\"data row6 col4\" >0.6214</td>\n",
       "                        <td id=\"T_ed38c_row6_col5\" class=\"data row6 col5\" >0.1480</td>\n",
       "                        <td id=\"T_ed38c_row6_col6\" class=\"data row6 col6\" >0.1161</td>\n",
       "                        <td id=\"T_ed38c_row6_col7\" class=\"data row6 col7\" >0.0100</td>\n",
       "            </tr>\n",
       "            <tr>\n",
       "                        <th id=\"T_ed38c_level0_row7\" class=\"row_heading level0 row7\" >br</th>\n",
       "                        <td id=\"T_ed38c_row7_col0\" class=\"data row7 col0\" >Bayesian Ridge</td>\n",
       "                        <td id=\"T_ed38c_row7_col1\" class=\"data row7 col1\" >102.9435</td>\n",
       "                        <td id=\"T_ed38c_row7_col2\" class=\"data row7 col2\" >16849.0366</td>\n",
       "                        <td id=\"T_ed38c_row7_col3\" class=\"data row7 col3\" >129.5770</td>\n",
       "                        <td id=\"T_ed38c_row7_col4\" class=\"data row7 col4\" >0.6027</td>\n",
       "                        <td id=\"T_ed38c_row7_col5\" class=\"data row7 col5\" >0.1501</td>\n",
       "                        <td id=\"T_ed38c_row7_col6\" class=\"data row7 col6\" >0.1214</td>\n",
       "                        <td id=\"T_ed38c_row7_col7\" class=\"data row7 col7\" >0.0090</td>\n",
       "            </tr>\n",
       "            <tr>\n",
       "                        <th id=\"T_ed38c_level0_row8\" class=\"row_heading level0 row8\" >lar</th>\n",
       "                        <td id=\"T_ed38c_row8_col0\" class=\"data row8 col0\" >Least Angle Regression</td>\n",
       "                        <td id=\"T_ed38c_row8_col1\" class=\"data row8 col1\" >102.9024</td>\n",
       "                        <td id=\"T_ed38c_row8_col2\" class=\"data row8 col2\" >16848.9013</td>\n",
       "                        <td id=\"T_ed38c_row8_col3\" class=\"data row8 col3\" >129.5758</td>\n",
       "                        <td id=\"T_ed38c_row8_col4\" class=\"data row8 col4\" >0.6026</td>\n",
       "                        <td id=\"T_ed38c_row8_col5\" class=\"data row8 col5\" >0.1501</td>\n",
       "                        <td id=\"T_ed38c_row8_col6\" class=\"data row8 col6\" >0.1214</td>\n",
       "                        <td id=\"T_ed38c_row8_col7\" class=\"data row8 col7\" >0.0080</td>\n",
       "            </tr>\n",
       "            <tr>\n",
       "                        <th id=\"T_ed38c_level0_row9\" class=\"row_heading level0 row9\" >en</th>\n",
       "                        <td id=\"T_ed38c_row9_col0\" class=\"data row9 col0\" >Elastic Net</td>\n",
       "                        <td id=\"T_ed38c_row9_col1\" class=\"data row9 col1\" >102.9043</td>\n",
       "                        <td id=\"T_ed38c_row9_col2\" class=\"data row9 col2\" >16848.8019</td>\n",
       "                        <td id=\"T_ed38c_row9_col3\" class=\"data row9 col3\" >129.5754</td>\n",
       "                        <td id=\"T_ed38c_row9_col4\" class=\"data row9 col4\" >0.6026</td>\n",
       "                        <td id=\"T_ed38c_row9_col5\" class=\"data row9 col5\" >0.1501</td>\n",
       "                        <td id=\"T_ed38c_row9_col6\" class=\"data row9 col6\" >0.1214</td>\n",
       "                        <td id=\"T_ed38c_row9_col7\" class=\"data row9 col7\" >0.0070</td>\n",
       "            </tr>\n",
       "            <tr>\n",
       "                        <th id=\"T_ed38c_level0_row10\" class=\"row_heading level0 row10\" >lasso</th>\n",
       "                        <td id=\"T_ed38c_row10_col0\" class=\"data row10 col0\" >Lasso Regression</td>\n",
       "                        <td id=\"T_ed38c_row10_col1\" class=\"data row10 col1\" >102.9035</td>\n",
       "                        <td id=\"T_ed38c_row10_col2\" class=\"data row10 col2\" >16848.8635</td>\n",
       "                        <td id=\"T_ed38c_row10_col3\" class=\"data row10 col3\" >129.5756</td>\n",
       "                        <td id=\"T_ed38c_row10_col4\" class=\"data row10 col4\" >0.6026</td>\n",
       "                        <td id=\"T_ed38c_row10_col5\" class=\"data row10 col5\" >0.1501</td>\n",
       "                        <td id=\"T_ed38c_row10_col6\" class=\"data row10 col6\" >0.1214</td>\n",
       "                        <td id=\"T_ed38c_row10_col7\" class=\"data row10 col7\" >0.0070</td>\n",
       "            </tr>\n",
       "            <tr>\n",
       "                        <th id=\"T_ed38c_level0_row11\" class=\"row_heading level0 row11\" >lr</th>\n",
       "                        <td id=\"T_ed38c_row11_col0\" class=\"data row11 col0\" >Linear Regression</td>\n",
       "                        <td id=\"T_ed38c_row11_col1\" class=\"data row11 col1\" >102.9024</td>\n",
       "                        <td id=\"T_ed38c_row11_col2\" class=\"data row11 col2\" >16848.8996</td>\n",
       "                        <td id=\"T_ed38c_row11_col3\" class=\"data row11 col3\" >129.5758</td>\n",
       "                        <td id=\"T_ed38c_row11_col4\" class=\"data row11 col4\" >0.6026</td>\n",
       "                        <td id=\"T_ed38c_row11_col5\" class=\"data row11 col5\" >0.1501</td>\n",
       "                        <td id=\"T_ed38c_row11_col6\" class=\"data row11 col6\" >0.1214</td>\n",
       "                        <td id=\"T_ed38c_row11_col7\" class=\"data row11 col7\" >0.0100</td>\n",
       "            </tr>\n",
       "            <tr>\n",
       "                        <th id=\"T_ed38c_level0_row12\" class=\"row_heading level0 row12\" >ridge</th>\n",
       "                        <td id=\"T_ed38c_row12_col0\" class=\"data row12 col0\" >Ridge Regression</td>\n",
       "                        <td id=\"T_ed38c_row12_col1\" class=\"data row12 col1\" >102.9024</td>\n",
       "                        <td id=\"T_ed38c_row12_col2\" class=\"data row12 col2\" >16848.9007</td>\n",
       "                        <td id=\"T_ed38c_row12_col3\" class=\"data row12 col3\" >129.5758</td>\n",
       "                        <td id=\"T_ed38c_row12_col4\" class=\"data row12 col4\" >0.6026</td>\n",
       "                        <td id=\"T_ed38c_row12_col5\" class=\"data row12 col5\" >0.1501</td>\n",
       "                        <td id=\"T_ed38c_row12_col6\" class=\"data row12 col6\" >0.1214</td>\n",
       "                        <td id=\"T_ed38c_row12_col7\" class=\"data row12 col7\" >0.0070</td>\n",
       "            </tr>\n",
       "            <tr>\n",
       "                        <th id=\"T_ed38c_level0_row13\" class=\"row_heading level0 row13\" >huber</th>\n",
       "                        <td id=\"T_ed38c_row13_col0\" class=\"data row13 col0\" >Huber Regressor</td>\n",
       "                        <td id=\"T_ed38c_row13_col1\" class=\"data row13 col1\" >102.5565</td>\n",
       "                        <td id=\"T_ed38c_row13_col2\" class=\"data row13 col2\" >16944.9753</td>\n",
       "                        <td id=\"T_ed38c_row13_col3\" class=\"data row13 col3\" >129.9276</td>\n",
       "                        <td id=\"T_ed38c_row13_col4\" class=\"data row13 col4\" >0.6003</td>\n",
       "                        <td id=\"T_ed38c_row13_col5\" class=\"data row13 col5\" >0.1500</td>\n",
       "                        <td id=\"T_ed38c_row13_col6\" class=\"data row13 col6\" >0.1204</td>\n",
       "                        <td id=\"T_ed38c_row13_col7\" class=\"data row13 col7\" >0.0150</td>\n",
       "            </tr>\n",
       "            <tr>\n",
       "                        <th id=\"T_ed38c_level0_row14\" class=\"row_heading level0 row14\" >ada</th>\n",
       "                        <td id=\"T_ed38c_row14_col0\" class=\"data row14 col0\" >AdaBoost Regressor</td>\n",
       "                        <td id=\"T_ed38c_row14_col1\" class=\"data row14 col1\" >104.5367</td>\n",
       "                        <td id=\"T_ed38c_row14_col2\" class=\"data row14 col2\" >17272.4643</td>\n",
       "                        <td id=\"T_ed38c_row14_col3\" class=\"data row14 col3\" >131.1410</td>\n",
       "                        <td id=\"T_ed38c_row14_col4\" class=\"data row14 col4\" >0.5952</td>\n",
       "                        <td id=\"T_ed38c_row14_col5\" class=\"data row14 col5\" >0.1562</td>\n",
       "                        <td id=\"T_ed38c_row14_col6\" class=\"data row14 col6\" >0.1268</td>\n",
       "                        <td id=\"T_ed38c_row14_col7\" class=\"data row14 col7\" >0.0370</td>\n",
       "            </tr>\n",
       "            <tr>\n",
       "                        <th id=\"T_ed38c_level0_row15\" class=\"row_heading level0 row15\" >llar</th>\n",
       "                        <td id=\"T_ed38c_row15_col0\" class=\"data row15 col0\" >Lasso Least Angle Regression</td>\n",
       "                        <td id=\"T_ed38c_row15_col1\" class=\"data row15 col1\" >115.0542</td>\n",
       "                        <td id=\"T_ed38c_row15_col2\" class=\"data row15 col2\" >20786.7725</td>\n",
       "                        <td id=\"T_ed38c_row15_col3\" class=\"data row15 col3\" >143.9569</td>\n",
       "                        <td id=\"T_ed38c_row15_col4\" class=\"data row15 col4\" >0.5121</td>\n",
       "                        <td id=\"T_ed38c_row15_col5\" class=\"data row15 col5\" >0.1744</td>\n",
       "                        <td id=\"T_ed38c_row15_col6\" class=\"data row15 col6\" >0.1417</td>\n",
       "                        <td id=\"T_ed38c_row15_col7\" class=\"data row15 col7\" >0.0080</td>\n",
       "            </tr>\n",
       "            <tr>\n",
       "                        <th id=\"T_ed38c_level0_row16\" class=\"row_heading level0 row16\" >dt</th>\n",
       "                        <td id=\"T_ed38c_row16_col0\" class=\"data row16 col0\" >Decision Tree Regressor</td>\n",
       "                        <td id=\"T_ed38c_row16_col1\" class=\"data row16 col1\" >119.7624</td>\n",
       "                        <td id=\"T_ed38c_row16_col2\" class=\"data row16 col2\" >25084.0550</td>\n",
       "                        <td id=\"T_ed38c_row16_col3\" class=\"data row16 col3\" >157.9106</td>\n",
       "                        <td id=\"T_ed38c_row16_col4\" class=\"data row16 col4\" >0.4071</td>\n",
       "                        <td id=\"T_ed38c_row16_col5\" class=\"data row16 col5\" >0.1927</td>\n",
       "                        <td id=\"T_ed38c_row16_col6\" class=\"data row16 col6\" >0.1434</td>\n",
       "                        <td id=\"T_ed38c_row16_col7\" class=\"data row16 col7\" >0.0090</td>\n",
       "            </tr>\n",
       "            <tr>\n",
       "                        <th id=\"T_ed38c_level0_row17\" class=\"row_heading level0 row17\" >omp</th>\n",
       "                        <td id=\"T_ed38c_row17_col0\" class=\"data row17 col0\" >Orthogonal Matching Pursuit</td>\n",
       "                        <td id=\"T_ed38c_row17_col1\" class=\"data row17 col1\" >150.5297</td>\n",
       "                        <td id=\"T_ed38c_row17_col2\" class=\"data row17 col2\" >36093.0669</td>\n",
       "                        <td id=\"T_ed38c_row17_col3\" class=\"data row17 col3\" >189.8203</td>\n",
       "                        <td id=\"T_ed38c_row17_col4\" class=\"data row17 col4\" >0.1525</td>\n",
       "                        <td id=\"T_ed38c_row17_col5\" class=\"data row17 col5\" >0.2262</td>\n",
       "                        <td id=\"T_ed38c_row17_col6\" class=\"data row17 col6\" >0.1867</td>\n",
       "                        <td id=\"T_ed38c_row17_col7\" class=\"data row17 col7\" >0.0070</td>\n",
       "            </tr>\n",
       "            <tr>\n",
       "                        <th id=\"T_ed38c_level0_row18\" class=\"row_heading level0 row18\" >par</th>\n",
       "                        <td id=\"T_ed38c_row18_col0\" class=\"data row18 col0\" >Passive Aggressive Regressor</td>\n",
       "                        <td id=\"T_ed38c_row18_col1\" class=\"data row18 col1\" >565.8915</td>\n",
       "                        <td id=\"T_ed38c_row18_col2\" class=\"data row18 col2\" >615140.1936</td>\n",
       "                        <td id=\"T_ed38c_row18_col3\" class=\"data row18 col3\" >746.9673</td>\n",
       "                        <td id=\"T_ed38c_row18_col4\" class=\"data row18 col4\" >-13.1925</td>\n",
       "                        <td id=\"T_ed38c_row18_col5\" class=\"data row18 col5\" >1.0716</td>\n",
       "                        <td id=\"T_ed38c_row18_col6\" class=\"data row18 col6\" >0.7081</td>\n",
       "                        <td id=\"T_ed38c_row18_col7\" class=\"data row18 col7\" >0.0120</td>\n",
       "            </tr>\n",
       "    </tbody></table>"
      ],
      "text/plain": [
       "<pandas.io.formats.style.Styler at 0x1eb82eccd60>"
      ]
     },
     "metadata": {},
     "output_type": "display_data"
    }
   ],
   "source": [
    "best5 = compare_models(n_select=3)"
   ]
  },
  {
   "cell_type": "markdown",
   "metadata": {},
   "source": [
    "### lightgbm"
   ]
  },
  {
   "cell_type": "code",
   "execution_count": 163,
   "metadata": {
    "ExecuteTime": {
     "end_time": "2021-06-11T09:55:13.674456Z",
     "start_time": "2021-06-11T09:55:13.666445Z"
    }
   },
   "outputs": [],
   "source": [
    "from lightgbm import LGBMRegressor"
   ]
  },
  {
   "cell_type": "code",
   "execution_count": 203,
   "metadata": {
    "ExecuteTime": {
     "end_time": "2021-06-11T10:18:03.316241Z",
     "start_time": "2021-06-11T10:18:03.304235Z"
    }
   },
   "outputs": [],
   "source": [
    "params = {'boosting_type': ['gbdt'],\n",
    "          'class_weight': [None],\n",
    "          'colsample_bytree': np.arange(0,1,0.1),\n",
    "          'importance_type': ['split'],\n",
    "          'learning_rate': [0.1,0.05,0.03,0.01],\n",
    "          'max_depth': [-1],\n",
    "          'min_child_samples': [20],\n",
    "          'min_child_weight': [0.001],\n",
    "          'min_split_gain': [0.0],\n",
    "          'n_estimators': [1000],\n",
    "          'n_jobs': [-1],\n",
    "          'num_leaves': np.arange(5,60,10),\n",
    "          'objective': ['regression'],\n",
    "          'random_state': [961228],\n",
    "          'reg_alpha': np.arange(0,3,0.5),\n",
    "          'reg_lambda': np.arange(0,3,0.5),\n",
    "          'silent': [True],\n",
    "          'subsample': [1.0],\n",
    "          'subsample_for_bin': [200000],\n",
    "          'subsample_freq': [0]}"
   ]
  },
  {
   "cell_type": "code",
   "execution_count": 204,
   "metadata": {
    "ExecuteTime": {
     "end_time": "2021-06-11T15:18:21.769498Z",
     "start_time": "2021-06-11T10:18:03.861526Z"
    }
   },
   "outputs": [
    {
     "name": "stdout",
     "output_type": "stream",
     "text": [
      "0.7628204427793823\n"
     ]
    }
   ],
   "source": [
    "grid = GridSearchCV(LGBMRegressor(),params,verbose=0,\n",
    "                    cv=5,n_jobs=-1)\n",
    "grid.fit(df_lunch_scaled.drop('y_lunch',axis=1),df_lunch_scaled['y_lunch'])\n",
    "print(grid.best_score_)"
   ]
  },
  {
   "cell_type": "code",
   "execution_count": 205,
   "metadata": {
    "ExecuteTime": {
     "end_time": "2021-06-11T15:35:33.955802Z",
     "start_time": "2021-06-11T15:35:33.948855Z"
    }
   },
   "outputs": [
    {
     "data": {
      "text/plain": [
       "{'boosting_type': 'gbdt',\n",
       " 'class_weight': None,\n",
       " 'colsample_bytree': 0.4,\n",
       " 'importance_type': 'split',\n",
       " 'learning_rate': 0.05,\n",
       " 'max_depth': -1,\n",
       " 'min_child_samples': 20,\n",
       " 'min_child_weight': 0.001,\n",
       " 'min_split_gain': 0.0,\n",
       " 'n_estimators': 1000,\n",
       " 'n_jobs': -1,\n",
       " 'num_leaves': 5,\n",
       " 'objective': 'regression',\n",
       " 'random_state': 961228,\n",
       " 'reg_alpha': 2.0,\n",
       " 'reg_lambda': 1.5,\n",
       " 'silent': True,\n",
       " 'subsample': 1.0,\n",
       " 'subsample_for_bin': 200000,\n",
       " 'subsample_freq': 0}"
      ]
     },
     "execution_count": 205,
     "metadata": {},
     "output_type": "execute_result"
    }
   ],
   "source": [
    "grid.best_params_"
   ]
  },
  {
   "cell_type": "code",
   "execution_count": null,
   "metadata": {},
   "outputs": [],
   "source": [
    "lgbm_best_param = {'boosting_type': 'gbdt',\n",
    " 'class_weight': None,\n",
    " 'colsample_bytree': 0.4,\n",
    " 'importance_type': 'split',\n",
    " 'learning_rate': 0.05,\n",
    " 'max_depth': -1,\n",
    " 'min_child_samples': 20,\n",
    " 'min_child_weight': 0.001,\n",
    " 'min_split_gain': 0.0,\n",
    " 'n_estimators': 1000,\n",
    " 'n_jobs': -1,\n",
    " 'num_leaves': 5,\n",
    " 'objective': 'regression',\n",
    " 'random_state': 961228,\n",
    " 'reg_alpha': 2.0,\n",
    " 'reg_lambda': 1.5,\n",
    " 'silent': True,\n",
    " 'subsample': 1.0,\n",
    " 'subsample_for_bin': 200000,\n",
    " 'subsample_freq': 0}"
   ]
  }
 ],
 "metadata": {
  "kernelspec": {
   "display_name": "simon_env",
   "language": "python",
   "name": "simon_env"
  },
  "language_info": {
   "codemirror_mode": {
    "name": "ipython",
    "version": 3
   },
   "file_extension": ".py",
   "mimetype": "text/x-python",
   "name": "python",
   "nbconvert_exporter": "python",
   "pygments_lexer": "ipython3",
   "version": "3.8.8"
  },
  "toc": {
   "base_numbering": 1,
   "nav_menu": {},
   "number_sections": true,
   "sideBar": true,
   "skip_h1_title": false,
   "title_cell": "Table of Contents",
   "title_sidebar": "Contents",
   "toc_cell": false,
   "toc_position": {
    "height": "calc(100% - 180px)",
    "left": "10px",
    "top": "150px",
    "width": "165px"
   },
   "toc_section_display": true,
   "toc_window_display": true
  },
  "varInspector": {
   "cols": {
    "lenName": 16,
    "lenType": 16,
    "lenVar": 40
   },
   "kernels_config": {
    "python": {
     "delete_cmd_postfix": "",
     "delete_cmd_prefix": "del ",
     "library": "var_list.py",
     "varRefreshCmd": "print(var_dic_list())"
    },
    "r": {
     "delete_cmd_postfix": ") ",
     "delete_cmd_prefix": "rm(",
     "library": "var_list.r",
     "varRefreshCmd": "cat(var_dic_list()) "
    }
   },
   "types_to_exclude": [
    "module",
    "function",
    "builtin_function_or_method",
    "instance",
    "_Feature"
   ],
   "window_display": false
  }
 },
 "nbformat": 4,
 "nbformat_minor": 4
}
