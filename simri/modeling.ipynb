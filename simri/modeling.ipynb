{
 "cells": [
  {
   "cell_type": "markdown",
   "metadata": {},
   "source": [
    "## prepare"
   ]
  },
  {
   "cell_type": "markdown",
   "metadata": {},
   "source": [
    "### packages "
   ]
  },
  {
   "cell_type": "code",
   "execution_count": 676,
   "metadata": {
    "ExecuteTime": {
     "end_time": "2020-11-14T16:35:35.924417Z",
     "start_time": "2020-11-14T16:35:35.914441Z"
    }
   },
   "outputs": [],
   "source": [
    "import pandas as pd\n",
    "import seaborn as sns\n",
    "import numpy as np\n",
    "import matplotlib as mpl\n",
    "import matplotlib.pyplot as plt\n",
    "import lightgbm\n",
    "\n",
    "import sklearn\n",
    "from lightgbm import LGBMClassifier\n",
    "from sklearn.preprocessing import MinMaxScaler, OrdinalEncoder\n",
    "from sklearn.ensemble import RandomForestClassifier, AdaBoostClassifier, GradientBoostingClassifier, ExtraTreesClassifier, VotingClassifier\n",
    "from sklearn.discriminant_analysis import LinearDiscriminantAnalysis\n",
    "from sklearn.linear_model import LogisticRegression\n",
    "from sklearn.neighbors import KNeighborsClassifier\n",
    "from sklearn.tree import DecisionTreeClassifier\n",
    "from sklearn.neural_network import MLPClassifier\n",
    "from sklearn.svm import SVC\n",
    "from sklearn.model_selection import GridSearchCV, cross_val_score, StratifiedKFold, learning_curve, train_test_split\n",
    "from sklearn.metrics import accuracy_score,auc\n",
    "\n",
    "from matplotlib.ticker import FormatStrFormatter\n",
    "from bayes_opt import BayesianOptimization\n",
    "\n",
    "from IPython.core.interactiveshell import InteractiveShell\n",
    "InteractiveShell.ast_node_interactivity = \"all\""
   ]
  },
  {
   "cell_type": "markdown",
   "metadata": {},
   "source": [
    "### data load"
   ]
  },
  {
   "cell_type": "code",
   "execution_count": 677,
   "metadata": {
    "ExecuteTime": {
     "end_time": "2020-11-14T16:35:36.472981Z",
     "start_time": "2020-11-14T16:35:35.927406Z"
    }
   },
   "outputs": [],
   "source": [
    "train = pd.read_csv('C:/Users/rsh15/Desktop/seunghuni/dataset/open data/open data/train.csv')\n",
    "test  = pd.read_csv('C:/Users/rsh15/Desktop/seunghuni/dataset/open data/open data/test_x.csv')\n",
    "train.drop('index',axis=1,inplace=True)\n",
    "test.drop('index',axis=1,inplace=True)"
   ]
  },
  {
   "cell_type": "markdown",
   "metadata": {},
   "source": [
    "## data ready"
   ]
  },
  {
   "cell_type": "markdown",
   "metadata": {},
   "source": [
    "### marci_score"
   ]
  },
  {
   "cell_type": "code",
   "execution_count": 678,
   "metadata": {
    "ExecuteTime": {
     "end_time": "2020-11-14T16:35:36.488904Z",
     "start_time": "2020-11-14T16:35:36.474944Z"
    }
   },
   "outputs": [],
   "source": [
    "col_pos = ['QbA','QcA','QhA','QjA','QmA','QoA','QsA']\n",
    "pre_pos = ['QlA','QpA','QtA']\n",
    "col_neg = ['QeA','QfA','QkA','QqA','QrA']\n",
    "pre_neg = ['QaA','QdA','QgA','QiA','QnA']"
   ]
  },
  {
   "cell_type": "code",
   "execution_count": 679,
   "metadata": {
    "ExecuteTime": {
     "end_time": "2020-11-14T16:35:36.504862Z",
     "start_time": "2020-11-14T16:35:36.490901Z"
    }
   },
   "outputs": [],
   "source": [
    "rep_idx = {1:5,2:4,3:3,4:2,5:1}"
   ]
  },
  {
   "cell_type": "code",
   "execution_count": 680,
   "metadata": {
    "ExecuteTime": {
     "end_time": "2020-11-14T16:35:36.600608Z",
     "start_time": "2020-11-14T16:35:36.507856Z"
    }
   },
   "outputs": [
    {
     "data": {
      "text/plain": [
       "0    59.0\n",
       "1    52.0\n",
       "2    38.0\n",
       "dtype: float64"
      ]
     },
     "execution_count": 680,
     "metadata": {},
     "output_type": "execute_result"
    }
   ],
   "source": [
    "# train\n",
    "train_marci_neg = train.loc[:,col_neg+pre_neg].replace(rep_idx)\n",
    "train_marci_pos = train.loc[:,col_pos+pre_pos]\n",
    "train_marci_score = pd.concat([train_marci_neg,train_marci_pos],axis=1).sum(axis=1)\n",
    "train_marci_score.head(3)"
   ]
  },
  {
   "cell_type": "code",
   "execution_count": 681,
   "metadata": {
    "ExecuteTime": {
     "end_time": "2020-11-14T16:35:36.631523Z",
     "start_time": "2020-11-14T16:35:36.603598Z"
    }
   },
   "outputs": [
    {
     "data": {
      "text/plain": [
       "0    49.0\n",
       "1    56.0\n",
       "2    71.0\n",
       "dtype: float64"
      ]
     },
     "execution_count": 681,
     "metadata": {},
     "output_type": "execute_result"
    }
   ],
   "source": [
    "# test\n",
    "test_marci_neg = test.loc[:,col_neg+pre_neg].replace(rep_idx)\n",
    "test_marci_pos = test.loc[:,col_pos+pre_pos]\n",
    "test_marci_score = pd.concat([test_marci_neg,test_marci_pos],axis=1).sum(axis=1)\n",
    "test_marci_score.head(3)"
   ]
  },
  {
   "cell_type": "markdown",
   "metadata": {},
   "source": [
    "### age"
   ]
  },
  {
   "cell_type": "code",
   "execution_count": 682,
   "metadata": {
    "ExecuteTime": {
     "end_time": "2020-11-14T16:35:36.693358Z",
     "start_time": "2020-11-14T16:35:36.633554Z"
    }
   },
   "outputs": [],
   "source": [
    "train['age_group'] = train['age_group'].replace(dict(zip(np.unique(train['age_group'].values),['70','10','20','30','40','50','60'])))"
   ]
  },
  {
   "cell_type": "code",
   "execution_count": 683,
   "metadata": {
    "ExecuteTime": {
     "end_time": "2020-11-14T16:35:36.725303Z",
     "start_time": "2020-11-14T16:35:36.696349Z"
    }
   },
   "outputs": [],
   "source": [
    "test['age_group'] = test['age_group'].replace(dict(zip(np.unique(test['age_group'].values),['70','10','20','30','40','50','60'])))"
   ]
  },
  {
   "cell_type": "markdown",
   "metadata": {},
   "source": [
    "### marci_answer_time"
   ]
  },
  {
   "cell_type": "code",
   "execution_count": 684,
   "metadata": {
    "ExecuteTime": {
     "end_time": "2020-11-14T16:35:36.741235Z",
     "start_time": "2020-11-14T16:35:36.729296Z"
    }
   },
   "outputs": [
    {
     "data": {
      "text/plain": [
       "Index(['QaE', 'QbE', 'QcE', 'QdE', 'QeE', 'QfE', 'QgE', 'QhE', 'QiE', 'QjE',\n",
       "       'QkE', 'QlE', 'QmE', 'QnE', 'QoE', 'QpE', 'QqE', 'QrE', 'QsE', 'QtE'],\n",
       "      dtype='object')"
      ]
     },
     "execution_count": 684,
     "metadata": {},
     "output_type": "execute_result"
    }
   ],
   "source": [
    "marci_time_col = train.columns[(pd.Series(train.columns).str.startswith('Q')) & (pd.Series(train.columns).str.endswith('E'))]\n",
    "marci_time_col"
   ]
  },
  {
   "cell_type": "code",
   "execution_count": 685,
   "metadata": {
    "ExecuteTime": {
     "end_time": "2020-11-14T16:35:36.805060Z",
     "start_time": "2020-11-14T16:35:36.749209Z"
    }
   },
   "outputs": [
    {
     "data": {
      "text/plain": [
       "0    3.0\n",
       "1    2.8\n",
       "2    1.7\n",
       "dtype: float64"
      ]
     },
     "execution_count": 685,
     "metadata": {},
     "output_type": "execute_result"
    },
    {
     "data": {
      "text/plain": [
       "0    3.1\n",
       "1    3.6\n",
       "2    3.9\n",
       "dtype: float64"
      ]
     },
     "execution_count": 685,
     "metadata": {},
     "output_type": "execute_result"
    }
   ],
   "source": [
    "# train\n",
    "train_plus_time = train.loc[:,col_pos+pre_pos].mean(axis=1)\n",
    "train_negg_time = train.loc[:,col_neg+pre_neg].mean(axis=1)\n",
    "\n",
    "train_plus_time.head(3)\n",
    "train_negg_time.head(3)"
   ]
  },
  {
   "cell_type": "code",
   "execution_count": 686,
   "metadata": {
    "ExecuteTime": {
     "end_time": "2020-11-14T16:35:36.837001Z",
     "start_time": "2020-11-14T16:35:36.808052Z"
    }
   },
   "outputs": [
    {
     "data": {
      "text/plain": [
       "0    2.5\n",
       "1    2.9\n",
       "2    3.6\n",
       "dtype: float64"
      ]
     },
     "execution_count": 686,
     "metadata": {},
     "output_type": "execute_result"
    },
    {
     "data": {
      "text/plain": [
       "0    3.6\n",
       "1    3.3\n",
       "2    2.5\n",
       "dtype: float64"
      ]
     },
     "execution_count": 686,
     "metadata": {},
     "output_type": "execute_result"
    }
   ],
   "source": [
    "# test\n",
    "test_plus_time = test.loc[:,col_pos+pre_pos].mean(axis=1)\n",
    "test_negg_time = test.loc[:,col_neg+pre_neg].mean(axis=1)\n",
    "\n",
    "test_plus_time.head(3)\n",
    "test_negg_time.head(3)"
   ]
  },
  {
   "cell_type": "markdown",
   "metadata": {},
   "source": [
    "### gender"
   ]
  },
  {
   "cell_type": "code",
   "execution_count": 687,
   "metadata": {
    "ExecuteTime": {
     "end_time": "2020-11-14T16:35:36.867917Z",
     "start_time": "2020-11-14T16:35:36.838969Z"
    }
   },
   "outputs": [
    {
     "data": {
      "text/plain": [
       "0    0\n",
       "1    0\n",
       "2    1\n",
       "3    0\n",
       "4    1\n",
       "Name: gender, dtype: int64"
      ]
     },
     "execution_count": 687,
     "metadata": {},
     "output_type": "execute_result"
    }
   ],
   "source": [
    "# gender text to numeric - train\n",
    "train['gender'] = train['gender'].replace('Female',0).replace('Male',1)\n",
    "train['gender'].head(5)"
   ]
  },
  {
   "cell_type": "code",
   "execution_count": 688,
   "metadata": {
    "ExecuteTime": {
     "end_time": "2020-11-14T16:35:36.899805Z",
     "start_time": "2020-11-14T16:35:36.870883Z"
    }
   },
   "outputs": [
    {
     "data": {
      "text/plain": [
       "0    1\n",
       "1    1\n",
       "2    1\n",
       "Name: gender, dtype: int64"
      ]
     },
     "execution_count": 688,
     "metadata": {},
     "output_type": "execute_result"
    }
   ],
   "source": [
    "# gender text to numeric - test\n",
    "test['gender'] = test['gender'].replace('Female',0).replace('Male',1)\n",
    "test['gender'].head(3)"
   ]
  },
  {
   "cell_type": "markdown",
   "metadata": {},
   "source": [
    "### familysize"
   ]
  },
  {
   "cell_type": "code",
   "execution_count": 689,
   "metadata": {
    "ExecuteTime": {
     "end_time": "2020-11-14T16:35:36.979592Z",
     "start_time": "2020-11-14T16:35:36.901802Z"
    }
   },
   "outputs": [],
   "source": [
    "train['fam_single'] = train['familysize'].map(lambda k: 1 if k == 0 else 0)\n",
    "train['fam_small']  = train['familysize'].map(lambda k: 1 if k < 5  else 0)\n",
    "train['fam_co']     = train['familysize'].map(lambda k: 1 if 0 < k <= 6 else (0 if k == 0 else 2))"
   ]
  },
  {
   "cell_type": "code",
   "execution_count": 690,
   "metadata": {
    "ExecuteTime": {
     "end_time": "2020-11-14T16:35:37.027497Z",
     "start_time": "2020-11-14T16:35:36.982587Z"
    }
   },
   "outputs": [],
   "source": [
    "test['fam_single'] = test['familysize'].map(lambda k: 1 if k == 0 else 0)\n",
    "test['fam_small']  = test['familysize'].map(lambda k: 1 if k < 5  else 0)\n",
    "test['fam_co']     = test['familysize'].map(lambda k: 1 if 0 < k <= 6 else (0 if k == 0 else 2))"
   ]
  },
  {
   "cell_type": "markdown",
   "metadata": {},
   "source": [
    "### education"
   ]
  },
  {
   "cell_type": "code",
   "execution_count": 691,
   "metadata": {
    "ExecuteTime": {
     "end_time": "2020-11-14T16:35:37.043455Z",
     "start_time": "2020-11-14T16:35:37.030490Z"
    }
   },
   "outputs": [
    {
     "data": {
      "text/plain": [
       "[0, 1, 1]"
      ]
     },
     "execution_count": 691,
     "metadata": {},
     "output_type": "execute_result"
    }
   ],
   "source": [
    "train_edu_college = np.where(train['education'].isin([3,4]),1,0).tolist()\n",
    "train_edu_college[0:3]"
   ]
  },
  {
   "cell_type": "code",
   "execution_count": 692,
   "metadata": {
    "ExecuteTime": {
     "end_time": "2020-11-14T16:35:37.059381Z",
     "start_time": "2020-11-14T16:35:37.047414Z"
    }
   },
   "outputs": [
    {
     "data": {
      "text/plain": [
       "[0, 0, 1]"
      ]
     },
     "execution_count": 692,
     "metadata": {},
     "output_type": "execute_result"
    }
   ],
   "source": [
    "test_edu_college = np.where(test['education'].isin([3,4]),1,0).tolist()\n",
    "test_edu_college[0:3]"
   ]
  },
  {
   "cell_type": "markdown",
   "metadata": {},
   "source": [
    "### engnat"
   ]
  },
  {
   "cell_type": "code",
   "execution_count": 693,
   "metadata": {
    "ExecuteTime": {
     "end_time": "2020-11-14T16:35:37.075336Z",
     "start_time": "2020-11-14T16:35:37.062374Z"
    }
   },
   "outputs": [
    {
     "data": {
      "text/plain": [
       "0    1\n",
       "1    2\n",
       "2    1\n",
       "Name: engnat, dtype: int64"
      ]
     },
     "execution_count": 693,
     "metadata": {},
     "output_type": "execute_result"
    }
   ],
   "source": [
    "train['engnat'].head(3)"
   ]
  },
  {
   "cell_type": "code",
   "execution_count": 694,
   "metadata": {
    "ExecuteTime": {
     "end_time": "2020-11-14T16:35:37.090296Z",
     "start_time": "2020-11-14T16:35:37.078329Z"
    }
   },
   "outputs": [
    {
     "data": {
      "text/plain": [
       "0    2\n",
       "1    2\n",
       "2    2\n",
       "Name: engnat, dtype: int64"
      ]
     },
     "execution_count": 694,
     "metadata": {},
     "output_type": "execute_result"
    }
   ],
   "source": [
    "test['engnat'].head(3)"
   ]
  },
  {
   "cell_type": "markdown",
   "metadata": {},
   "source": [
    "### hand"
   ]
  },
  {
   "cell_type": "code",
   "execution_count": 695,
   "metadata": {
    "ExecuteTime": {
     "end_time": "2020-11-14T16:35:37.121214Z",
     "start_time": "2020-11-14T16:35:37.093288Z"
    }
   },
   "outputs": [
    {
     "data": {
      "text/html": [
       "<div>\n",
       "<style scoped>\n",
       "    .dataframe tbody tr th:only-of-type {\n",
       "        vertical-align: middle;\n",
       "    }\n",
       "\n",
       "    .dataframe tbody tr th {\n",
       "        vertical-align: top;\n",
       "    }\n",
       "\n",
       "    .dataframe thead th {\n",
       "        text-align: right;\n",
       "    }\n",
       "</style>\n",
       "<table border=\"1\" class=\"dataframe\">\n",
       "  <thead>\n",
       "    <tr style=\"text-align: right;\">\n",
       "      <th></th>\n",
       "      <th>hand_noans</th>\n",
       "      <th>hand_right</th>\n",
       "      <th>hand_left</th>\n",
       "      <th>hand_both</th>\n",
       "    </tr>\n",
       "  </thead>\n",
       "  <tbody>\n",
       "    <tr>\n",
       "      <th>0</th>\n",
       "      <td>0</td>\n",
       "      <td>1</td>\n",
       "      <td>0</td>\n",
       "      <td>0</td>\n",
       "    </tr>\n",
       "    <tr>\n",
       "      <th>1</th>\n",
       "      <td>0</td>\n",
       "      <td>1</td>\n",
       "      <td>0</td>\n",
       "      <td>0</td>\n",
       "    </tr>\n",
       "    <tr>\n",
       "      <th>2</th>\n",
       "      <td>0</td>\n",
       "      <td>1</td>\n",
       "      <td>0</td>\n",
       "      <td>0</td>\n",
       "    </tr>\n",
       "    <tr>\n",
       "      <th>3</th>\n",
       "      <td>0</td>\n",
       "      <td>1</td>\n",
       "      <td>0</td>\n",
       "      <td>0</td>\n",
       "    </tr>\n",
       "    <tr>\n",
       "      <th>4</th>\n",
       "      <td>0</td>\n",
       "      <td>1</td>\n",
       "      <td>0</td>\n",
       "      <td>0</td>\n",
       "    </tr>\n",
       "  </tbody>\n",
       "</table>\n",
       "</div>"
      ],
      "text/plain": [
       "   hand_noans  hand_right  hand_left  hand_both\n",
       "0           0           1          0          0\n",
       "1           0           1          0          0\n",
       "2           0           1          0          0\n",
       "3           0           1          0          0\n",
       "4           0           1          0          0"
      ]
     },
     "execution_count": 695,
     "metadata": {},
     "output_type": "execute_result"
    }
   ],
   "source": [
    "# hand dummies\n",
    "train_hand_dummy = pd.get_dummies(train['hand'],dtype=int)\n",
    "train_hand_dummy.columns = ['hand_noans','hand_right','hand_left','hand_both']\n",
    "train_hand_dummy.head(5)"
   ]
  },
  {
   "cell_type": "code",
   "execution_count": 696,
   "metadata": {
    "ExecuteTime": {
     "end_time": "2020-11-14T16:35:37.152131Z",
     "start_time": "2020-11-14T16:35:37.124207Z"
    }
   },
   "outputs": [
    {
     "data": {
      "text/html": [
       "<div>\n",
       "<style scoped>\n",
       "    .dataframe tbody tr th:only-of-type {\n",
       "        vertical-align: middle;\n",
       "    }\n",
       "\n",
       "    .dataframe tbody tr th {\n",
       "        vertical-align: top;\n",
       "    }\n",
       "\n",
       "    .dataframe thead th {\n",
       "        text-align: right;\n",
       "    }\n",
       "</style>\n",
       "<table border=\"1\" class=\"dataframe\">\n",
       "  <thead>\n",
       "    <tr style=\"text-align: right;\">\n",
       "      <th></th>\n",
       "      <th>hand_noans</th>\n",
       "      <th>hand_right</th>\n",
       "      <th>hand_left</th>\n",
       "      <th>hand_both</th>\n",
       "    </tr>\n",
       "  </thead>\n",
       "  <tbody>\n",
       "    <tr>\n",
       "      <th>0</th>\n",
       "      <td>0</td>\n",
       "      <td>1</td>\n",
       "      <td>0</td>\n",
       "      <td>0</td>\n",
       "    </tr>\n",
       "    <tr>\n",
       "      <th>1</th>\n",
       "      <td>0</td>\n",
       "      <td>0</td>\n",
       "      <td>1</td>\n",
       "      <td>0</td>\n",
       "    </tr>\n",
       "    <tr>\n",
       "      <th>2</th>\n",
       "      <td>0</td>\n",
       "      <td>1</td>\n",
       "      <td>0</td>\n",
       "      <td>0</td>\n",
       "    </tr>\n",
       "    <tr>\n",
       "      <th>3</th>\n",
       "      <td>0</td>\n",
       "      <td>1</td>\n",
       "      <td>0</td>\n",
       "      <td>0</td>\n",
       "    </tr>\n",
       "    <tr>\n",
       "      <th>4</th>\n",
       "      <td>0</td>\n",
       "      <td>1</td>\n",
       "      <td>0</td>\n",
       "      <td>0</td>\n",
       "    </tr>\n",
       "  </tbody>\n",
       "</table>\n",
       "</div>"
      ],
      "text/plain": [
       "   hand_noans  hand_right  hand_left  hand_both\n",
       "0           0           1          0          0\n",
       "1           0           0          1          0\n",
       "2           0           1          0          0\n",
       "3           0           1          0          0\n",
       "4           0           1          0          0"
      ]
     },
     "execution_count": 696,
     "metadata": {},
     "output_type": "execute_result"
    }
   ],
   "source": [
    "# hand dummies\n",
    "test_hand_dummy = pd.get_dummies(test['hand'],dtype=int)\n",
    "test_hand_dummy.columns = ['hand_noans','hand_right','hand_left','hand_both']\n",
    "test_hand_dummy.head(5)"
   ]
  },
  {
   "cell_type": "markdown",
   "metadata": {},
   "source": [
    "### married"
   ]
  },
  {
   "cell_type": "code",
   "execution_count": 697,
   "metadata": {
    "ExecuteTime": {
     "end_time": "2020-11-14T16:35:37.167091Z",
     "start_time": "2020-11-14T16:35:37.155125Z"
    }
   },
   "outputs": [],
   "source": [
    "# train ever married\n",
    "train_ever_married = np.where(train['married'].isin([0,1]),0,1)"
   ]
  },
  {
   "cell_type": "code",
   "execution_count": 698,
   "metadata": {
    "ExecuteTime": {
     "end_time": "2020-11-14T16:35:37.183049Z",
     "start_time": "2020-11-14T16:35:37.175069Z"
    }
   },
   "outputs": [],
   "source": [
    "# test ever married\n",
    "test_ever_married = np.where(test['married'].isin([0,1]),0,1)"
   ]
  },
  {
   "cell_type": "markdown",
   "metadata": {},
   "source": [
    "### race"
   ]
  },
  {
   "cell_type": "code",
   "execution_count": 699,
   "metadata": {
    "ExecuteTime": {
     "end_time": "2020-11-14T16:35:37.260840Z",
     "start_time": "2020-11-14T16:35:37.188037Z"
    }
   },
   "outputs": [],
   "source": [
    "train['race'][train['race']=='Other'] = 'race_other'\n",
    "train_race_dumm = pd.get_dummies(train['race'],dtype=int)"
   ]
  },
  {
   "cell_type": "code",
   "execution_count": 700,
   "metadata": {
    "ExecuteTime": {
     "end_time": "2020-11-14T16:35:37.292754Z",
     "start_time": "2020-11-14T16:35:37.264830Z"
    }
   },
   "outputs": [],
   "source": [
    "test['race'][test['race']=='Other'] = 'race_other'\n",
    "test_race_dumm = pd.get_dummies(test['race'],dtype=int)"
   ]
  },
  {
   "cell_type": "markdown",
   "metadata": {},
   "source": [
    "### religion"
   ]
  },
  {
   "cell_type": "code",
   "execution_count": 701,
   "metadata": {
    "ExecuteTime": {
     "end_time": "2020-11-14T16:35:37.340629Z",
     "start_time": "2020-11-14T16:35:37.294749Z"
    }
   },
   "outputs": [],
   "source": [
    "train_religion_ifA = np.where(train['religion'].str.startswith('A'),1,0).tolist()\n",
    "test_religion_ifA = np.where(test['religion'].str.startswith('A'),1,0).tolist()"
   ]
  },
  {
   "cell_type": "code",
   "execution_count": 702,
   "metadata": {
    "ExecuteTime": {
     "end_time": "2020-11-14T16:35:37.372541Z",
     "start_time": "2020-11-14T16:35:37.342626Z"
    }
   },
   "outputs": [],
   "source": [
    "train_religion_ifC = np.where(train['religion'].str.startswith('Christian'),1,0).tolist()\n",
    "test_religion_ifC = np.where(test['religion'].str.startswith('Christian'),1,0).tolist()"
   ]
  },
  {
   "cell_type": "code",
   "execution_count": 703,
   "metadata": {
    "ExecuteTime": {
     "end_time": "2020-11-14T16:35:37.403459Z",
     "start_time": "2020-11-14T16:35:37.374537Z"
    }
   },
   "outputs": [],
   "source": [
    "train['religion'][train['religion'] == 'Other'] ='religion_other'\n",
    "test['religion'][test['religion'] == 'Other'] ='religion_other'"
   ]
  },
  {
   "cell_type": "code",
   "execution_count": 704,
   "metadata": {
    "ExecuteTime": {
     "end_time": "2020-11-14T16:35:37.419441Z",
     "start_time": "2020-11-14T16:35:37.405453Z"
    }
   },
   "outputs": [],
   "source": [
    "train_religion_dumm = pd.get_dummies(train['religion'],dtype=int)\n",
    "test_religion_dumm = pd.get_dummies(test['religion'],dtype=int)"
   ]
  },
  {
   "cell_type": "markdown",
   "metadata": {},
   "source": [
    "### tp_"
   ]
  },
  {
   "cell_type": "code",
   "execution_count": 705,
   "metadata": {
    "ExecuteTime": {
     "end_time": "2020-11-14T16:35:37.450332Z",
     "start_time": "2020-11-14T16:35:37.422410Z"
    }
   },
   "outputs": [],
   "source": [
    "train.loc[:,train.columns.str.startswith('tp')] = 7-train.loc[:,train.columns.str.startswith('tp')]"
   ]
  },
  {
   "cell_type": "code",
   "execution_count": 706,
   "metadata": {
    "ExecuteTime": {
     "end_time": "2020-11-14T16:35:37.482247Z",
     "start_time": "2020-11-14T16:35:37.452328Z"
    }
   },
   "outputs": [
    {
     "data": {
      "text/html": [
       "<div>\n",
       "<style scoped>\n",
       "    .dataframe tbody tr th:only-of-type {\n",
       "        vertical-align: middle;\n",
       "    }\n",
       "\n",
       "    .dataframe tbody tr th {\n",
       "        vertical-align: top;\n",
       "    }\n",
       "\n",
       "    .dataframe thead th {\n",
       "        text-align: right;\n",
       "    }\n",
       "</style>\n",
       "<table border=\"1\" class=\"dataframe\">\n",
       "  <thead>\n",
       "    <tr style=\"text-align: right;\">\n",
       "      <th></th>\n",
       "      <th>extraversion</th>\n",
       "      <th>agreeable</th>\n",
       "      <th>conscientious</th>\n",
       "      <th>emotional</th>\n",
       "      <th>openess</th>\n",
       "    </tr>\n",
       "  </thead>\n",
       "  <tbody>\n",
       "    <tr>\n",
       "      <th>0</th>\n",
       "      <td>5.5</td>\n",
       "      <td>2.5</td>\n",
       "      <td>4.0</td>\n",
       "      <td>4.5</td>\n",
       "      <td>4.5</td>\n",
       "    </tr>\n",
       "    <tr>\n",
       "      <th>1</th>\n",
       "      <td>5.5</td>\n",
       "      <td>5.0</td>\n",
       "      <td>5.0</td>\n",
       "      <td>7.0</td>\n",
       "      <td>4.5</td>\n",
       "    </tr>\n",
       "    <tr>\n",
       "      <th>2</th>\n",
       "      <td>4.0</td>\n",
       "      <td>4.5</td>\n",
       "      <td>3.5</td>\n",
       "      <td>4.0</td>\n",
       "      <td>4.0</td>\n",
       "    </tr>\n",
       "    <tr>\n",
       "      <th>3</th>\n",
       "      <td>4.5</td>\n",
       "      <td>4.5</td>\n",
       "      <td>5.0</td>\n",
       "      <td>6.0</td>\n",
       "      <td>5.0</td>\n",
       "    </tr>\n",
       "    <tr>\n",
       "      <th>4</th>\n",
       "      <td>5.5</td>\n",
       "      <td>6.5</td>\n",
       "      <td>3.5</td>\n",
       "      <td>3.0</td>\n",
       "      <td>4.0</td>\n",
       "    </tr>\n",
       "  </tbody>\n",
       "</table>\n",
       "</div>"
      ],
      "text/plain": [
       "   extraversion  agreeable  conscientious  emotional  openess\n",
       "0           5.5        2.5            4.0        4.5      4.5\n",
       "1           5.5        5.0            5.0        7.0      4.5\n",
       "2           4.0        4.5            3.5        4.0      4.0\n",
       "3           4.5        4.5            5.0        6.0      5.0\n",
       "4           5.5        6.5            3.5        3.0      4.0"
      ]
     },
     "execution_count": 706,
     "metadata": {},
     "output_type": "execute_result"
    }
   ],
   "source": [
    "train_tp = {'extraversion' : (train['tp01'] + train['tp06'])/2,\n",
    "            'agreeable' : (train['tp02'] + train['tp07'])/2,\n",
    "            'conscientious' : (train['tp03'] + train['tp08'])/2,\n",
    "            'emotional' : (train['tp04'] + train['tp09'])/2,\n",
    "            'openess' : (train['tp05'] + train['tp10'])/2}\n",
    "train_tp = pd.DataFrame(train_tp)\n",
    "train_tp.head(5)"
   ]
  },
  {
   "cell_type": "code",
   "execution_count": 707,
   "metadata": {
    "ExecuteTime": {
     "end_time": "2020-11-14T16:35:37.498232Z",
     "start_time": "2020-11-14T16:35:37.484243Z"
    }
   },
   "outputs": [],
   "source": [
    "test.loc[:,test.columns.str.startswith('tp')] = 7-test.loc[:,test.columns.str.startswith('tp')]"
   ]
  },
  {
   "cell_type": "code",
   "execution_count": 708,
   "metadata": {
    "ExecuteTime": {
     "end_time": "2020-11-14T16:35:37.546081Z",
     "start_time": "2020-11-14T16:35:37.500227Z"
    }
   },
   "outputs": [
    {
     "data": {
      "text/html": [
       "<div>\n",
       "<style scoped>\n",
       "    .dataframe tbody tr th:only-of-type {\n",
       "        vertical-align: middle;\n",
       "    }\n",
       "\n",
       "    .dataframe tbody tr th {\n",
       "        vertical-align: top;\n",
       "    }\n",
       "\n",
       "    .dataframe thead th {\n",
       "        text-align: right;\n",
       "    }\n",
       "</style>\n",
       "<table border=\"1\" class=\"dataframe\">\n",
       "  <thead>\n",
       "    <tr style=\"text-align: right;\">\n",
       "      <th></th>\n",
       "      <th>extraversion</th>\n",
       "      <th>agreeable</th>\n",
       "      <th>conscientious</th>\n",
       "      <th>emotional</th>\n",
       "      <th>openess</th>\n",
       "    </tr>\n",
       "  </thead>\n",
       "  <tbody>\n",
       "    <tr>\n",
       "      <th>0</th>\n",
       "      <td>5.0</td>\n",
       "      <td>5.5</td>\n",
       "      <td>5.0</td>\n",
       "      <td>3.0</td>\n",
       "      <td>4.5</td>\n",
       "    </tr>\n",
       "    <tr>\n",
       "      <th>1</th>\n",
       "      <td>0.0</td>\n",
       "      <td>0.0</td>\n",
       "      <td>0.0</td>\n",
       "      <td>0.0</td>\n",
       "      <td>0.0</td>\n",
       "    </tr>\n",
       "    <tr>\n",
       "      <th>2</th>\n",
       "      <td>3.5</td>\n",
       "      <td>5.0</td>\n",
       "      <td>4.5</td>\n",
       "      <td>5.0</td>\n",
       "      <td>3.5</td>\n",
       "    </tr>\n",
       "    <tr>\n",
       "      <th>3</th>\n",
       "      <td>4.0</td>\n",
       "      <td>4.5</td>\n",
       "      <td>4.0</td>\n",
       "      <td>3.5</td>\n",
       "      <td>4.0</td>\n",
       "    </tr>\n",
       "    <tr>\n",
       "      <th>4</th>\n",
       "      <td>4.0</td>\n",
       "      <td>4.0</td>\n",
       "      <td>5.0</td>\n",
       "      <td>4.0</td>\n",
       "      <td>4.0</td>\n",
       "    </tr>\n",
       "  </tbody>\n",
       "</table>\n",
       "</div>"
      ],
      "text/plain": [
       "   extraversion  agreeable  conscientious  emotional  openess\n",
       "0           5.0        5.5            5.0        3.0      4.5\n",
       "1           0.0        0.0            0.0        0.0      0.0\n",
       "2           3.5        5.0            4.5        5.0      3.5\n",
       "3           4.0        4.5            4.0        3.5      4.0\n",
       "4           4.0        4.0            5.0        4.0      4.0"
      ]
     },
     "execution_count": 708,
     "metadata": {},
     "output_type": "execute_result"
    }
   ],
   "source": [
    "test_tp = {'extraversion' : (test['tp01'] + test['tp06'])/2,\n",
    "           'agreeable' : (test['tp02'] + test['tp07'])/2,\n",
    "           'conscientious' : (test['tp03'] + test['tp08'])/2,\n",
    "           'emotional' : (test['tp04'] + test['tp09'])/2,\n",
    "           'openess' : (test['tp05'] + test['tp10'])/2}\n",
    "test_tp = pd.DataFrame(test_tp)\n",
    "test_tp.head(5)"
   ]
  },
  {
   "cell_type": "markdown",
   "metadata": {},
   "source": [
    "### urban"
   ]
  },
  {
   "cell_type": "code",
   "execution_count": 709,
   "metadata": {
    "ExecuteTime": {
     "end_time": "2020-11-14T16:35:37.577993Z",
     "start_time": "2020-11-14T16:35:37.550068Z"
    }
   },
   "outputs": [
    {
     "data": {
      "text/plain": [
       "0        1\n",
       "1        3\n",
       "2        2\n",
       "3        3\n",
       "4        1\n",
       "        ..\n",
       "45527    3\n",
       "45528    1\n",
       "45529    2\n",
       "45530    0\n",
       "45531    2\n",
       "Name: urban, Length: 45532, dtype: int64"
      ]
     },
     "execution_count": 709,
     "metadata": {},
     "output_type": "execute_result"
    }
   ],
   "source": [
    "train['urban']"
   ]
  },
  {
   "cell_type": "code",
   "execution_count": 710,
   "metadata": {
    "ExecuteTime": {
     "end_time": "2020-11-14T16:35:37.593949Z",
     "start_time": "2020-11-14T16:35:37.581986Z"
    }
   },
   "outputs": [
    {
     "data": {
      "text/plain": [
       "0        2\n",
       "1        3\n",
       "2        1\n",
       "3        2\n",
       "4        2\n",
       "        ..\n",
       "11378    0\n",
       "11379    2\n",
       "11380    1\n",
       "11381    2\n",
       "11382    3\n",
       "Name: urban, Length: 11383, dtype: int64"
      ]
     },
     "execution_count": 710,
     "metadata": {},
     "output_type": "execute_result"
    }
   ],
   "source": [
    "test['urban']"
   ]
  },
  {
   "cell_type": "markdown",
   "metadata": {},
   "source": [
    "### wr_"
   ]
  },
  {
   "cell_type": "code",
   "execution_count": 711,
   "metadata": {
    "ExecuteTime": {
     "end_time": "2020-11-14T16:35:37.625865Z",
     "start_time": "2020-11-14T16:35:37.596941Z"
    }
   },
   "outputs": [],
   "source": [
    "train_wr_agg = train.loc[:,train.columns.str.startswith('wr_')].mean(axis=1)\n",
    "train_wf_agg = train.loc[:,train.columns.str.startswith('wf_')].mean(axis=1)"
   ]
  },
  {
   "cell_type": "code",
   "execution_count": 712,
   "metadata": {
    "ExecuteTime": {
     "end_time": "2020-11-14T16:35:37.641821Z",
     "start_time": "2020-11-14T16:35:37.628856Z"
    }
   },
   "outputs": [],
   "source": [
    "test_wr_agg = test.loc[:,test.columns.str.startswith('wr_')].mean(axis=1)\n",
    "test_wf_agg = test.loc[:,test.columns.str.startswith('wf_')].mean(axis=1)"
   ]
  },
  {
   "cell_type": "markdown",
   "metadata": {},
   "source": [
    "## data combine"
   ]
  },
  {
   "cell_type": "markdown",
   "metadata": {},
   "source": [
    "### train"
   ]
  },
  {
   "cell_type": "code",
   "execution_count": 713,
   "metadata": {
    "ExecuteTime": {
     "end_time": "2020-11-14T16:35:37.767485Z",
     "start_time": "2020-11-14T16:35:37.643816Z"
    }
   },
   "outputs": [
    {
     "data": {
      "text/html": [
       "<div>\n",
       "<style scoped>\n",
       "    .dataframe tbody tr th:only-of-type {\n",
       "        vertical-align: middle;\n",
       "    }\n",
       "\n",
       "    .dataframe tbody tr th {\n",
       "        vertical-align: top;\n",
       "    }\n",
       "\n",
       "    .dataframe thead th {\n",
       "        text-align: right;\n",
       "    }\n",
       "</style>\n",
       "<table border=\"1\" class=\"dataframe\">\n",
       "  <thead>\n",
       "    <tr style=\"text-align: right;\">\n",
       "      <th></th>\n",
       "      <th>marci_score</th>\n",
       "      <th>marci_plus_time</th>\n",
       "      <th>marci_negg_time</th>\n",
       "      <th>age</th>\n",
       "      <th>gender</th>\n",
       "      <th>education</th>\n",
       "      <th>engnat</th>\n",
       "      <th>married</th>\n",
       "      <th>wr</th>\n",
       "      <th>wf</th>\n",
       "      <th>...</th>\n",
       "      <th>Buddhist</th>\n",
       "      <th>Christian_Catholic</th>\n",
       "      <th>Christian_Mormon</th>\n",
       "      <th>Christian_Other</th>\n",
       "      <th>Christian_Protestant</th>\n",
       "      <th>Hindu</th>\n",
       "      <th>Jewish</th>\n",
       "      <th>Muslim</th>\n",
       "      <th>Sikh</th>\n",
       "      <th>religion_other</th>\n",
       "    </tr>\n",
       "  </thead>\n",
       "  <tbody>\n",
       "    <tr>\n",
       "      <th>0</th>\n",
       "      <td>59.0</td>\n",
       "      <td>3.0</td>\n",
       "      <td>3.1</td>\n",
       "      <td>30</td>\n",
       "      <td>0</td>\n",
       "      <td>2</td>\n",
       "      <td>1</td>\n",
       "      <td>1</td>\n",
       "      <td>0.538462</td>\n",
       "      <td>0.000000</td>\n",
       "      <td>...</td>\n",
       "      <td>0</td>\n",
       "      <td>0</td>\n",
       "      <td>0</td>\n",
       "      <td>0</td>\n",
       "      <td>0</td>\n",
       "      <td>0</td>\n",
       "      <td>0</td>\n",
       "      <td>0</td>\n",
       "      <td>0</td>\n",
       "      <td>1</td>\n",
       "    </tr>\n",
       "    <tr>\n",
       "      <th>1</th>\n",
       "      <td>52.0</td>\n",
       "      <td>2.8</td>\n",
       "      <td>3.6</td>\n",
       "      <td>20</td>\n",
       "      <td>0</td>\n",
       "      <td>4</td>\n",
       "      <td>2</td>\n",
       "      <td>0</td>\n",
       "      <td>0.615385</td>\n",
       "      <td>0.000000</td>\n",
       "      <td>...</td>\n",
       "      <td>0</td>\n",
       "      <td>0</td>\n",
       "      <td>0</td>\n",
       "      <td>0</td>\n",
       "      <td>0</td>\n",
       "      <td>1</td>\n",
       "      <td>0</td>\n",
       "      <td>0</td>\n",
       "      <td>0</td>\n",
       "      <td>0</td>\n",
       "    </tr>\n",
       "    <tr>\n",
       "      <th>2</th>\n",
       "      <td>38.0</td>\n",
       "      <td>1.7</td>\n",
       "      <td>3.9</td>\n",
       "      <td>30</td>\n",
       "      <td>1</td>\n",
       "      <td>3</td>\n",
       "      <td>1</td>\n",
       "      <td>1</td>\n",
       "      <td>0.769231</td>\n",
       "      <td>0.333333</td>\n",
       "      <td>...</td>\n",
       "      <td>0</td>\n",
       "      <td>0</td>\n",
       "      <td>0</td>\n",
       "      <td>0</td>\n",
       "      <td>0</td>\n",
       "      <td>0</td>\n",
       "      <td>0</td>\n",
       "      <td>0</td>\n",
       "      <td>0</td>\n",
       "      <td>1</td>\n",
       "    </tr>\n",
       "    <tr>\n",
       "      <th>3</th>\n",
       "      <td>67.0</td>\n",
       "      <td>3.9</td>\n",
       "      <td>3.2</td>\n",
       "      <td>20</td>\n",
       "      <td>0</td>\n",
       "      <td>4</td>\n",
       "      <td>2</td>\n",
       "      <td>0</td>\n",
       "      <td>0.384615</td>\n",
       "      <td>0.000000</td>\n",
       "      <td>...</td>\n",
       "      <td>0</td>\n",
       "      <td>0</td>\n",
       "      <td>0</td>\n",
       "      <td>0</td>\n",
       "      <td>0</td>\n",
       "      <td>1</td>\n",
       "      <td>0</td>\n",
       "      <td>0</td>\n",
       "      <td>0</td>\n",
       "      <td>0</td>\n",
       "    </tr>\n",
       "    <tr>\n",
       "      <th>4</th>\n",
       "      <td>60.0</td>\n",
       "      <td>2.9</td>\n",
       "      <td>2.9</td>\n",
       "      <td>20</td>\n",
       "      <td>1</td>\n",
       "      <td>3</td>\n",
       "      <td>1</td>\n",
       "      <td>1</td>\n",
       "      <td>0.846154</td>\n",
       "      <td>0.333333</td>\n",
       "      <td>...</td>\n",
       "      <td>0</td>\n",
       "      <td>0</td>\n",
       "      <td>0</td>\n",
       "      <td>0</td>\n",
       "      <td>0</td>\n",
       "      <td>0</td>\n",
       "      <td>0</td>\n",
       "      <td>0</td>\n",
       "      <td>0</td>\n",
       "      <td>0</td>\n",
       "    </tr>\n",
       "  </tbody>\n",
       "</table>\n",
       "<p>5 rows × 43 columns</p>\n",
       "</div>"
      ],
      "text/plain": [
       "   marci_score  marci_plus_time  marci_negg_time age  gender education  \\\n",
       "0         59.0              3.0              3.1  30       0         2   \n",
       "1         52.0              2.8              3.6  20       0         4   \n",
       "2         38.0              1.7              3.9  30       1         3   \n",
       "3         67.0              3.9              3.2  20       0         4   \n",
       "4         60.0              2.9              2.9  20       1         3   \n",
       "\n",
       "   engnat  married        wr        wf  ... Buddhist  Christian_Catholic  \\\n",
       "0       1        1  0.538462  0.000000  ...        0                   0   \n",
       "1       2        0  0.615385  0.000000  ...        0                   0   \n",
       "2       1        1  0.769231  0.333333  ...        0                   0   \n",
       "3       2        0  0.384615  0.000000  ...        0                   0   \n",
       "4       1        1  0.846154  0.333333  ...        0                   0   \n",
       "\n",
       "   Christian_Mormon  Christian_Other  Christian_Protestant  Hindu  Jewish  \\\n",
       "0                 0                0                     0      0       0   \n",
       "1                 0                0                     0      1       0   \n",
       "2                 0                0                     0      0       0   \n",
       "3                 0                0                     0      1       0   \n",
       "4                 0                0                     0      0       0   \n",
       "\n",
       "   Muslim  Sikh  religion_other  \n",
       "0       0     0               1  \n",
       "1       0     0               0  \n",
       "2       0     0               1  \n",
       "3       0     0               0  \n",
       "4       0     0               0  \n",
       "\n",
       "[5 rows x 43 columns]"
      ]
     },
     "execution_count": 713,
     "metadata": {},
     "output_type": "execute_result"
    }
   ],
   "source": [
    "train_df = {\n",
    "    'marci_score' : train_marci_score,\n",
    "    'marci_plus_time' : train_plus_time,\n",
    "    'marci_negg_time' : train_negg_time,\n",
    "    'age' : train['age_group'],\n",
    "    'gender' : train['gender'],\n",
    "    'education' : train['education'].astype(str),\n",
    "    'engnat' : train['engnat'],\n",
    "    'married' : train_ever_married,\n",
    "    'wr' : train_wr_agg,\n",
    "    'wf' : train_wf_agg,\n",
    "    'urban' : train['urban'].astype(str),\n",
    "    'fam_single' : train['fam_single'],\n",
    "    'fam_small' : train['fam_small'],\n",
    "    'fam_co' : train['fam_co'],\n",
    "    'voted' : train['voted']\n",
    "}\n",
    "train_df = pd.DataFrame(train_df)\n",
    "train_df = pd.concat([train_df,train_hand_dummy,train_tp,train_race_dumm,train_religion_dumm],axis=1)\n",
    "train_df.head(5)"
   ]
  },
  {
   "cell_type": "markdown",
   "metadata": {},
   "source": [
    "\n",
    "### test"
   ]
  },
  {
   "cell_type": "code",
   "execution_count": 714,
   "metadata": {
    "ExecuteTime": {
     "end_time": "2020-11-14T16:35:37.859239Z",
     "start_time": "2020-11-14T16:35:37.770476Z"
    }
   },
   "outputs": [
    {
     "data": {
      "text/html": [
       "<div>\n",
       "<style scoped>\n",
       "    .dataframe tbody tr th:only-of-type {\n",
       "        vertical-align: middle;\n",
       "    }\n",
       "\n",
       "    .dataframe tbody tr th {\n",
       "        vertical-align: top;\n",
       "    }\n",
       "\n",
       "    .dataframe thead th {\n",
       "        text-align: right;\n",
       "    }\n",
       "</style>\n",
       "<table border=\"1\" class=\"dataframe\">\n",
       "  <thead>\n",
       "    <tr style=\"text-align: right;\">\n",
       "      <th></th>\n",
       "      <th>marci_score</th>\n",
       "      <th>marci_plus_time</th>\n",
       "      <th>marci_negg_time</th>\n",
       "      <th>age</th>\n",
       "      <th>gender</th>\n",
       "      <th>education</th>\n",
       "      <th>engnat</th>\n",
       "      <th>married</th>\n",
       "      <th>wr</th>\n",
       "      <th>wf</th>\n",
       "      <th>...</th>\n",
       "      <th>Buddhist</th>\n",
       "      <th>Christian_Catholic</th>\n",
       "      <th>Christian_Mormon</th>\n",
       "      <th>Christian_Other</th>\n",
       "      <th>Christian_Protestant</th>\n",
       "      <th>Hindu</th>\n",
       "      <th>Jewish</th>\n",
       "      <th>Muslim</th>\n",
       "      <th>Sikh</th>\n",
       "      <th>religion_other</th>\n",
       "    </tr>\n",
       "  </thead>\n",
       "  <tbody>\n",
       "    <tr>\n",
       "      <th>0</th>\n",
       "      <td>49.0</td>\n",
       "      <td>2.5</td>\n",
       "      <td>3.6</td>\n",
       "      <td>10</td>\n",
       "      <td>1</td>\n",
       "      <td>2</td>\n",
       "      <td>2</td>\n",
       "      <td>0</td>\n",
       "      <td>0.461538</td>\n",
       "      <td>0.0</td>\n",
       "      <td>...</td>\n",
       "      <td>0</td>\n",
       "      <td>0</td>\n",
       "      <td>0</td>\n",
       "      <td>0</td>\n",
       "      <td>1</td>\n",
       "      <td>0</td>\n",
       "      <td>0</td>\n",
       "      <td>0</td>\n",
       "      <td>0</td>\n",
       "      <td>0</td>\n",
       "    </tr>\n",
       "    <tr>\n",
       "      <th>1</th>\n",
       "      <td>56.0</td>\n",
       "      <td>2.9</td>\n",
       "      <td>3.3</td>\n",
       "      <td>10</td>\n",
       "      <td>1</td>\n",
       "      <td>2</td>\n",
       "      <td>2</td>\n",
       "      <td>0</td>\n",
       "      <td>0.000000</td>\n",
       "      <td>0.0</td>\n",
       "      <td>...</td>\n",
       "      <td>0</td>\n",
       "      <td>1</td>\n",
       "      <td>0</td>\n",
       "      <td>0</td>\n",
       "      <td>0</td>\n",
       "      <td>0</td>\n",
       "      <td>0</td>\n",
       "      <td>0</td>\n",
       "      <td>0</td>\n",
       "      <td>0</td>\n",
       "    </tr>\n",
       "    <tr>\n",
       "      <th>2</th>\n",
       "      <td>71.0</td>\n",
       "      <td>3.6</td>\n",
       "      <td>2.5</td>\n",
       "      <td>30</td>\n",
       "      <td>1</td>\n",
       "      <td>3</td>\n",
       "      <td>2</td>\n",
       "      <td>1</td>\n",
       "      <td>0.538462</td>\n",
       "      <td>0.0</td>\n",
       "      <td>...</td>\n",
       "      <td>0</td>\n",
       "      <td>0</td>\n",
       "      <td>0</td>\n",
       "      <td>1</td>\n",
       "      <td>0</td>\n",
       "      <td>0</td>\n",
       "      <td>0</td>\n",
       "      <td>0</td>\n",
       "      <td>0</td>\n",
       "      <td>0</td>\n",
       "    </tr>\n",
       "    <tr>\n",
       "      <th>3</th>\n",
       "      <td>67.0</td>\n",
       "      <td>2.8</td>\n",
       "      <td>2.1</td>\n",
       "      <td>60</td>\n",
       "      <td>1</td>\n",
       "      <td>4</td>\n",
       "      <td>1</td>\n",
       "      <td>1</td>\n",
       "      <td>1.000000</td>\n",
       "      <td>0.0</td>\n",
       "      <td>...</td>\n",
       "      <td>0</td>\n",
       "      <td>1</td>\n",
       "      <td>0</td>\n",
       "      <td>0</td>\n",
       "      <td>0</td>\n",
       "      <td>0</td>\n",
       "      <td>0</td>\n",
       "      <td>0</td>\n",
       "      <td>0</td>\n",
       "      <td>0</td>\n",
       "    </tr>\n",
       "    <tr>\n",
       "      <th>4</th>\n",
       "      <td>58.0</td>\n",
       "      <td>2.9</td>\n",
       "      <td>3.1</td>\n",
       "      <td>10</td>\n",
       "      <td>1</td>\n",
       "      <td>2</td>\n",
       "      <td>1</td>\n",
       "      <td>0</td>\n",
       "      <td>0.769231</td>\n",
       "      <td>0.0</td>\n",
       "      <td>...</td>\n",
       "      <td>0</td>\n",
       "      <td>0</td>\n",
       "      <td>0</td>\n",
       "      <td>0</td>\n",
       "      <td>0</td>\n",
       "      <td>0</td>\n",
       "      <td>0</td>\n",
       "      <td>0</td>\n",
       "      <td>0</td>\n",
       "      <td>0</td>\n",
       "    </tr>\n",
       "  </tbody>\n",
       "</table>\n",
       "<p>5 rows × 42 columns</p>\n",
       "</div>"
      ],
      "text/plain": [
       "   marci_score  marci_plus_time  marci_negg_time age  gender education  \\\n",
       "0         49.0              2.5              3.6  10       1         2   \n",
       "1         56.0              2.9              3.3  10       1         2   \n",
       "2         71.0              3.6              2.5  30       1         3   \n",
       "3         67.0              2.8              2.1  60       1         4   \n",
       "4         58.0              2.9              3.1  10       1         2   \n",
       "\n",
       "   engnat  married        wr   wf  ... Buddhist  Christian_Catholic  \\\n",
       "0       2        0  0.461538  0.0  ...        0                   0   \n",
       "1       2        0  0.000000  0.0  ...        0                   1   \n",
       "2       2        1  0.538462  0.0  ...        0                   0   \n",
       "3       1        1  1.000000  0.0  ...        0                   1   \n",
       "4       1        0  0.769231  0.0  ...        0                   0   \n",
       "\n",
       "   Christian_Mormon  Christian_Other  Christian_Protestant  Hindu  Jewish  \\\n",
       "0                 0                0                     1      0       0   \n",
       "1                 0                0                     0      0       0   \n",
       "2                 0                1                     0      0       0   \n",
       "3                 0                0                     0      0       0   \n",
       "4                 0                0                     0      0       0   \n",
       "\n",
       "   Muslim  Sikh  religion_other  \n",
       "0       0     0               0  \n",
       "1       0     0               0  \n",
       "2       0     0               0  \n",
       "3       0     0               0  \n",
       "4       0     0               0  \n",
       "\n",
       "[5 rows x 42 columns]"
      ]
     },
     "execution_count": 714,
     "metadata": {},
     "output_type": "execute_result"
    }
   ],
   "source": [
    "test_df = {\n",
    "    'marci_score' : test_marci_score,\n",
    "    'marci_plus_time' : test_plus_time,\n",
    "    'marci_negg_time' : test_negg_time,\n",
    "    'age' : test['age_group'],\n",
    "    'gender' : test['gender'],\n",
    "    'education' : test['education'].astype(str),\n",
    "    'engnat' : test['engnat'],\n",
    "    'married' : test_ever_married,\n",
    "    'wr' : test_wr_agg,\n",
    "    'wf' : test_wf_agg,\n",
    "    'urban' : test['urban'].astype(str),\n",
    "    'fam_single' : test['fam_single'],\n",
    "    'fam_small' : test['fam_small'],\n",
    "    'fam_co' : test['fam_co']\n",
    "}\n",
    "test_df = pd.DataFrame(test_df)\n",
    "test_df = pd.concat([test_df,test_hand_dummy,test_tp,test_race_dumm,test_religion_dumm],axis=1)\n",
    "test_df.head(5)"
   ]
  },
  {
   "cell_type": "markdown",
   "metadata": {},
   "source": [
    "### scaling, split"
   ]
  },
  {
   "cell_type": "code",
   "execution_count": 715,
   "metadata": {
    "ExecuteTime": {
     "end_time": "2020-11-14T16:35:37.875229Z",
     "start_time": "2020-11-14T16:35:37.861267Z"
    }
   },
   "outputs": [],
   "source": [
    "train_df['voted'] = train_df['voted'].replace({1:1,2:0})"
   ]
  },
  {
   "cell_type": "code",
   "execution_count": 716,
   "metadata": {
    "ExecuteTime": {
     "end_time": "2020-11-14T16:35:38.018812Z",
     "start_time": "2020-11-14T16:35:37.878217Z"
    }
   },
   "outputs": [],
   "source": [
    "# ordinal\n",
    "enc = OrdinalEncoder()\n",
    "train_df[['age','education','engnat']] = enc.fit_transform(train_df[['age','education','engnat']])\n",
    "test_df[['age','education','engnat']] = enc.fit_transform(test_df[['age','education','engnat']])"
   ]
  },
  {
   "cell_type": "code",
   "execution_count": 717,
   "metadata": {
    "ExecuteTime": {
     "end_time": "2020-11-14T16:35:38.241217Z",
     "start_time": "2020-11-14T16:35:38.024807Z"
    }
   },
   "outputs": [
    {
     "data": {
      "text/plain": [
       "MinMaxScaler(copy=True, feature_range=(0, 1))"
      ]
     },
     "execution_count": 717,
     "metadata": {},
     "output_type": "execute_result"
    }
   ],
   "source": [
    "# min max scaling\n",
    "scaler = MinMaxScaler()\n",
    "num_cols = ['marci_score','marci_plus_time','marci_negg_time','wr','wf','extraversion','agreeable','conscientious',\n",
    "            'emotional','openess']\n",
    "ord_cols = ['age','education','urban']\n",
    "cat_cols = train_df.drop(num_cols+ord_cols+['voted'],axis=1).columns.tolist()\n",
    "\n",
    "train_df_scaled = train_df.copy()\n",
    "test_df_scaled = test_df.copy()\n",
    "\n",
    "scaler.fit(train_df_scaled[num_cols])\n",
    "train_df_scaled[num_cols] = scaler.transform(train_df_scaled[num_cols])\n",
    "test_df_scaled[num_cols] = scaler.transform(test_df_scaled[num_cols])\n"
   ]
  },
  {
   "cell_type": "code",
   "execution_count": 718,
   "metadata": {
    "ExecuteTime": {
     "end_time": "2020-11-14T16:36:01.606147Z",
     "start_time": "2020-11-14T16:36:01.575232Z"
    }
   },
   "outputs": [],
   "source": [
    "# train,test,x,y split\n",
    "x_train = train_df.drop('voted',axis=1)\n",
    "x_train.columns = x_train.columns.str.replace(' ','_')\n",
    "\n",
    "train_df.columns = train_df.columns.str.replace(' ','_')\n",
    "test_df.columns  = test_df.columns.str.replace(' ','_')\n",
    "train_df_scaled.columns = train_df_scaled.columns.str.replace(' ','_')\n",
    "test_df_scaled.columns  = test_df_scaled.columns.str.replace(' ','_')\n",
    "\n",
    "y_train = train_df['voted']"
   ]
  },
  {
   "cell_type": "markdown",
   "metadata": {},
   "source": [
    "## model"
   ]
  },
  {
   "cell_type": "markdown",
   "metadata": {},
   "source": [
    "### modeling"
   ]
  },
  {
   "cell_type": "code",
   "execution_count": 674,
   "metadata": {
    "ExecuteTime": {
     "end_time": "2020-11-14T16:35:25.500377Z",
     "start_time": "2020-11-14T16:35:25.487435Z"
    }
   },
   "outputs": [],
   "source": [
    "from pycaret.classification import *"
   ]
  },
  {
   "cell_type": "code",
   "execution_count": 675,
   "metadata": {
    "ExecuteTime": {
     "end_time": "2020-11-14T16:35:25.596121Z",
     "start_time": "2020-11-14T16:35:25.502371Z"
    }
   },
   "outputs": [
    {
     "ename": "ValueError",
     "evalue": "Column type forced is either target column or doesn't exist in the dataset.",
     "output_type": "error",
     "traceback": [
      "\u001b[1;31m---------------------------------------------------------------------------\u001b[0m",
      "\u001b[1;31mValueError\u001b[0m                                Traceback (most recent call last)",
      "\u001b[1;32m<ipython-input-675-4aa343e6eedd>\u001b[0m in \u001b[0;36m<module>\u001b[1;34m\u001b[0m\n\u001b[1;32m----> 1\u001b[1;33m clf = setup(data=train_df,target='voted',numeric_features=num_cols,categorical_features=cat_cols,\n\u001b[0m\u001b[0;32m      2\u001b[0m             ordinal_features={'age' : np.unique(train_df['age']).tolist(),\n\u001b[0;32m      3\u001b[0m                               \u001b[1;34m'education'\u001b[0m\u001b[1;33m:\u001b[0m\u001b[0mnp\u001b[0m\u001b[1;33m.\u001b[0m\u001b[0munique\u001b[0m\u001b[1;33m(\u001b[0m\u001b[0mtrain_df\u001b[0m\u001b[1;33m[\u001b[0m\u001b[1;34m'education'\u001b[0m\u001b[1;33m]\u001b[0m\u001b[1;33m)\u001b[0m\u001b[1;33m.\u001b[0m\u001b[0mtolist\u001b[0m\u001b[1;33m(\u001b[0m\u001b[1;33m)\u001b[0m\u001b[1;33m,\u001b[0m\u001b[1;33m\u001b[0m\u001b[1;33m\u001b[0m\u001b[0m\n\u001b[0;32m      4\u001b[0m                               'urban':np.unique(train_df['urban']).tolist()},\n\u001b[0;32m      5\u001b[0m             feature_selection=True,feature_selection_threshold=0.3)\n",
      "\u001b[1;32m~\\anaconda3\\envs\\simon_env\\lib\\site-packages\\pycaret\\classification.py\u001b[0m in \u001b[0;36msetup\u001b[1;34m(data, target, train_size, test_data, preprocess, imputation_type, iterative_imputation_iters, categorical_features, categorical_imputation, categorical_iterative_imputer, ordinal_features, high_cardinality_features, high_cardinality_method, numeric_features, numeric_imputation, numeric_iterative_imputer, date_features, ignore_features, normalize, normalize_method, transformation, transformation_method, handle_unknown_categorical, unknown_categorical_method, pca, pca_method, pca_components, ignore_low_variance, combine_rare_levels, rare_level_threshold, bin_numeric_features, remove_outliers, outliers_threshold, remove_multicollinearity, multicollinearity_threshold, remove_perfect_collinearity, create_clusters, cluster_iter, polynomial_features, polynomial_degree, trigonometry_features, polynomial_threshold, group_features, group_names, feature_selection, feature_selection_threshold, feature_selection_method, feature_interaction, feature_ratio, interaction_threshold, fix_imbalance, fix_imbalance_method, data_split_shuffle, data_split_stratify, fold_strategy, fold, fold_shuffle, fold_groups, n_jobs, use_gpu, custom_pipeline, html, session_id, log_experiment, experiment_name, log_plots, log_profile, log_data, silent, verbose, profile)\u001b[0m\n\u001b[0;32m    572\u001b[0m         \u001b[0mlog_plots\u001b[0m \u001b[1;33m=\u001b[0m \u001b[1;33m[\u001b[0m\u001b[1;34m\"auc\"\u001b[0m\u001b[1;33m,\u001b[0m \u001b[1;34m\"confusion_matrix\"\u001b[0m\u001b[1;33m,\u001b[0m \u001b[1;34m\"feature\"\u001b[0m\u001b[1;33m]\u001b[0m\u001b[1;33m\u001b[0m\u001b[1;33m\u001b[0m\u001b[0m\n\u001b[0;32m    573\u001b[0m \u001b[1;33m\u001b[0m\u001b[0m\n\u001b[1;32m--> 574\u001b[1;33m     return pycaret.internal.tabular.setup(\n\u001b[0m\u001b[0;32m    575\u001b[0m         \u001b[0mml_usecase\u001b[0m\u001b[1;33m=\u001b[0m\u001b[1;34m\"classification\"\u001b[0m\u001b[1;33m,\u001b[0m\u001b[1;33m\u001b[0m\u001b[1;33m\u001b[0m\u001b[0m\n\u001b[0;32m    576\u001b[0m         \u001b[0mavailable_plots\u001b[0m\u001b[1;33m=\u001b[0m\u001b[0mavailable_plots\u001b[0m\u001b[1;33m,\u001b[0m\u001b[1;33m\u001b[0m\u001b[1;33m\u001b[0m\u001b[0m\n",
      "\u001b[1;32m~\\anaconda3\\envs\\simon_env\\lib\\site-packages\\pycaret\\internal\\tabular.py\u001b[0m in \u001b[0;36msetup\u001b[1;34m(data, target, ml_usecase, available_plots, train_size, test_data, preprocess, imputation_type, iterative_imputation_iters, categorical_features, categorical_imputation, categorical_iterative_imputer, ordinal_features, high_cardinality_features, high_cardinality_method, numeric_features, numeric_imputation, numeric_iterative_imputer, date_features, ignore_features, normalize, normalize_method, transformation, transformation_method, handle_unknown_categorical, unknown_categorical_method, pca, pca_method, pca_components, ignore_low_variance, combine_rare_levels, rare_level_threshold, bin_numeric_features, remove_outliers, outliers_threshold, remove_multicollinearity, multicollinearity_threshold, remove_perfect_collinearity, create_clusters, cluster_iter, polynomial_features, polynomial_degree, trigonometry_features, polynomial_threshold, group_features, group_names, feature_selection, feature_selection_threshold, feature_selection_method, feature_interaction, feature_ratio, interaction_threshold, fix_imbalance, fix_imbalance_method, transform_target, transform_target_method, data_split_shuffle, data_split_stratify, fold_strategy, fold, fold_shuffle, fold_groups, n_jobs, use_gpu, custom_pipeline, html, session_id, log_experiment, experiment_name, log_plots, log_profile, log_data, silent, verbose, profile, display)\u001b[0m\n\u001b[0;32m    590\u001b[0m         \u001b[1;32mfor\u001b[0m \u001b[0mi\u001b[0m \u001b[1;32min\u001b[0m \u001b[0mcategorical_features\u001b[0m\u001b[1;33m:\u001b[0m\u001b[1;33m\u001b[0m\u001b[1;33m\u001b[0m\u001b[0m\n\u001b[0;32m    591\u001b[0m             \u001b[1;32mif\u001b[0m \u001b[0mi\u001b[0m \u001b[1;32mnot\u001b[0m \u001b[1;32min\u001b[0m \u001b[0mall_cols\u001b[0m\u001b[1;33m:\u001b[0m\u001b[1;33m\u001b[0m\u001b[1;33m\u001b[0m\u001b[0m\n\u001b[1;32m--> 592\u001b[1;33m                 raise ValueError(\n\u001b[0m\u001b[0;32m    593\u001b[0m                     \u001b[1;34m\"Column type forced is either target column or doesn't exist in the dataset.\"\u001b[0m\u001b[1;33m\u001b[0m\u001b[1;33m\u001b[0m\u001b[0m\n\u001b[0;32m    594\u001b[0m                 )\n",
      "\u001b[1;31mValueError\u001b[0m: Column type forced is either target column or doesn't exist in the dataset."
     ]
    }
   ],
   "source": [
    "clf = setup(data=train_df,target='voted',numeric_features=num_cols,categorical_features=cat_cols,\n",
    "            ordinal_features={'age' : np.unique(train_df['age']).tolist(),\n",
    "                              'education':np.unique(train_df['education']).tolist(),\n",
    "                              'urban':np.unique(train_df['urban']).tolist()},\n",
    "            feature_selection=True,feature_selection_threshold=0.3)"
   ]
  },
  {
   "cell_type": "code",
   "execution_count": null,
   "metadata": {
    "ExecuteTime": {
     "end_time": "2020-11-14T16:35:25.613108Z",
     "start_time": "2020-11-14T16:35:23.367Z"
    }
   },
   "outputs": [],
   "source": [
    "best_3 = compare_models(sort = 'AUC', n_select = 3)"
   ]
  },
  {
   "cell_type": "code",
   "execution_count": null,
   "metadata": {
    "ExecuteTime": {
     "end_time": "2020-11-14T16:35:25.615075Z",
     "start_time": "2020-11-14T16:35:23.377Z"
    }
   },
   "outputs": [],
   "source": [
    "blended = blend_models(estimator_list = best_3, fold = 5, method = 'soft')"
   ]
  },
  {
   "cell_type": "code",
   "execution_count": null,
   "metadata": {
    "ExecuteTime": {
     "end_time": "2020-11-14T16:35:25.616069Z",
     "start_time": "2020-11-14T16:35:23.386Z"
    }
   },
   "outputs": [],
   "source": [
    "pred_holdout = predict_model(blended)"
   ]
  },
  {
   "cell_type": "markdown",
   "metadata": {},
   "source": [
    "#### lgbm tuning"
   ]
  },
  {
   "cell_type": "code",
   "execution_count": null,
   "metadata": {
    "ExecuteTime": {
     "end_time": "2020-11-14T16:35:25.618076Z",
     "start_time": "2020-11-14T16:35:23.392Z"
    }
   },
   "outputs": [],
   "source": [
    "pyca_params = {\n",
    "    'learning_rate' : [0.01,0.03,0.05,0.07,0.1],\n",
    "    'n_estimators' : [100,300,500,700,1000],\n",
    "    'boosting_type' : ['gbdt','dart']\n",
    "}"
   ]
  },
  {
   "cell_type": "code",
   "execution_count": null,
   "metadata": {
    "ExecuteTime": {
     "end_time": "2020-11-14T16:35:25.620060Z",
     "start_time": "2020-11-14T16:35:23.401Z"
    }
   },
   "outputs": [],
   "source": [
    "pycar_tuned = tune_model(best_3[1],custom_grid = pyca_params)"
   ]
  },
  {
   "cell_type": "code",
   "execution_count": null,
   "metadata": {
    "ExecuteTime": {
     "end_time": "2020-11-14T16:35:25.622054Z",
     "start_time": "2020-11-14T16:35:23.408Z"
    }
   },
   "outputs": [],
   "source": [
    "plot_model(best_3[2],'feature')"
   ]
  },
  {
   "cell_type": "code",
   "execution_count": null,
   "metadata": {
    "ExecuteTime": {
     "end_time": "2020-11-14T16:35:25.623050Z",
     "start_time": "2020-11-14T16:35:23.415Z"
    }
   },
   "outputs": [],
   "source": [
    "['marci_score','marci_negg_time','wr','marci_plus_time','education','agreeable','age','extraversion','conscientious','openess']"
   ]
  },
  {
   "cell_type": "code",
   "execution_count": null,
   "metadata": {
    "ExecuteTime": {
     "end_time": "2020-11-14T16:35:25.624048Z",
     "start_time": "2020-11-14T16:35:23.421Z"
    }
   },
   "outputs": [],
   "source": [
    "best_3[0]"
   ]
  },
  {
   "cell_type": "markdown",
   "metadata": {},
   "source": [
    "### modeling combined"
   ]
  },
  {
   "cell_type": "code",
   "execution_count": null,
   "metadata": {
    "ExecuteTime": {
     "end_time": "2020-11-14T16:35:25.626043Z",
     "start_time": "2020-11-14T16:35:23.609Z"
    }
   },
   "outputs": [],
   "source": [
    "kfold = StratifiedKFold(n_splits=10)"
   ]
  },
  {
   "cell_type": "code",
   "execution_count": null,
   "metadata": {
    "ExecuteTime": {
     "end_time": "2020-11-14T16:35:25.628042Z",
     "start_time": "2020-11-14T16:35:23.615Z"
    }
   },
   "outputs": [],
   "source": [
    "random_state=0\n",
    "classifiers = []\n",
    "classifiers.append(SVC(random_state=random_state))\n",
    "classifiers.append(RandomForestClassifier(random_state=random_state))\n",
    "classifiers.append(ExtraTreesClassifier(random_state=random_state))\n",
    "classifiers.append(GradientBoostingClassifier(random_state=random_state))\n",
    "classifiers.append(MLPClassifier(random_state=random_state))\n",
    "classifiers.append(LogisticRegression(random_state = random_state))\n",
    "classifiers.append(LinearDiscriminantAnalysis())\n",
    "classifiers.append(LGBMClassifier(random_state=random_state))"
   ]
  },
  {
   "cell_type": "code",
   "execution_count": null,
   "metadata": {
    "ExecuteTime": {
     "end_time": "2020-11-14T16:35:25.630032Z",
     "start_time": "2020-11-14T16:35:23.621Z"
    }
   },
   "outputs": [],
   "source": [
    "cv_results = []\n",
    "for classifier in classifiers:\n",
    "    cv_results.append(cross_val_score(classifier,x_train,y=y_train,scoring='roc_auc',cv=kfold,n_jobs=-1))"
   ]
  },
  {
   "cell_type": "code",
   "execution_count": null,
   "metadata": {
    "ExecuteTime": {
     "end_time": "2020-11-14T16:35:25.631030Z",
     "start_time": "2020-11-14T16:35:23.628Z"
    }
   },
   "outputs": [],
   "source": [
    "cv_means = []\n",
    "cv_std = []\n",
    "for cv_result in cv_results:\n",
    "    cv_means.append(cv_result.mean())\n",
    "    cv_std.append(cv_result.std())\n",
    "    "
   ]
  },
  {
   "cell_type": "code",
   "execution_count": null,
   "metadata": {
    "ExecuteTime": {
     "end_time": "2020-11-14T16:35:25.632027Z",
     "start_time": "2020-11-14T16:35:23.633Z"
    }
   },
   "outputs": [],
   "source": [
    "cv_res = pd.DataFrame({\"CrossValMeans\":cv_means,\"CrossValerrors\": cv_std,\n",
    "                       \"Algorithm\":[\"SVC\",\"RandomForest\",\"ExtraTrees\",\"GradientBoosting\",\"MultipleLayerPerceptron\",\n",
    "                                    \"LogisticRegression\",\"LinearDiscriminantAnalysis\",'LGBM']})\n",
    "\n",
    "g = sns.barplot(\"CrossValMeans\",\"Algorithm\",data = cv_res, palette=\"Set3\",orient = \"h\",**{'xerr':cv_std})\n",
    "g.set_xlabel(\"Mean Accuracy\")\n",
    "g.set_title(\"Cross validation scores\")\n",
    "g.xaxis.set_major_formatter(FormatStrFormatter('%.1f'))\n",
    "g.set_xlim([0.1,0.8])"
   ]
  },
  {
   "cell_type": "code",
   "execution_count": null,
   "metadata": {
    "ExecuteTime": {
     "end_time": "2020-11-14T16:35:25.634035Z",
     "start_time": "2020-11-14T16:35:23.640Z"
    }
   },
   "outputs": [],
   "source": [
    "cv_res.sort_values('CrossValMeans',ascending=False)"
   ]
  },
  {
   "cell_type": "code",
   "execution_count": null,
   "metadata": {
    "ExecuteTime": {
     "end_time": "2020-11-14T16:35:25.636017Z",
     "start_time": "2020-11-14T16:35:23.646Z"
    }
   },
   "outputs": [],
   "source": [
    "x_train['urban'] = x_train['urban'].astype(int)"
   ]
  },
  {
   "cell_type": "code",
   "execution_count": null,
   "metadata": {
    "ExecuteTime": {
     "end_time": "2020-11-14T16:35:25.638009Z",
     "start_time": "2020-11-14T16:35:23.653Z"
    }
   },
   "outputs": [],
   "source": [
    "# lgbm between dart and gbdt?\n",
    "boost_grid = {'boosting_type':['gbdt','dart','goss']}\n",
    "lgb = LGBMClassifier()\n",
    "gsv = GridSearchCV(lgb,param_grid=boost_grid,cv=10)\n",
    "gsv.fit(x_train,y_train)"
   ]
  },
  {
   "cell_type": "code",
   "execution_count": null,
   "metadata": {
    "ExecuteTime": {
     "end_time": "2020-11-14T16:35:25.639012Z",
     "start_time": "2020-11-14T16:35:23.659Z"
    }
   },
   "outputs": [],
   "source": [
    "pd.DataFrame({\n",
    "  'boosting'   : ['gbdt','dart','goss'],\n",
    "  'mean_score' : gsv.cv_results_['mean_test_score']\n",
    "})"
   ]
  },
  {
   "cell_type": "code",
   "execution_count": null,
   "metadata": {
    "ExecuteTime": {
     "end_time": "2020-11-14T16:35:25.641000Z",
     "start_time": "2020-11-14T16:35:23.663Z"
    }
   },
   "outputs": [],
   "source": [
    "params_lgbm = {\n",
    "    'application':['Binary'],\n",
    "    'Task':['train'],\n",
    "    'boosting_type' : ['gbdt'],\n",
    "    'max_depth':range(1,21,1)\n",
    "}\n",
    "# accuracy might be bad since you didnt set num_leaves and 2^max_depth > num_leaves"
   ]
  },
  {
   "cell_type": "code",
   "execution_count": null,
   "metadata": {
    "ExecuteTime": {
     "end_time": "2020-11-14T16:35:25.641999Z",
     "start_time": "2020-11-14T16:35:23.672Z"
    }
   },
   "outputs": [],
   "source": [
    "lgb = LGBMClassifier()\n",
    "gsv = GridSearchCV(lgb,param_grid=params_lgbm,cv=10)\n",
    "gsv.fit(x_train,y_train)"
   ]
  },
  {
   "cell_type": "code",
   "execution_count": null,
   "metadata": {
    "ExecuteTime": {
     "end_time": "2020-11-14T16:35:25.642995Z",
     "start_time": "2020-11-14T16:35:23.678Z"
    }
   },
   "outputs": [],
   "source": [
    "gsv.best_score_\n",
    "gsv.best_params_"
   ]
  },
  {
   "cell_type": "markdown",
   "metadata": {
    "ExecuteTime": {
     "start_time": "2020-11-09T17:37:54.315Z"
    }
   },
   "source": [
    "#### LGBM"
   ]
  },
  {
   "cell_type": "code",
   "execution_count": null,
   "metadata": {
    "ExecuteTime": {
     "end_time": "2020-11-14T16:35:25.644991Z",
     "start_time": "2020-11-14T16:35:23.682Z"
    }
   },
   "outputs": [],
   "source": [
    "lgbm_params = {\n",
    "    'boosting_type' : 'gbdt',\n",
    "    'learning_rate' : 0.01,\n",
    "    'max_depth' : 10\n",
    "}\n",
    "\n",
    "lgbm = lightgbm.LGBMClassifier(**lgbm_params)\n",
    "lgbm.fit(x_train,y_train)"
   ]
  },
  {
   "cell_type": "code",
   "execution_count": null,
   "metadata": {
    "ExecuteTime": {
     "end_time": "2020-11-14T16:35:25.647003Z",
     "start_time": "2020-11-14T16:35:23.689Z"
    }
   },
   "outputs": [],
   "source": [
    "kfold = StratifiedKFold(5,shuffle=True,random_state=1996)\n",
    "cross_val_score(lgbm,x_train,y_train,cv=kfold).mean()"
   ]
  },
  {
   "cell_type": "code",
   "execution_count": null,
   "metadata": {
    "ExecuteTime": {
     "end_time": "2020-11-14T16:35:25.648979Z",
     "start_time": "2020-11-14T16:35:23.696Z"
    }
   },
   "outputs": [],
   "source": [
    "# learning rate\n",
    "# boosting dart : score 0.688 with 0.06\n",
    "# boosting gbdt : score 0.688 with 0.03\n",
    "result_list = []\n",
    "kfold = StratifiedKFold(5,shuffle=True,random_state=1996)\n",
    "\n",
    "for k in np.arange(0.01,0.11,0.01):\n",
    "    lgbm_params = {\n",
    "    'boosting_type' : 'gbdt',\n",
    "    'learning_rate' : k.round(2)\n",
    "    }\n",
    "    \n",
    "    lgbm = lightgbm.LGBMClassifier(**lgbm_params)\n",
    "    lgbm.fit(x_train,y_train)\n",
    "    \n",
    "    res = cross_val_score(lgbm,x_train,y_train,cv=kfold).mean()\n",
    "    result_list.append(res)"
   ]
  },
  {
   "cell_type": "code",
   "execution_count": null,
   "metadata": {
    "ExecuteTime": {
     "end_time": "2020-11-14T16:35:25.650974Z",
     "start_time": "2020-11-14T16:35:23.703Z"
    }
   },
   "outputs": [],
   "source": [
    "sns.lineplot(x=np.arange(0.01,0.11,0.01).round(2),y=result_list)"
   ]
  },
  {
   "cell_type": "code",
   "execution_count": null,
   "metadata": {
    "ExecuteTime": {
     "end_time": "2020-11-14T16:35:25.652970Z",
     "start_time": "2020-11-14T16:35:23.708Z"
    }
   },
   "outputs": [],
   "source": [
    "kfold = StratifiedKFold(5,shuffle=True,random_state=0)\n",
    "grid_params = {\n",
    "        'boosting_type' : ['dart'],\n",
    "        'learning_rate' : 0.9,\n",
    "        'max_depth'     : [8],\n",
    "        'num_iterations': [1000],\n",
    "        'num_leaves'    : [50]\n",
    "    }\n",
    "lgbm = lightgbm.LGBMClassifier()"
   ]
  },
  {
   "cell_type": "code",
   "execution_count": null,
   "metadata": {
    "ExecuteTime": {
     "end_time": "2020-11-14T16:35:25.654964Z",
     "start_time": "2020-11-14T16:35:23.713Z"
    }
   },
   "outputs": [],
   "source": [
    "cate_features = ['marci_score','marci_plus_time','marci_negg_time','extraversion','agreeable','conscientious','emotional',\n",
    "                 'openess','wr','wf']\n",
    "cate_features = [x_train.columns.get_loc(k) for k in cate_features]\n",
    "cate_features"
   ]
  },
  {
   "cell_type": "code",
   "execution_count": null,
   "metadata": {
    "ExecuteTime": {
     "end_time": "2020-11-14T16:35:25.655961Z",
     "start_time": "2020-11-14T16:35:23.717Z"
    }
   },
   "outputs": [],
   "source": [
    "kfold = StratifiedKFold(10,shuffle=True,random_state=0)\n",
    "\n",
    "params = {\"objective\" : [\"binary\"], \n",
    "          \"boosting_type\" : [\"gbdt\"],\n",
    "          \"metric\" : [\"auc\"],\n",
    "          \"learning_rate\" : [0.01],\n",
    "          \"max_depth\" : [9],\n",
    "          \"num_leaves\" : [22],\n",
    "          \"min_data_in_leaf\" : [200],\n",
    "          \"min_sum_hessian_in_leaf\" : [5.0],\n",
    "          \"bagging_freq\" : [4],\n",
    "          \"bagging_fraction\" : [0.8],\n",
    "          \"verbosity\" : [1],\n",
    "          \"n_estimators\" : [1000],\n",
    "          \"n_jobs\" : [-1]}\n",
    "\n",
    "gsv_result = GridSearchCV(lgb,param_grid=params,cv=kfold)\n",
    "gsv_result.fit(x_train,y_train)"
   ]
  },
  {
   "cell_type": "code",
   "execution_count": null,
   "metadata": {
    "ExecuteTime": {
     "end_time": "2020-11-14T16:35:25.656961Z",
     "start_time": "2020-11-14T16:35:23.724Z"
    }
   },
   "outputs": [],
   "source": [
    "gsv_result.best_params_"
   ]
  },
  {
   "cell_type": "code",
   "execution_count": null,
   "metadata": {
    "ExecuteTime": {
     "end_time": "2020-11-14T16:35:25.660947Z",
     "start_time": "2020-11-14T16:35:23.730Z"
    }
   },
   "outputs": [],
   "source": [
    "model = lightgbm.LGBMClassifier(**gsv_result.best_params_)\n",
    "model.fit(x_train,y_train)\n",
    "print('train_score',accuracy_score(y_train,model.predict(x_train)))\n",
    "print('valid_score',cross_val_score(model,x_train,y_train,cv=kfold).mean())"
   ]
  },
  {
   "cell_type": "markdown",
   "metadata": {},
   "source": [
    "#### bay"
   ]
  },
  {
   "cell_type": "markdown",
   "metadata": {},
   "source": [
    "##### xgb"
   ]
  },
  {
   "cell_type": "code",
   "execution_count": null,
   "metadata": {
    "ExecuteTime": {
     "end_time": "2020-11-14T16:35:25.662942Z",
     "start_time": "2020-11-14T16:35:23.741Z"
    }
   },
   "outputs": [],
   "source": [
    "import numpy as np\n",
    "import matplotlib\n",
    "from matplotlib import pyplot as plt\n",
    "from sklearn import datasets\n",
    "from sklearn.model_selection import cross_val_score\n",
    "from bayes_opt import BayesianOptimization\n",
    "import xgboost as xgb\n",
    "from sklearn.preprocessing import MinMaxScaler\n",
    "\n",
    "kfold = StratifiedKFold(5,shuffle=True,random_state=1996)\n",
    "def XGB_cv(max_depth,learning_rate, n_estimators, gamma,min_child_weight, subsample,colsample_bytree,\n",
    "           reg_alpha,reg_lambda,eta):\n",
    "    model = xgb.XGBClassifier(objective='binary:logistic',\n",
    "                              max_depth=int(max_depth),\n",
    "                              learning_rate=learning_rate,\n",
    "                              n_estimators=int(n_estimators),\n",
    "                              gamma=gamma,\n",
    "                              min_child_weight=min_child_weight,\n",
    "                              subsample=subsample,\n",
    "                              colsample_bytree=colsample_bytree,\n",
    "                              eta=eta,\n",
    "                              reg_alpha = reg_alpha,\n",
    "                              reg_lambda = reg_lambda)\n",
    "    RMSE = cross_val_score(model, xx, y_train, scoring='roc_auc', cv=5).mean()\n",
    "    return -RMSE"
   ]
  },
  {
   "cell_type": "code",
   "execution_count": null,
   "metadata": {
    "ExecuteTime": {
     "end_time": "2020-11-14T16:35:25.663940Z",
     "start_time": "2020-11-14T16:35:23.747Z"
    }
   },
   "outputs": [],
   "source": [
    "pbounds = {'max_depth': (3, 10),\n",
    "          'learning_rate': (0.01, 0.3),\n",
    "          'n_estimators': (50, 3000),\n",
    "          'gamma': (0,20),\n",
    "          'min_child_weight': (1, 20),\n",
    "          'subsample': (0.1, 0.8),\n",
    "          'colsample_bytree' :(0.1, 0.99),\n",
    "          'eta':(0.01,0.5),\n",
    "          'reg_alpha':(0.001,0.1),\n",
    "          'reg_lambda':(0.001,0.1)\n",
    "          }"
   ]
  },
  {
   "cell_type": "code",
   "execution_count": null,
   "metadata": {
    "ExecuteTime": {
     "end_time": "2020-11-14T16:35:25.664937Z",
     "start_time": "2020-11-14T16:35:23.754Z"
    }
   },
   "outputs": [],
   "source": [
    "xgboostBO = BayesianOptimization(f = XGB_cv,pbounds = pbounds, verbose = 2, random_state = 1996)"
   ]
  },
  {
   "cell_type": "code",
   "execution_count": null,
   "metadata": {
    "ExecuteTime": {
     "end_time": "2020-11-14T16:35:25.666932Z",
     "start_time": "2020-11-14T16:35:23.765Z"
    }
   },
   "outputs": [],
   "source": [
    "xgboostBO.maximize(init_points=20, n_iter = 20)"
   ]
  },
  {
   "cell_type": "code",
   "execution_count": null,
   "metadata": {
    "ExecuteTime": {
     "end_time": "2020-11-14T16:35:25.668929Z",
     "start_time": "2020-11-14T16:35:23.770Z"
    }
   },
   "outputs": [],
   "source": [
    "xgb_result = []\n",
    "xgb_params = []\n",
    "for a, b in enumerate(xgboostBO.res):\n",
    "    pp = b['params']\n",
    "    pp['max_depth'] = int(pp['max_depth'])\n",
    "    pp['n_estimators'] = int(pp['n_estimators'])\n",
    "    pp['min_child_weight'] = int(pp['min_child_weight'])\n",
    "    xgb_params.append(pp)\n",
    "    xgb_result.append(b['target'])"
   ]
  },
  {
   "cell_type": "code",
   "execution_count": null,
   "metadata": {
    "ExecuteTime": {
     "end_time": "2020-11-14T16:35:25.669923Z",
     "start_time": "2020-11-14T16:35:23.780Z"
    }
   },
   "outputs": [],
   "source": [
    "pd.concat([pd.DataFrame(xgb_params),pd.DataFrame(xgb_result)],axis=1).sort_values(0)"
   ]
  },
  {
   "cell_type": "markdown",
   "metadata": {},
   "source": [
    "##### lgbm"
   ]
  },
  {
   "cell_type": "code",
   "execution_count": null,
   "metadata": {
    "ExecuteTime": {
     "end_time": "2020-11-14T16:35:25.671949Z",
     "start_time": "2020-11-14T16:35:23.790Z"
    }
   },
   "outputs": [],
   "source": [
    "kfold_bay = StratifiedKFold(5,shuffle=True,random_state=0)\n",
    "def lgb_bayesian(n_estimators,num_leaves, learning_rate, max_depth, feature_fraction):\n",
    "    model = lightgbm.LGBMClassifier(\n",
    "            objective = \"binary\", \n",
    "            boosting_type = \"dart\",\n",
    "            metric = \"auc\",\n",
    "            n_estimators = int(n_estimators),\n",
    "            num_leaves = int(round(num_leaves)),\n",
    "            learning_rate = learning_rate,\n",
    "            max_depth = int(round(max_depth)),\n",
    "            feature_fraction = feature_fraction)\n",
    "    \n",
    "    score = cross_val_score(model,xx,y_train,cv=kfold_bay,scoring='roc_auc').mean()\n",
    "    return -score"
   ]
  },
  {
   "cell_type": "code",
   "execution_count": null,
   "metadata": {
    "ExecuteTime": {
     "end_time": "2020-11-14T16:35:25.672916Z",
     "start_time": "2020-11-14T16:35:23.797Z"
    }
   },
   "outputs": [],
   "source": [
    "lgbm_params = {\n",
    "    'n_estimators':(5,3000),\n",
    "    'num_leaves': (5, 45),\n",
    "    'learning_rate':(0.01,0.3),\n",
    "    'max_depth': (3,10),\n",
    "    'feature_fraction': (0.1, 0.9)\n",
    "}"
   ]
  },
  {
   "cell_type": "code",
   "execution_count": null,
   "metadata": {
    "ExecuteTime": {
     "end_time": "2020-11-14T16:35:25.674912Z",
     "start_time": "2020-11-14T16:35:23.803Z"
    }
   },
   "outputs": [],
   "source": [
    "lgbm_bayesian = BayesianOptimization(f = lgb_bayesian,pbounds = lgbm_params, verbose = 2, random_state = 1996)"
   ]
  },
  {
   "cell_type": "code",
   "execution_count": null,
   "metadata": {
    "ExecuteTime": {
     "end_time": "2020-11-14T16:35:25.677903Z",
     "start_time": "2020-11-14T16:35:23.809Z"
    }
   },
   "outputs": [],
   "source": [
    "lgbm_bayesian.maximize(init_points=20, n_iter = 20)"
   ]
  },
  {
   "cell_type": "code",
   "execution_count": null,
   "metadata": {
    "ExecuteTime": {
     "end_time": "2020-11-14T16:35:25.678901Z",
     "start_time": "2020-11-14T16:35:23.814Z"
    }
   },
   "outputs": [],
   "source": [
    "lgbm_bayesian.max"
   ]
  },
  {
   "cell_type": "code",
   "execution_count": null,
   "metadata": {
    "ExecuteTime": {
     "end_time": "2020-11-14T16:35:25.680896Z",
     "start_time": "2020-11-14T16:35:23.818Z"
    }
   },
   "outputs": [],
   "source": [
    "#### gbdt"
   ]
  },
  {
   "cell_type": "code",
   "execution_count": null,
   "metadata": {
    "ExecuteTime": {
     "end_time": "2020-11-14T16:35:25.681892Z",
     "start_time": "2020-11-14T16:35:23.823Z"
    }
   },
   "outputs": [],
   "source": [
    "kfold_bay = StratifiedKFold(5,shuffle=True,random_state=0)\n",
    "def lgb_bayesian_gbdt(n_estimators,num_leaves, learning_rate, max_depth, feature_fraction, bagging_freq,\n",
    "                 bagging_fraction, lambda_l1, lambda_l2,min_split_gain,min_child_weight):\n",
    "    model = lightgbm.LGBMClassifier(\n",
    "            objective = \"binary\", \n",
    "            boosting_type = \"gbdt\",\n",
    "            metric = \"auc\",\n",
    "            n_estimators = int(n_estimators),\n",
    "            num_leaves = int(round(num_leaves)),\n",
    "            learning_rate = learning_rate,\n",
    "            max_depth = int(round(max_depth)),\n",
    "            feature_fraction = feature_fraction,\n",
    "            bagging_freq = int(bagging_freq),\n",
    "            bagging_fraction = bagging_fraction,\n",
    "            lambda_l1 = lambda_l1,\n",
    "            lambda_l2 = lambda_l2,\n",
    "            min_split_gain = min_split_gain,\n",
    "            min_child_weight = int(min_child_weight))\n",
    "    \n",
    "    score = cross_val_score(model,xx,y_train,cv=kfold_bay,scoring='roc_auc').mean()\n",
    "    return -score"
   ]
  },
  {
   "cell_type": "code",
   "execution_count": null,
   "metadata": {
    "ExecuteTime": {
     "end_time": "2020-11-14T16:35:25.683885Z",
     "start_time": "2020-11-14T16:35:23.829Z"
    }
   },
   "outputs": [],
   "source": [
    "lgbm_params = {\n",
    "    'n_estimators':(5,3000),\n",
    "    'num_leaves': (5, 45),\n",
    "    'learning_rate':(0.01,0.3),\n",
    "    'max_depth': (5,10),\n",
    "    'feature_fraction': (0.1, 0.9),\n",
    "    'bagging_freq':(3,10),\n",
    "    'bagging_fraction': (0.01, 1),\n",
    "    'lambda_l1': (0, 100),\n",
    "    'lambda_l2': (0, 100),\n",
    "    'min_split_gain': (0.001, 0.1),\n",
    "    'min_child_weight': (5, 100)\n",
    "}"
   ]
  },
  {
   "cell_type": "code",
   "execution_count": null,
   "metadata": {
    "ExecuteTime": {
     "end_time": "2020-11-14T16:35:25.685881Z",
     "start_time": "2020-11-14T16:35:23.838Z"
    }
   },
   "outputs": [],
   "source": [
    "lgbm_bayesian_gbdt = BayesianOptimization(f = lgb_bayesian_gbdt,pbounds = lgbm_params, verbose = 2, random_state = 1996)"
   ]
  },
  {
   "cell_type": "code",
   "execution_count": null,
   "metadata": {
    "ExecuteTime": {
     "end_time": "2020-11-14T16:35:25.687876Z",
     "start_time": "2020-11-14T16:35:23.846Z"
    }
   },
   "outputs": [],
   "source": [
    "lgbm_bayesian_gbdt.maximize(init_points=20, n_iter = 20)"
   ]
  },
  {
   "cell_type": "markdown",
   "metadata": {},
   "source": [
    "##### MLP"
   ]
  },
  {
   "cell_type": "code",
   "execution_count": null,
   "metadata": {
    "ExecuteTime": {
     "end_time": "2020-11-14T16:35:25.688882Z",
     "start_time": "2020-11-14T16:35:23.854Z"
    }
   },
   "outputs": [],
   "source": [
    "mlp_param = { \n",
    "        'activation' : Categorical(['identity', 'logistic', 'tanh', 'relu']),\n",
    "        'solver' : Categorical(['lbfgs', 'sgd', 'adam']),\n",
    "        'alpha' : Real(1e-6, 1e-2, prior='log-uniform'),\n",
    "        'learning_rate' : Categorical(['constant', 'invscaling', 'adaptive']),\n",
    "        'max_iter' : Integer(100, 500)\n",
    "    }"
   ]
  },
  {
   "cell_type": "code",
   "execution_count": null,
   "metadata": {
    "ExecuteTime": {
     "end_time": "2020-11-14T16:35:25.690868Z",
     "start_time": "2020-11-14T16:35:23.861Z"
    }
   },
   "outputs": [],
   "source": [
    "md = MLPClassifier()"
   ]
  },
  {
   "cell_type": "code",
   "execution_count": null,
   "metadata": {
    "ExecuteTime": {
     "end_time": "2020-11-14T16:35:25.691865Z",
     "start_time": "2020-11-14T16:35:23.867Z"
    }
   },
   "outputs": [],
   "source": [
    "opt = BayesSearchCV(md, mlp_param, n_iter=50, cv=10, n_jobs=-1, refit=True, random_state=123)\n",
    "opt.fit(xx, y_train)"
   ]
  },
  {
   "cell_type": "markdown",
   "metadata": {},
   "source": [
    "##### model binding"
   ]
  },
  {
   "cell_type": "code",
   "execution_count": null,
   "metadata": {
    "ExecuteTime": {
     "end_time": "2020-11-14T16:35:25.692863Z",
     "start_time": "2020-11-14T16:35:23.875Z"
    }
   },
   "outputs": [],
   "source": [
    "xgb_best  = xgboostBO.max['params']\n",
    "lgbm_best = lgbm_bayesian.max['params']\n",
    "mlpm_best = mlpm_bayesian.max['params']"
   ]
  },
  {
   "cell_type": "code",
   "execution_count": null,
   "metadata": {
    "ExecuteTime": {
     "end_time": "2020-11-14T16:35:25.694882Z",
     "start_time": "2020-11-14T16:35:23.882Z"
    }
   },
   "outputs": [],
   "source": [
    "x_tr,x_te,y_tr,y_te = train_test_split(x_train,y_train,test_size=0.2,random_state=1996)"
   ]
  },
  {
   "cell_type": "code",
   "execution_count": null,
   "metadata": {
    "ExecuteTime": {
     "end_time": "2020-11-14T16:35:25.695855Z",
     "start_time": "2020-11-14T16:35:23.888Z"
    }
   },
   "outputs": [],
   "source": [
    "xgb_best['max_depth'] = int(xgb_best['max_depth'])\n",
    "xgb_best['n_estimators'] = int(xgb_best['n_estimators'])\n",
    "xgb_best['min_child_weight'] = int(xgb_best['min_child_weight'])\n",
    "lgbm_best['num_leaves'] = int(lgbm_best['num_leaves'])\n",
    "lgbm_best['max_depth'] = int(lgbm_best['max_depth'])\n",
    "lgbm_best['bagging_freq'] = int(lgbm_best['bagging_freq'])\n",
    "mlpm_best['max_iter'] = int(mlpm_best['max_iter'])"
   ]
  },
  {
   "cell_type": "code",
   "execution_count": null,
   "metadata": {
    "ExecuteTime": {
     "end_time": "2020-11-14T16:35:25.696851Z",
     "start_time": "2020-11-14T16:35:23.895Z"
    }
   },
   "outputs": [],
   "source": [
    "xgb_bestmd = xgb.XGBClassifier(**xgb_best) \n",
    "lgb_bestmd = lightgbm.LGBMClassifier(**lgbm_best)\n",
    "mlp_bestmd = MLPClassifier(**mlpm_best)"
   ]
  },
  {
   "cell_type": "code",
   "execution_count": null,
   "metadata": {
    "ExecuteTime": {
     "end_time": "2020-11-14T16:35:25.698846Z",
     "start_time": "2020-11-14T16:35:23.901Z"
    }
   },
   "outputs": [],
   "source": [
    "cross_val_score(xgb_bestmd,xx,y_train,cv=10).mean()\n",
    "cross_val_score(lgb_bestmd,xx,y_train,cv=10).mean()\n",
    "cross_val_score(mlp_bestmd,xx,y_train,cv=10).mean()"
   ]
  },
  {
   "cell_type": "markdown",
   "metadata": {},
   "source": [
    "### keras"
   ]
  },
  {
   "cell_type": "code",
   "execution_count": 813,
   "metadata": {
    "ExecuteTime": {
     "end_time": "2020-11-14T17:13:42.440134Z",
     "start_time": "2020-11-14T17:13:42.422152Z"
    }
   },
   "outputs": [],
   "source": [
    "from tensorflow.keras import models,layers\n",
    "import kerastuner as kt\n",
    "import tensorflow.keras as keras\n",
    "from tensorflow.keras.wrappers.scikit_learn import KerasClassifier\n",
    "from sklearn.pipeline import Pipeline\n",
    "from sklearn.preprocessing import StandardScaler"
   ]
  },
  {
   "cell_type": "code",
   "execution_count": 969,
   "metadata": {
    "ExecuteTime": {
     "end_time": "2020-11-14T18:33:03.709343Z",
     "start_time": "2020-11-14T18:33:03.675382Z"
    }
   },
   "outputs": [],
   "source": [
    "cols_sel = ['marci_score','marci_negg_time','wr','marci_plus_time','education','agreeable','age','extraversion',\n",
    "            'conscientious','openess']\n",
    "train_for_keras = train_df_scaled.copy().drop('voted',axis=1)\n",
    "test_for_keras = test_df_scaled.copy()"
   ]
  },
  {
   "cell_type": "code",
   "execution_count": 970,
   "metadata": {
    "ExecuteTime": {
     "end_time": "2020-11-14T18:33:05.314758Z",
     "start_time": "2020-11-14T18:33:05.268878Z"
    }
   },
   "outputs": [
    {
     "data": {
      "text/html": [
       "<div>\n",
       "<style scoped>\n",
       "    .dataframe tbody tr th:only-of-type {\n",
       "        vertical-align: middle;\n",
       "    }\n",
       "\n",
       "    .dataframe tbody tr th {\n",
       "        vertical-align: top;\n",
       "    }\n",
       "\n",
       "    .dataframe thead th {\n",
       "        text-align: right;\n",
       "    }\n",
       "</style>\n",
       "<table border=\"1\" class=\"dataframe\">\n",
       "  <thead>\n",
       "    <tr style=\"text-align: right;\">\n",
       "      <th></th>\n",
       "      <th>marci_score</th>\n",
       "      <th>marci_plus_time</th>\n",
       "      <th>marci_negg_time</th>\n",
       "      <th>age</th>\n",
       "      <th>gender</th>\n",
       "      <th>education</th>\n",
       "      <th>engnat</th>\n",
       "      <th>married</th>\n",
       "      <th>wr</th>\n",
       "      <th>wf</th>\n",
       "      <th>...</th>\n",
       "      <th>Buddhist</th>\n",
       "      <th>Christian_Catholic</th>\n",
       "      <th>Christian_Mormon</th>\n",
       "      <th>Christian_Other</th>\n",
       "      <th>Christian_Protestant</th>\n",
       "      <th>Hindu</th>\n",
       "      <th>Jewish</th>\n",
       "      <th>Muslim</th>\n",
       "      <th>Sikh</th>\n",
       "      <th>religion_other</th>\n",
       "    </tr>\n",
       "  </thead>\n",
       "  <tbody>\n",
       "    <tr>\n",
       "      <th>0</th>\n",
       "      <td>0.4875</td>\n",
       "      <td>0.500</td>\n",
       "      <td>0.525</td>\n",
       "      <td>2.0</td>\n",
       "      <td>0</td>\n",
       "      <td>2.0</td>\n",
       "      <td>1.0</td>\n",
       "      <td>1</td>\n",
       "      <td>0.538462</td>\n",
       "      <td>0.000000</td>\n",
       "      <td>...</td>\n",
       "      <td>0</td>\n",
       "      <td>0</td>\n",
       "      <td>0</td>\n",
       "      <td>0</td>\n",
       "      <td>0</td>\n",
       "      <td>0</td>\n",
       "      <td>0</td>\n",
       "      <td>0</td>\n",
       "      <td>0</td>\n",
       "      <td>1</td>\n",
       "    </tr>\n",
       "    <tr>\n",
       "      <th>1</th>\n",
       "      <td>0.4000</td>\n",
       "      <td>0.450</td>\n",
       "      <td>0.650</td>\n",
       "      <td>1.0</td>\n",
       "      <td>0</td>\n",
       "      <td>4.0</td>\n",
       "      <td>2.0</td>\n",
       "      <td>0</td>\n",
       "      <td>0.615385</td>\n",
       "      <td>0.000000</td>\n",
       "      <td>...</td>\n",
       "      <td>0</td>\n",
       "      <td>0</td>\n",
       "      <td>0</td>\n",
       "      <td>0</td>\n",
       "      <td>0</td>\n",
       "      <td>1</td>\n",
       "      <td>0</td>\n",
       "      <td>0</td>\n",
       "      <td>0</td>\n",
       "      <td>0</td>\n",
       "    </tr>\n",
       "    <tr>\n",
       "      <th>2</th>\n",
       "      <td>0.2250</td>\n",
       "      <td>0.175</td>\n",
       "      <td>0.725</td>\n",
       "      <td>2.0</td>\n",
       "      <td>1</td>\n",
       "      <td>3.0</td>\n",
       "      <td>1.0</td>\n",
       "      <td>1</td>\n",
       "      <td>0.769231</td>\n",
       "      <td>0.333333</td>\n",
       "      <td>...</td>\n",
       "      <td>0</td>\n",
       "      <td>0</td>\n",
       "      <td>0</td>\n",
       "      <td>0</td>\n",
       "      <td>0</td>\n",
       "      <td>0</td>\n",
       "      <td>0</td>\n",
       "      <td>0</td>\n",
       "      <td>0</td>\n",
       "      <td>1</td>\n",
       "    </tr>\n",
       "    <tr>\n",
       "      <th>3</th>\n",
       "      <td>0.5875</td>\n",
       "      <td>0.725</td>\n",
       "      <td>0.550</td>\n",
       "      <td>1.0</td>\n",
       "      <td>0</td>\n",
       "      <td>4.0</td>\n",
       "      <td>2.0</td>\n",
       "      <td>0</td>\n",
       "      <td>0.384615</td>\n",
       "      <td>0.000000</td>\n",
       "      <td>...</td>\n",
       "      <td>0</td>\n",
       "      <td>0</td>\n",
       "      <td>0</td>\n",
       "      <td>0</td>\n",
       "      <td>0</td>\n",
       "      <td>1</td>\n",
       "      <td>0</td>\n",
       "      <td>0</td>\n",
       "      <td>0</td>\n",
       "      <td>0</td>\n",
       "    </tr>\n",
       "    <tr>\n",
       "      <th>4</th>\n",
       "      <td>0.5000</td>\n",
       "      <td>0.475</td>\n",
       "      <td>0.475</td>\n",
       "      <td>1.0</td>\n",
       "      <td>1</td>\n",
       "      <td>3.0</td>\n",
       "      <td>1.0</td>\n",
       "      <td>1</td>\n",
       "      <td>0.846154</td>\n",
       "      <td>0.333333</td>\n",
       "      <td>...</td>\n",
       "      <td>0</td>\n",
       "      <td>0</td>\n",
       "      <td>0</td>\n",
       "      <td>0</td>\n",
       "      <td>0</td>\n",
       "      <td>0</td>\n",
       "      <td>0</td>\n",
       "      <td>0</td>\n",
       "      <td>0</td>\n",
       "      <td>0</td>\n",
       "    </tr>\n",
       "  </tbody>\n",
       "</table>\n",
       "<p>5 rows × 42 columns</p>\n",
       "</div>"
      ],
      "text/plain": [
       "   marci_score  marci_plus_time  marci_negg_time  age  gender  education  \\\n",
       "0       0.4875            0.500            0.525  2.0       0        2.0   \n",
       "1       0.4000            0.450            0.650  1.0       0        4.0   \n",
       "2       0.2250            0.175            0.725  2.0       1        3.0   \n",
       "3       0.5875            0.725            0.550  1.0       0        4.0   \n",
       "4       0.5000            0.475            0.475  1.0       1        3.0   \n",
       "\n",
       "   engnat  married        wr        wf  ... Buddhist  Christian_Catholic  \\\n",
       "0     1.0        1  0.538462  0.000000  ...        0                   0   \n",
       "1     2.0        0  0.615385  0.000000  ...        0                   0   \n",
       "2     1.0        1  0.769231  0.333333  ...        0                   0   \n",
       "3     2.0        0  0.384615  0.000000  ...        0                   0   \n",
       "4     1.0        1  0.846154  0.333333  ...        0                   0   \n",
       "\n",
       "   Christian_Mormon  Christian_Other  Christian_Protestant  Hindu  Jewish  \\\n",
       "0                 0                0                     0      0       0   \n",
       "1                 0                0                     0      1       0   \n",
       "2                 0                0                     0      0       0   \n",
       "3                 0                0                     0      1       0   \n",
       "4                 0                0                     0      0       0   \n",
       "\n",
       "   Muslim  Sikh  religion_other  \n",
       "0       0     0               1  \n",
       "1       0     0               0  \n",
       "2       0     0               1  \n",
       "3       0     0               0  \n",
       "4       0     0               0  \n",
       "\n",
       "[5 rows x 42 columns]"
      ]
     },
     "execution_count": 970,
     "metadata": {},
     "output_type": "execute_result"
    },
    {
     "data": {
      "text/html": [
       "<div>\n",
       "<style scoped>\n",
       "    .dataframe tbody tr th:only-of-type {\n",
       "        vertical-align: middle;\n",
       "    }\n",
       "\n",
       "    .dataframe tbody tr th {\n",
       "        vertical-align: top;\n",
       "    }\n",
       "\n",
       "    .dataframe thead th {\n",
       "        text-align: right;\n",
       "    }\n",
       "</style>\n",
       "<table border=\"1\" class=\"dataframe\">\n",
       "  <thead>\n",
       "    <tr style=\"text-align: right;\">\n",
       "      <th></th>\n",
       "      <th>marci_score</th>\n",
       "      <th>marci_plus_time</th>\n",
       "      <th>marci_negg_time</th>\n",
       "      <th>age</th>\n",
       "      <th>gender</th>\n",
       "      <th>education</th>\n",
       "      <th>engnat</th>\n",
       "      <th>married</th>\n",
       "      <th>wr</th>\n",
       "      <th>wf</th>\n",
       "      <th>...</th>\n",
       "      <th>Buddhist</th>\n",
       "      <th>Christian_Catholic</th>\n",
       "      <th>Christian_Mormon</th>\n",
       "      <th>Christian_Other</th>\n",
       "      <th>Christian_Protestant</th>\n",
       "      <th>Hindu</th>\n",
       "      <th>Jewish</th>\n",
       "      <th>Muslim</th>\n",
       "      <th>Sikh</th>\n",
       "      <th>religion_other</th>\n",
       "    </tr>\n",
       "  </thead>\n",
       "  <tbody>\n",
       "    <tr>\n",
       "      <th>0</th>\n",
       "      <td>0.3625</td>\n",
       "      <td>0.375</td>\n",
       "      <td>0.650</td>\n",
       "      <td>0.0</td>\n",
       "      <td>1</td>\n",
       "      <td>2.0</td>\n",
       "      <td>2.0</td>\n",
       "      <td>0</td>\n",
       "      <td>0.461538</td>\n",
       "      <td>0.0</td>\n",
       "      <td>...</td>\n",
       "      <td>0</td>\n",
       "      <td>0</td>\n",
       "      <td>0</td>\n",
       "      <td>0</td>\n",
       "      <td>1</td>\n",
       "      <td>0</td>\n",
       "      <td>0</td>\n",
       "      <td>0</td>\n",
       "      <td>0</td>\n",
       "      <td>0</td>\n",
       "    </tr>\n",
       "    <tr>\n",
       "      <th>1</th>\n",
       "      <td>0.4500</td>\n",
       "      <td>0.475</td>\n",
       "      <td>0.575</td>\n",
       "      <td>0.0</td>\n",
       "      <td>1</td>\n",
       "      <td>2.0</td>\n",
       "      <td>2.0</td>\n",
       "      <td>0</td>\n",
       "      <td>0.000000</td>\n",
       "      <td>0.0</td>\n",
       "      <td>...</td>\n",
       "      <td>0</td>\n",
       "      <td>1</td>\n",
       "      <td>0</td>\n",
       "      <td>0</td>\n",
       "      <td>0</td>\n",
       "      <td>0</td>\n",
       "      <td>0</td>\n",
       "      <td>0</td>\n",
       "      <td>0</td>\n",
       "      <td>0</td>\n",
       "    </tr>\n",
       "    <tr>\n",
       "      <th>2</th>\n",
       "      <td>0.6375</td>\n",
       "      <td>0.650</td>\n",
       "      <td>0.375</td>\n",
       "      <td>2.0</td>\n",
       "      <td>1</td>\n",
       "      <td>3.0</td>\n",
       "      <td>2.0</td>\n",
       "      <td>1</td>\n",
       "      <td>0.538462</td>\n",
       "      <td>0.0</td>\n",
       "      <td>...</td>\n",
       "      <td>0</td>\n",
       "      <td>0</td>\n",
       "      <td>0</td>\n",
       "      <td>1</td>\n",
       "      <td>0</td>\n",
       "      <td>0</td>\n",
       "      <td>0</td>\n",
       "      <td>0</td>\n",
       "      <td>0</td>\n",
       "      <td>0</td>\n",
       "    </tr>\n",
       "    <tr>\n",
       "      <th>3</th>\n",
       "      <td>0.5875</td>\n",
       "      <td>0.450</td>\n",
       "      <td>0.275</td>\n",
       "      <td>5.0</td>\n",
       "      <td>1</td>\n",
       "      <td>4.0</td>\n",
       "      <td>1.0</td>\n",
       "      <td>1</td>\n",
       "      <td>1.000000</td>\n",
       "      <td>0.0</td>\n",
       "      <td>...</td>\n",
       "      <td>0</td>\n",
       "      <td>1</td>\n",
       "      <td>0</td>\n",
       "      <td>0</td>\n",
       "      <td>0</td>\n",
       "      <td>0</td>\n",
       "      <td>0</td>\n",
       "      <td>0</td>\n",
       "      <td>0</td>\n",
       "      <td>0</td>\n",
       "    </tr>\n",
       "    <tr>\n",
       "      <th>4</th>\n",
       "      <td>0.4750</td>\n",
       "      <td>0.475</td>\n",
       "      <td>0.525</td>\n",
       "      <td>0.0</td>\n",
       "      <td>1</td>\n",
       "      <td>2.0</td>\n",
       "      <td>1.0</td>\n",
       "      <td>0</td>\n",
       "      <td>0.769231</td>\n",
       "      <td>0.0</td>\n",
       "      <td>...</td>\n",
       "      <td>0</td>\n",
       "      <td>0</td>\n",
       "      <td>0</td>\n",
       "      <td>0</td>\n",
       "      <td>0</td>\n",
       "      <td>0</td>\n",
       "      <td>0</td>\n",
       "      <td>0</td>\n",
       "      <td>0</td>\n",
       "      <td>0</td>\n",
       "    </tr>\n",
       "  </tbody>\n",
       "</table>\n",
       "<p>5 rows × 42 columns</p>\n",
       "</div>"
      ],
      "text/plain": [
       "   marci_score  marci_plus_time  marci_negg_time  age  gender  education  \\\n",
       "0       0.3625            0.375            0.650  0.0       1        2.0   \n",
       "1       0.4500            0.475            0.575  0.0       1        2.0   \n",
       "2       0.6375            0.650            0.375  2.0       1        3.0   \n",
       "3       0.5875            0.450            0.275  5.0       1        4.0   \n",
       "4       0.4750            0.475            0.525  0.0       1        2.0   \n",
       "\n",
       "   engnat  married        wr   wf  ... Buddhist  Christian_Catholic  \\\n",
       "0     2.0        0  0.461538  0.0  ...        0                   0   \n",
       "1     2.0        0  0.000000  0.0  ...        0                   1   \n",
       "2     2.0        1  0.538462  0.0  ...        0                   0   \n",
       "3     1.0        1  1.000000  0.0  ...        0                   1   \n",
       "4     1.0        0  0.769231  0.0  ...        0                   0   \n",
       "\n",
       "   Christian_Mormon  Christian_Other  Christian_Protestant  Hindu  Jewish  \\\n",
       "0                 0                0                     1      0       0   \n",
       "1                 0                0                     0      0       0   \n",
       "2                 0                1                     0      0       0   \n",
       "3                 0                0                     0      0       0   \n",
       "4                 0                0                     0      0       0   \n",
       "\n",
       "   Muslim  Sikh  religion_other  \n",
       "0       0     0               0  \n",
       "1       0     0               0  \n",
       "2       0     0               0  \n",
       "3       0     0               0  \n",
       "4       0     0               0  \n",
       "\n",
       "[5 rows x 42 columns]"
      ]
     },
     "execution_count": 970,
     "metadata": {},
     "output_type": "execute_result"
    },
    {
     "data": {
      "text/plain": [
       "(45532, 42)"
      ]
     },
     "execution_count": 970,
     "metadata": {},
     "output_type": "execute_result"
    },
    {
     "data": {
      "text/plain": [
       "(11383, 42)"
      ]
     },
     "execution_count": 970,
     "metadata": {},
     "output_type": "execute_result"
    }
   ],
   "source": [
    "train_for_keras.head(5)\n",
    "test_for_keras.head(5)\n",
    "train_for_keras.shape\n",
    "test_for_keras.shape"
   ]
  },
  {
   "cell_type": "code",
   "execution_count": 971,
   "metadata": {
    "ExecuteTime": {
     "end_time": "2020-11-14T18:33:09.187249Z",
     "start_time": "2020-11-14T18:33:09.141377Z"
    }
   },
   "outputs": [],
   "source": [
    "k_x_train,k_x_valid,k_y_train,k_y_valid = train_test_split(train_for_keras,y_train,shuffle=True,test_size=0.2,random_state=1996)"
   ]
  },
  {
   "cell_type": "code",
   "execution_count": 972,
   "metadata": {
    "ExecuteTime": {
     "end_time": "2020-11-14T18:33:11.060244Z",
     "start_time": "2020-11-14T18:33:10.891362Z"
    }
   },
   "outputs": [],
   "source": [
    "k_x_train = np.array(k_x_train).astype('float32')\n",
    "k_x_valid = np.array(k_x_valid).astype('float32')\n",
    "k_y_train = np.array(k_y_train).astype('float32')\n",
    "k_y_valid = np.array(k_y_valid).astype('float32')"
   ]
  },
  {
   "cell_type": "code",
   "execution_count": 978,
   "metadata": {
    "ExecuteTime": {
     "end_time": "2020-11-14T18:34:17.531105Z",
     "start_time": "2020-11-14T18:34:17.507163Z"
    }
   },
   "outputs": [],
   "source": [
    "keras_md = models.Sequential()\n",
    "keras_md.add(layers.Dense(8,activation='relu'))\n",
    "keras_md.add(layers.Dense(8,activation='relu'))\n",
    "keras_md.add(layers.Dense(1, activation='sigmoid'))\n",
    "\n",
    "keras_md.compile(optimizer = 'rmsprop',\n",
    "                 loss = 'binary_crossentropy',\n",
    "                 metrics = ['acc'])"
   ]
  },
  {
   "cell_type": "code",
   "execution_count": 979,
   "metadata": {
    "ExecuteTime": {
     "end_time": "2020-11-14T18:34:30.476253Z",
     "start_time": "2020-11-14T18:34:19.716036Z"
    }
   },
   "outputs": [
    {
     "name": "stdout",
     "output_type": "stream",
     "text": [
      "Epoch 1/50\n",
      "72/72 [==============================] - ETA: 0s - loss: 0.7063 - acc: 0.460 - ETA: 0s - loss: 0.6874 - acc: 0.467 - ETA: 0s - loss: 0.6799 - acc: 0.538 - 0s 5ms/step - loss: 0.6794 - acc: 0.5443 - val_loss: 0.6598 - val_acc: 0.6796\n",
      "Epoch 2/50\n",
      "72/72 [==============================] - ETA: 0s - loss: 0.6585 - acc: 0.664 - ETA: 0s - loss: 0.6582 - acc: 0.670 - ETA: 0s - loss: 0.6488 - acc: 0.673 - 0s 3ms/step - loss: 0.6470 - acc: 0.6739 - val_loss: 0.6254 - val_acc: 0.6827\n",
      "Epoch 3/50\n",
      "72/72 [==============================] - ETA: 0s - loss: 0.6193 - acc: 0.685 - ETA: 0s - loss: 0.6243 - acc: 0.674 - ETA: 0s - loss: 0.6197 - acc: 0.671 - ETA: 0s - loss: 0.6159 - acc: 0.672 - 0s 3ms/step - loss: 0.6159 - acc: 0.6721 - val_loss: 0.6000 - val_acc: 0.6771\n",
      "Epoch 4/50\n",
      "72/72 [==============================] - ETA: 0s - loss: 0.6115 - acc: 0.666 - ETA: 0s - loss: 0.6044 - acc: 0.670 - ETA: 0s - loss: 0.6009 - acc: 0.672 - 0s 3ms/step - loss: 0.5995 - acc: 0.6735 - val_loss: 0.5887 - val_acc: 0.6828\n",
      "Epoch 5/50\n",
      "72/72 [==============================] - ETA: 0s - loss: 0.5950 - acc: 0.671 - ETA: 0s - loss: 0.5929 - acc: 0.675 - ETA: 0s - loss: 0.5911 - acc: 0.675 - 0s 3ms/step - loss: 0.5903 - acc: 0.6762 - val_loss: 0.5820 - val_acc: 0.6865\n",
      "Epoch 6/50\n",
      "72/72 [==============================] - ETA: 0s - loss: 0.6072 - acc: 0.658 - ETA: 0s - loss: 0.5827 - acc: 0.685 - ETA: 0s - loss: 0.5830 - acc: 0.681 - 0s 3ms/step - loss: 0.5840 - acc: 0.6796 - val_loss: 0.5779 - val_acc: 0.6889\n",
      "Epoch 7/50\n",
      "72/72 [==============================] - ETA: 0s - loss: 0.5502 - acc: 0.718 - ETA: 0s - loss: 0.5799 - acc: 0.680 - ETA: 0s - loss: 0.5805 - acc: 0.680 - 0s 3ms/step - loss: 0.5798 - acc: 0.6812 - val_loss: 0.5761 - val_acc: 0.6894\n",
      "Epoch 8/50\n",
      "72/72 [==============================] - ETA: 0s - loss: 0.5650 - acc: 0.695 - ETA: 0s - loss: 0.5743 - acc: 0.686 - ETA: 0s - loss: 0.5772 - acc: 0.683 - ETA: 0s - loss: 0.5773 - acc: 0.682 - 0s 3ms/step - loss: 0.5769 - acc: 0.6821 - val_loss: 0.5743 - val_acc: 0.6885\n",
      "Epoch 9/50\n",
      "72/72 [==============================] - ETA: 0s - loss: 0.5723 - acc: 0.685 - ETA: 0s - loss: 0.5756 - acc: 0.683 - ETA: 0s - loss: 0.5754 - acc: 0.683 - ETA: 0s - loss: 0.5760 - acc: 0.682 - ETA: 0s - loss: 0.5753 - acc: 0.683 - ETA: 0s - loss: 0.5751 - acc: 0.683 - 0s 4ms/step - loss: 0.5751 - acc: 0.6834 - val_loss: 0.5748 - val_acc: 0.6880\n",
      "Epoch 10/50\n",
      "72/72 [==============================] - ETA: 0s - loss: 0.5545 - acc: 0.728 - ETA: 0s - loss: 0.5771 - acc: 0.684 - ETA: 0s - loss: 0.5738 - acc: 0.684 - ETA: 0s - loss: 0.5734 - acc: 0.684 - 0s 3ms/step - loss: 0.5734 - acc: 0.6849 - val_loss: 0.5727 - val_acc: 0.6883\n",
      "Epoch 11/50\n",
      "72/72 [==============================] - ETA: 0s - loss: 0.5812 - acc: 0.677 - ETA: 0s - loss: 0.5643 - acc: 0.691 - ETA: 0s - loss: 0.5696 - acc: 0.686 - ETA: 0s - loss: 0.5701 - acc: 0.685 - ETA: 0s - loss: 0.5711 - acc: 0.685 - 0s 4ms/step - loss: 0.5720 - acc: 0.6843 - val_loss: 0.5727 - val_acc: 0.6875\n",
      "Epoch 12/50\n",
      "72/72 [==============================] - ETA: 0s - loss: 0.5674 - acc: 0.718 - ETA: 0s - loss: 0.5684 - acc: 0.686 - ETA: 0s - loss: 0.5713 - acc: 0.685 - 0s 2ms/step - loss: 0.5709 - acc: 0.6868 - val_loss: 0.5701 - val_acc: 0.6914\n",
      "Epoch 13/50\n",
      "72/72 [==============================] - ETA: 0s - loss: 0.5939 - acc: 0.656 - ETA: 0s - loss: 0.5693 - acc: 0.684 - ETA: 0s - loss: 0.5687 - acc: 0.687 - 0s 2ms/step - loss: 0.5697 - acc: 0.6852 - val_loss: 0.5687 - val_acc: 0.6911\n",
      "Epoch 14/50\n",
      "72/72 [==============================] - ETA: 0s - loss: 0.5773 - acc: 0.681 - ETA: 0s - loss: 0.5700 - acc: 0.689 - ETA: 0s - loss: 0.5685 - acc: 0.687 - 0s 2ms/step - loss: 0.5686 - acc: 0.6871 - val_loss: 0.5675 - val_acc: 0.6941\n",
      "Epoch 15/50\n",
      "72/72 [==============================] - ETA: 0s - loss: 0.5837 - acc: 0.673 - ETA: 0s - loss: 0.5645 - acc: 0.690 - ETA: 0s - loss: 0.5674 - acc: 0.688 - 0s 2ms/step - loss: 0.5675 - acc: 0.6880 - val_loss: 0.5698 - val_acc: 0.6899\n",
      "Epoch 16/50\n",
      "72/72 [==============================] - ETA: 0s - loss: 0.5804 - acc: 0.689 - ETA: 0s - loss: 0.5663 - acc: 0.690 - 0s 2ms/step - loss: 0.5668 - acc: 0.6893 - val_loss: 0.5660 - val_acc: 0.6918\n",
      "Epoch 17/50\n",
      "72/72 [==============================] - ETA: 0s - loss: 0.5689 - acc: 0.703 - ETA: 0s - loss: 0.5677 - acc: 0.689 - 0s 2ms/step - loss: 0.5658 - acc: 0.6884 - val_loss: 0.5666 - val_acc: 0.6932\n",
      "Epoch 18/50\n",
      "72/72 [==============================] - ETA: 0s - loss: 0.5696 - acc: 0.679 - ETA: 0s - loss: 0.5656 - acc: 0.690 - ETA: 0s - loss: 0.5654 - acc: 0.689 - 0s 2ms/step - loss: 0.5649 - acc: 0.6899 - val_loss: 0.5644 - val_acc: 0.6946\n",
      "Epoch 19/50\n",
      "72/72 [==============================] - ETA: 0s - loss: 0.5773 - acc: 0.668 - ETA: 0s - loss: 0.5610 - acc: 0.691 - ETA: 0s - loss: 0.5639 - acc: 0.690 - 0s 2ms/step - loss: 0.5643 - acc: 0.6898 - val_loss: 0.5696 - val_acc: 0.6897\n",
      "Epoch 20/50\n",
      "72/72 [==============================] - ETA: 0s - loss: 0.5684 - acc: 0.705 - ETA: 0s - loss: 0.5614 - acc: 0.693 - 0s 2ms/step - loss: 0.5637 - acc: 0.6910 - val_loss: 0.5629 - val_acc: 0.6924\n",
      "Epoch 21/50\n",
      "72/72 [==============================] - ETA: 0s - loss: 0.5437 - acc: 0.699 - ETA: 0s - loss: 0.5618 - acc: 0.692 - 0s 2ms/step - loss: 0.5632 - acc: 0.6908 - val_loss: 0.5627 - val_acc: 0.6922\n",
      "Epoch 22/50\n",
      "72/72 [==============================] - ETA: 0s - loss: 0.5565 - acc: 0.677 - ETA: 0s - loss: 0.5615 - acc: 0.690 - 0s 2ms/step - loss: 0.5625 - acc: 0.6908 - val_loss: 0.5639 - val_acc: 0.6895\n",
      "Epoch 23/50\n",
      "72/72 [==============================] - ETA: 0s - loss: 0.5440 - acc: 0.697 - ETA: 0s - loss: 0.5580 - acc: 0.696 - 0s 2ms/step - loss: 0.5619 - acc: 0.6926 - val_loss: 0.5636 - val_acc: 0.6913\n",
      "Epoch 24/50\n",
      "72/72 [==============================] - ETA: 0s - loss: 0.5701 - acc: 0.687 - ETA: 0s - loss: 0.5603 - acc: 0.688 - ETA: 0s - loss: 0.5646 - acc: 0.687 - 0s 2ms/step - loss: 0.5618 - acc: 0.6910 - val_loss: 0.5620 - val_acc: 0.6928\n",
      "Epoch 25/50\n",
      "72/72 [==============================] - ETA: 0s - loss: 0.5813 - acc: 0.658 - ETA: 0s - loss: 0.5594 - acc: 0.692 - ETA: 0s - loss: 0.5609 - acc: 0.692 - 0s 2ms/step - loss: 0.5613 - acc: 0.6924 - val_loss: 0.5630 - val_acc: 0.6932\n",
      "Epoch 26/50\n",
      "72/72 [==============================] - ETA: 0s - loss: 0.5846 - acc: 0.703 - ETA: 0s - loss: 0.5640 - acc: 0.690 - ETA: 0s - loss: 0.5611 - acc: 0.692 - 0s 2ms/step - loss: 0.5609 - acc: 0.6925 - val_loss: 0.5619 - val_acc: 0.6912\n",
      "Epoch 27/50\n",
      "72/72 [==============================] - ETA: 0s - loss: 0.5715 - acc: 0.671 - ETA: 0s - loss: 0.5597 - acc: 0.696 - ETA: 0s - loss: 0.5618 - acc: 0.693 - 0s 2ms/step - loss: 0.5606 - acc: 0.6936 - val_loss: 0.5620 - val_acc: 0.6912\n",
      "Epoch 28/50\n",
      "72/72 [==============================] - ETA: 0s - loss: 0.5688 - acc: 0.693 - ETA: 0s - loss: 0.5654 - acc: 0.688 - ETA: 0s - loss: 0.5612 - acc: 0.693 - 0s 2ms/step - loss: 0.5602 - acc: 0.6928 - val_loss: 0.5619 - val_acc: 0.6947\n",
      "Epoch 29/50\n",
      "72/72 [==============================] - ETA: 0s - loss: 0.5466 - acc: 0.722 - ETA: 0s - loss: 0.5580 - acc: 0.695 - ETA: 0s - loss: 0.5592 - acc: 0.694 - 0s 2ms/step - loss: 0.5600 - acc: 0.6935 - val_loss: 0.5606 - val_acc: 0.6969\n",
      "Epoch 30/50\n",
      "72/72 [==============================] - ETA: 0s - loss: 0.5524 - acc: 0.703 - ETA: 0s - loss: 0.5578 - acc: 0.696 - ETA: 0s - loss: 0.5588 - acc: 0.694 - 0s 2ms/step - loss: 0.5597 - acc: 0.6942 - val_loss: 0.5628 - val_acc: 0.6934\n",
      "Epoch 31/50\n",
      "72/72 [==============================] - ETA: 0s - loss: 0.5267 - acc: 0.712 - ETA: 0s - loss: 0.5557 - acc: 0.693 - ETA: 0s - loss: 0.5587 - acc: 0.694 - 0s 2ms/step - loss: 0.5597 - acc: 0.6935 - val_loss: 0.5601 - val_acc: 0.6951\n",
      "Epoch 32/50\n",
      "72/72 [==============================] - ETA: 0s - loss: 0.5685 - acc: 0.675 - ETA: 0s - loss: 0.5613 - acc: 0.692 - ETA: 0s - loss: 0.5581 - acc: 0.695 - 0s 2ms/step - loss: 0.5593 - acc: 0.6943 - val_loss: 0.5606 - val_acc: 0.6919\n",
      "Epoch 33/50\n",
      "72/72 [==============================] - ETA: 0s - loss: 0.5587 - acc: 0.685 - ETA: 0s - loss: 0.5563 - acc: 0.697 - ETA: 0s - loss: 0.5596 - acc: 0.692 - 0s 3ms/step - loss: 0.5593 - acc: 0.6939 - val_loss: 0.5594 - val_acc: 0.6952\n",
      "Epoch 34/50\n"
     ]
    },
    {
     "name": "stdout",
     "output_type": "stream",
     "text": [
      "72/72 [==============================] - ETA: 0s - loss: 0.5450 - acc: 0.699 - ETA: 0s - loss: 0.5605 - acc: 0.693 - ETA: 0s - loss: 0.5602 - acc: 0.694 - 0s 2ms/step - loss: 0.5589 - acc: 0.6938 - val_loss: 0.5611 - val_acc: 0.6950\n",
      "Epoch 35/50\n",
      "72/72 [==============================] - ETA: 0s - loss: 0.5467 - acc: 0.714 - ETA: 0s - loss: 0.5553 - acc: 0.698 - ETA: 0s - loss: 0.5577 - acc: 0.696 - 0s 3ms/step - loss: 0.5589 - acc: 0.6952 - val_loss: 0.5625 - val_acc: 0.6951\n",
      "Epoch 36/50\n",
      "72/72 [==============================] - ETA: 0s - loss: 0.5787 - acc: 0.668 - ETA: 0s - loss: 0.5584 - acc: 0.694 - ETA: 0s - loss: 0.5583 - acc: 0.695 - 0s 3ms/step - loss: 0.5586 - acc: 0.6950 - val_loss: 0.5591 - val_acc: 0.6975\n",
      "Epoch 37/50\n",
      "72/72 [==============================] - ETA: 0s - loss: 0.5779 - acc: 0.685 - ETA: 0s - loss: 0.5610 - acc: 0.691 - ETA: 0s - loss: 0.5581 - acc: 0.695 - 0s 3ms/step - loss: 0.5586 - acc: 0.6947 - val_loss: 0.5591 - val_acc: 0.6957\n",
      "Epoch 38/50\n",
      "72/72 [==============================] - ETA: 0s - loss: 0.5547 - acc: 0.685 - ETA: 0s - loss: 0.5504 - acc: 0.698 - ETA: 0s - loss: 0.5561 - acc: 0.695 - 0s 3ms/step - loss: 0.5581 - acc: 0.6942 - val_loss: 0.5599 - val_acc: 0.6935\n",
      "Epoch 39/50\n",
      "72/72 [==============================] - ETA: 0s - loss: 0.5511 - acc: 0.714 - ETA: 0s - loss: 0.5547 - acc: 0.694 - ETA: 0s - loss: 0.5588 - acc: 0.691 - 0s 2ms/step - loss: 0.5581 - acc: 0.6938 - val_loss: 0.5591 - val_acc: 0.6962\n",
      "Epoch 40/50\n",
      "72/72 [==============================] - ETA: 0s - loss: 0.5575 - acc: 0.707 - ETA: 0s - loss: 0.5616 - acc: 0.691 - ETA: 0s - loss: 0.5582 - acc: 0.694 - 0s 3ms/step - loss: 0.5582 - acc: 0.6943 - val_loss: 0.5602 - val_acc: 0.6949\n",
      "Epoch 41/50\n",
      "72/72 [==============================] - ETA: 0s - loss: 0.5720 - acc: 0.691 - ETA: 0s - loss: 0.5603 - acc: 0.696 - ETA: 0s - loss: 0.5570 - acc: 0.696 - 0s 2ms/step - loss: 0.5579 - acc: 0.6949 - val_loss: 0.5592 - val_acc: 0.6947\n",
      "Epoch 42/50\n",
      "72/72 [==============================] - ETA: 0s - loss: 0.5524 - acc: 0.703 - ETA: 0s - loss: 0.5587 - acc: 0.695 - ETA: 0s - loss: 0.5572 - acc: 0.696 - 0s 2ms/step - loss: 0.5575 - acc: 0.6955 - val_loss: 0.5585 - val_acc: 0.6968\n",
      "Epoch 43/50\n",
      "72/72 [==============================] - ETA: 0s - loss: 0.5506 - acc: 0.703 - ETA: 0s - loss: 0.5555 - acc: 0.698 - ETA: 0s - loss: 0.5573 - acc: 0.694 - 0s 2ms/step - loss: 0.5576 - acc: 0.6945 - val_loss: 0.5598 - val_acc: 0.6953\n",
      "Epoch 44/50\n",
      "72/72 [==============================] - ETA: 0s - loss: 0.6104 - acc: 0.652 - ETA: 0s - loss: 0.5577 - acc: 0.693 - ETA: 0s - loss: 0.5575 - acc: 0.694 - 0s 2ms/step - loss: 0.5575 - acc: 0.6943 - val_loss: 0.5605 - val_acc: 0.6970\n",
      "Epoch 45/50\n",
      "72/72 [==============================] - ETA: 0s - loss: 0.5663 - acc: 0.703 - ETA: 0s - loss: 0.5567 - acc: 0.693 - ETA: 0s - loss: 0.5581 - acc: 0.693 - 0s 2ms/step - loss: 0.5575 - acc: 0.6948 - val_loss: 0.5623 - val_acc: 0.6978\n",
      "Epoch 46/50\n",
      "72/72 [==============================] - ETA: 0s - loss: 0.5741 - acc: 0.695 - ETA: 0s - loss: 0.5544 - acc: 0.696 - ETA: 0s - loss: 0.5581 - acc: 0.693 - 0s 2ms/step - loss: 0.5574 - acc: 0.6941 - val_loss: 0.5583 - val_acc: 0.6953\n",
      "Epoch 47/50\n",
      "72/72 [==============================] - ETA: 0s - loss: 0.5836 - acc: 0.683 - ETA: 0s - loss: 0.5605 - acc: 0.690 - ETA: 0s - loss: 0.5594 - acc: 0.691 - 0s 2ms/step - loss: 0.5572 - acc: 0.6943 - val_loss: 0.5603 - val_acc: 0.6930\n",
      "Epoch 48/50\n",
      "72/72 [==============================] - ETA: 0s - loss: 0.5846 - acc: 0.677 - ETA: 0s - loss: 0.5556 - acc: 0.696 - ETA: 0s - loss: 0.5574 - acc: 0.694 - 0s 2ms/step - loss: 0.5572 - acc: 0.6944 - val_loss: 0.5584 - val_acc: 0.6979\n",
      "Epoch 49/50\n",
      "72/72 [==============================] - ETA: 0s - loss: 0.6031 - acc: 0.658 - ETA: 0s - loss: 0.5557 - acc: 0.693 - ETA: 0s - loss: 0.5565 - acc: 0.694 - 0s 2ms/step - loss: 0.5571 - acc: 0.6940 - val_loss: 0.5590 - val_acc: 0.6979\n",
      "Epoch 50/50\n",
      "72/72 [==============================] - ETA: 0s - loss: 0.5501 - acc: 0.703 - ETA: 0s - loss: 0.5562 - acc: 0.693 - ETA: 0s - loss: 0.5563 - acc: 0.695 - 0s 2ms/step - loss: 0.5568 - acc: 0.6950 - val_loss: 0.5584 - val_acc: 0.6968\n"
     ]
    }
   ],
   "source": [
    "result_md = keras_md.fit(k_x_train,k_y_train,\n",
    "                         epochs = 50,batch_size=512,\n",
    "                         validation_data = (k_x_valid,k_y_valid))"
   ]
  },
  {
   "cell_type": "code",
   "execution_count": 980,
   "metadata": {
    "ExecuteTime": {
     "end_time": "2020-11-14T18:34:32.185461Z",
     "start_time": "2020-11-14T18:34:32.171500Z"
    }
   },
   "outputs": [],
   "source": [
    "history = result_md.history\n",
    "acc = history['acc']\n",
    "val_acc = history['val_acc']\n",
    "loss = history['loss']\n",
    "val_loss = history['val_loss']\n",
    "\n",
    "epochs = range(1, len(acc) + 1)"
   ]
  },
  {
   "cell_type": "code",
   "execution_count": 981,
   "metadata": {
    "ExecuteTime": {
     "end_time": "2020-11-14T18:34:34.623261Z",
     "start_time": "2020-11-14T18:34:34.328020Z"
    }
   },
   "outputs": [
    {
     "data": {
      "text/plain": [
       "[<matplotlib.lines.Line2D at 0x19f42c8ec70>]"
      ]
     },
     "execution_count": 981,
     "metadata": {},
     "output_type": "execute_result"
    },
    {
     "data": {
      "text/plain": [
       "[<matplotlib.lines.Line2D at 0x19f42c8e460>]"
      ]
     },
     "execution_count": 981,
     "metadata": {},
     "output_type": "execute_result"
    },
    {
     "data": {
      "text/plain": [
       "Text(0.5, 1.0, 'Training and validation loss')"
      ]
     },
     "execution_count": 981,
     "metadata": {},
     "output_type": "execute_result"
    },
    {
     "data": {
      "text/plain": [
       "Text(0.5, 0, 'Epochs')"
      ]
     },
     "execution_count": 981,
     "metadata": {},
     "output_type": "execute_result"
    },
    {
     "data": {
      "text/plain": [
       "Text(0, 0.5, 'Loss')"
      ]
     },
     "execution_count": 981,
     "metadata": {},
     "output_type": "execute_result"
    },
    {
     "data": {
      "text/plain": [
       "<matplotlib.legend.Legend at 0x19f42ef1f70>"
      ]
     },
     "execution_count": 981,
     "metadata": {},
     "output_type": "execute_result"
    },
    {
     "data": {
      "image/png": "[encoded data removed]",
      "text/plain": [
       "<Figure size 432x288 with 1 Axes>"
      ]
     },
     "metadata": {
      "needs_background": "light"
     },
     "output_type": "display_data"
    }
   ],
   "source": [
    "# ‘bo’는 파란색 점을 의미합니다\n",
    "plt.plot(epochs, loss, 'bo', label='Training loss',c='red')\n",
    "# ‘b’는 파란색 실선을 의미합니다\n",
    "plt.plot(epochs, val_loss, 'b', label='Validation loss')\n",
    "plt.title('Training and validation loss')\n",
    "plt.xlabel('Epochs')\n",
    "plt.ylabel('Loss')\n",
    "plt.legend()"
   ]
  },
  {
   "cell_type": "code",
   "execution_count": 982,
   "metadata": {
    "ExecuteTime": {
     "end_time": "2020-11-14T18:34:36.694616Z",
     "start_time": "2020-11-14T18:34:36.395417Z"
    }
   },
   "outputs": [
    {
     "data": {
      "text/plain": [
       "[<matplotlib.lines.Line2D at 0x19f44016880>]"
      ]
     },
     "execution_count": 982,
     "metadata": {},
     "output_type": "execute_result"
    },
    {
     "data": {
      "text/plain": [
       "[<matplotlib.lines.Line2D at 0x19f44016d00>]"
      ]
     },
     "execution_count": 982,
     "metadata": {},
     "output_type": "execute_result"
    },
    {
     "data": {
      "text/plain": [
       "Text(0.5, 1.0, 'Training and validation accuracy')"
      ]
     },
     "execution_count": 982,
     "metadata": {},
     "output_type": "execute_result"
    },
    {
     "data": {
      "text/plain": [
       "Text(0.5, 0, 'Epochs')"
      ]
     },
     "execution_count": 982,
     "metadata": {},
     "output_type": "execute_result"
    },
    {
     "data": {
      "text/plain": [
       "Text(0, 0.5, 'Accuracy')"
      ]
     },
     "execution_count": 982,
     "metadata": {},
     "output_type": "execute_result"
    },
    {
     "data": {
      "text/plain": [
       "<matplotlib.legend.Legend at 0x19f44016970>"
      ]
     },
     "execution_count": 982,
     "metadata": {},
     "output_type": "execute_result"
    },
    {
     "data": {
      "image/png": "[encoded data removed]",
      "text/plain": [
       "<Figure size 432x288 with 1 Axes>"
      ]
     },
     "metadata": {
      "needs_background": "light"
     },
     "output_type": "display_data"
    }
   ],
   "source": [
    "plt.plot(epochs, acc, 'bo', label='Training acc',c='red')\n",
    "plt.plot(epochs, val_acc, 'b', label='Validation acc')\n",
    "plt.title('Training and validation accuracy')\n",
    "plt.xlabel('Epochs')\n",
    "plt.ylabel('Accuracy')\n",
    "plt.legend()"
   ]
  },
  {
   "cell_type": "code",
   "execution_count": 856,
   "metadata": {
    "ExecuteTime": {
     "end_time": "2020-11-14T17:25:26.912692Z",
     "start_time": "2020-11-14T17:25:26.836930Z"
    }
   },
   "outputs": [
    {
     "data": {
      "application/vnd.plotly.v1+json": {
       "config": {
        "plotlyServerURL": "https://plot.ly"
       },
       "data": [
        {
         "hovertemplate": "variable=0<br>index=%{x}<br>value=%{y}<extra></extra>",
         "legendgroup": "0",
         "line": {
          "color": "#636efa",
          "dash": "solid"
         },
         "mode": "lines",
         "name": "0",
         "orientation": "v",
         "showlegend": true,
         "type": "scatter",
         "x": [
          0,
          1,
          2,
          3,
          4,
          5,
          6,
          7,
          8,
          9,
          10,
          11,
          12,
          13,
          14,
          15,
          16,
          17,
          18,
          19,
          20,
          21,
          22,
          23,
          24,
          25,
          26,
          27,
          28,
          29
         ],
         "xaxis": "x",
         "y": [
          0.6475238800048828,
          0.6846382021903992,
          0.6973756551742554,
          0.7309761643409729,
          0.7545843720436096,
          0.7722631096839905,
          0.8039969205856323,
          0.830569863319397,
          0.8452838659286499,
          0.9247831106185913,
          0.9624464511871338,
          0.9723289608955383,
          0.9769408106803894,
          0.9974744915962219,
          0.9995607733726501,
          0.9998902082443237,
          1,
          1,
          1,
          1,
          1,
          1,
          1,
          1,
          1,
          1,
          1,
          1,
          1,
          1
         ],
         "yaxis": "y"
        }
       ],
       "layout": {
        "legend": {
         "title": {
          "text": "variable"
         },
         "tracegroupgap": 0
        },
        "margin": {
         "t": 60
        },
        "template": {
         "data": {
          "bar": [
           {
            "error_x": {
             "color": "#2a3f5f"
            },
            "error_y": {
             "color": "#2a3f5f"
            },
            "marker": {
             "line": {
              "color": "#E5ECF6",
              "width": 0.5
             }
            },
            "type": "bar"
           }
          ],
          "barpolar": [
           {
            "marker": {
             "line": {
              "color": "#E5ECF6",
              "width": 0.5
             }
            },
            "type": "barpolar"
           }
          ],
          "carpet": [
           {
            "aaxis": {
             "endlinecolor": "#2a3f5f",
             "gridcolor": "white",
             "linecolor": "white",
             "minorgridcolor": "white",
             "startlinecolor": "#2a3f5f"
            },
            "baxis": {
             "endlinecolor": "#2a3f5f",
             "gridcolor": "white",
             "linecolor": "white",
             "minorgridcolor": "white",
             "startlinecolor": "#2a3f5f"
            },
            "type": "carpet"
           }
          ],
          "choropleth": [
           {
            "colorbar": {
             "outlinewidth": 0,
             "ticks": ""
            },
            "type": "choropleth"
           }
          ],
          "contour": [
           {
            "colorbar": {
             "outlinewidth": 0,
             "ticks": ""
            },
            "colorscale": [
             [
              0,
              "#0d0887"
             ],
             [
              0.1111111111111111,
              "#46039f"
             ],
             [
              0.2222222222222222,
              "#7201a8"
             ],
             [
              0.3333333333333333,
              "#9c179e"
             ],
             [
              0.4444444444444444,
              "#bd3786"
             ],
             [
              0.5555555555555556,
              "#d8576b"
             ],
             [
              0.6666666666666666,
              "#ed7953"
             ],
             [
              0.7777777777777778,
              "#fb9f3a"
             ],
             [
              0.8888888888888888,
              "#fdca26"
             ],
             [
              1,
              "#f0f921"
             ]
            ],
            "type": "contour"
           }
          ],
          "contourcarpet": [
           {
            "colorbar": {
             "outlinewidth": 0,
             "ticks": ""
            },
            "type": "contourcarpet"
           }
          ],
          "heatmap": [
           {
            "colorbar": {
             "outlinewidth": 0,
             "ticks": ""
            },
            "colorscale": [
             [
              0,
              "#0d0887"
             ],
             [
              0.1111111111111111,
              "#46039f"
             ],
             [
              0.2222222222222222,
              "#7201a8"
             ],
             [
              0.3333333333333333,
              "#9c179e"
             ],
             [
              0.4444444444444444,
              "#bd3786"
             ],
             [
              0.5555555555555556,
              "#d8576b"
             ],
             [
              0.6666666666666666,
              "#ed7953"
             ],
             [
              0.7777777777777778,
              "#fb9f3a"
             ],
             [
              0.8888888888888888,
              "#fdca26"
             ],
             [
              1,
              "#f0f921"
             ]
            ],
            "type": "heatmap"
           }
          ],
          "heatmapgl": [
           {
            "colorbar": {
             "outlinewidth": 0,
             "ticks": ""
            },
            "colorscale": [
             [
              0,
              "#0d0887"
             ],
             [
              0.1111111111111111,
              "#46039f"
             ],
             [
              0.2222222222222222,
              "#7201a8"
             ],
             [
              0.3333333333333333,
              "#9c179e"
             ],
             [
              0.4444444444444444,
              "#bd3786"
             ],
             [
              0.5555555555555556,
              "#d8576b"
             ],
             [
              0.6666666666666666,
              "#ed7953"
             ],
             [
              0.7777777777777778,
              "#fb9f3a"
             ],
             [
              0.8888888888888888,
              "#fdca26"
             ],
             [
              1,
              "#f0f921"
             ]
            ],
            "type": "heatmapgl"
           }
          ],
          "histogram": [
           {
            "marker": {
             "colorbar": {
              "outlinewidth": 0,
              "ticks": ""
             }
            },
            "type": "histogram"
           }
          ],
          "histogram2d": [
           {
            "colorbar": {
             "outlinewidth": 0,
             "ticks": ""
            },
            "colorscale": [
             [
              0,
              "#0d0887"
             ],
             [
              0.1111111111111111,
              "#46039f"
             ],
             [
              0.2222222222222222,
              "#7201a8"
             ],
             [
              0.3333333333333333,
              "#9c179e"
             ],
             [
              0.4444444444444444,
              "#bd3786"
             ],
             [
              0.5555555555555556,
              "#d8576b"
             ],
             [
              0.6666666666666666,
              "#ed7953"
             ],
             [
              0.7777777777777778,
              "#fb9f3a"
             ],
             [
              0.8888888888888888,
              "#fdca26"
             ],
             [
              1,
              "#f0f921"
             ]
            ],
            "type": "histogram2d"
           }
          ],
          "histogram2dcontour": [
           {
            "colorbar": {
             "outlinewidth": 0,
             "ticks": ""
            },
            "colorscale": [
             [
              0,
              "#0d0887"
             ],
             [
              0.1111111111111111,
              "#46039f"
             ],
             [
              0.2222222222222222,
              "#7201a8"
             ],
             [
              0.3333333333333333,
              "#9c179e"
             ],
             [
              0.4444444444444444,
              "#bd3786"
             ],
             [
              0.5555555555555556,
              "#d8576b"
             ],
             [
              0.6666666666666666,
              "#ed7953"
             ],
             [
              0.7777777777777778,
              "#fb9f3a"
             ],
             [
              0.8888888888888888,
              "#fdca26"
             ],
             [
              1,
              "#f0f921"
             ]
            ],
            "type": "histogram2dcontour"
           }
          ],
          "mesh3d": [
           {
            "colorbar": {
             "outlinewidth": 0,
             "ticks": ""
            },
            "type": "mesh3d"
           }
          ],
          "parcoords": [
           {
            "line": {
             "colorbar": {
              "outlinewidth": 0,
              "ticks": ""
             }
            },
            "type": "parcoords"
           }
          ],
          "pie": [
           {
            "automargin": true,
            "type": "pie"
           }
          ],
          "scatter": [
           {
            "marker": {
             "colorbar": {
              "outlinewidth": 0,
              "ticks": ""
             }
            },
            "type": "scatter"
           }
          ],
          "scatter3d": [
           {
            "line": {
             "colorbar": {
              "outlinewidth": 0,
              "ticks": ""
             }
            },
            "marker": {
             "colorbar": {
              "outlinewidth": 0,
              "ticks": ""
             }
            },
            "type": "scatter3d"
           }
          ],
          "scattercarpet": [
           {
            "marker": {
             "colorbar": {
              "outlinewidth": 0,
              "ticks": ""
             }
            },
            "type": "scattercarpet"
           }
          ],
          "scattergeo": [
           {
            "marker": {
             "colorbar": {
              "outlinewidth": 0,
              "ticks": ""
             }
            },
            "type": "scattergeo"
           }
          ],
          "scattergl": [
           {
            "marker": {
             "colorbar": {
              "outlinewidth": 0,
              "ticks": ""
             }
            },
            "type": "scattergl"
           }
          ],
          "scattermapbox": [
           {
            "marker": {
             "colorbar": {
              "outlinewidth": 0,
              "ticks": ""
             }
            },
            "type": "scattermapbox"
           }
          ],
          "scatterpolar": [
           {
            "marker": {
             "colorbar": {
              "outlinewidth": 0,
              "ticks": ""
             }
            },
            "type": "scatterpolar"
           }
          ],
          "scatterpolargl": [
           {
            "marker": {
             "colorbar": {
              "outlinewidth": 0,
              "ticks": ""
             }
            },
            "type": "scatterpolargl"
           }
          ],
          "scatterternary": [
           {
            "marker": {
             "colorbar": {
              "outlinewidth": 0,
              "ticks": ""
             }
            },
            "type": "scatterternary"
           }
          ],
          "surface": [
           {
            "colorbar": {
             "outlinewidth": 0,
             "ticks": ""
            },
            "colorscale": [
             [
              0,
              "#0d0887"
             ],
             [
              0.1111111111111111,
              "#46039f"
             ],
             [
              0.2222222222222222,
              "#7201a8"
             ],
             [
              0.3333333333333333,
              "#9c179e"
             ],
             [
              0.4444444444444444,
              "#bd3786"
             ],
             [
              0.5555555555555556,
              "#d8576b"
             ],
             [
              0.6666666666666666,
              "#ed7953"
             ],
             [
              0.7777777777777778,
              "#fb9f3a"
             ],
             [
              0.8888888888888888,
              "#fdca26"
             ],
             [
              1,
              "#f0f921"
             ]
            ],
            "type": "surface"
           }
          ],
          "table": [
           {
            "cells": {
             "fill": {
              "color": "#EBF0F8"
             },
             "line": {
              "color": "white"
             }
            },
            "header": {
             "fill": {
              "color": "#C8D4E3"
             },
             "line": {
              "color": "white"
             }
            },
            "type": "table"
           }
          ]
         },
         "layout": {
          "annotationdefaults": {
           "arrowcolor": "#2a3f5f",
           "arrowhead": 0,
           "arrowwidth": 1
          },
          "coloraxis": {
           "colorbar": {
            "outlinewidth": 0,
            "ticks": ""
           }
          },
          "colorscale": {
           "diverging": [
            [
             0,
             "#8e0152"
            ],
            [
             0.1,
             "#c51b7d"
            ],
            [
             0.2,
             "#de77ae"
            ],
            [
             0.3,
             "#f1b6da"
            ],
            [
             0.4,
             "#fde0ef"
            ],
            [
             0.5,
             "#f7f7f7"
            ],
            [
             0.6,
             "#e6f5d0"
            ],
            [
             0.7,
             "#b8e186"
            ],
            [
             0.8,
             "#7fbc41"
            ],
            [
             0.9,
             "#4d9221"
            ],
            [
             1,
             "#276419"
            ]
           ],
           "sequential": [
            [
             0,
             "#0d0887"
            ],
            [
             0.1111111111111111,
             "#46039f"
            ],
            [
             0.2222222222222222,
             "#7201a8"
            ],
            [
             0.3333333333333333,
             "#9c179e"
            ],
            [
             0.4444444444444444,
             "#bd3786"
            ],
            [
             0.5555555555555556,
             "#d8576b"
            ],
            [
             0.6666666666666666,
             "#ed7953"
            ],
            [
             0.7777777777777778,
             "#fb9f3a"
            ],
            [
             0.8888888888888888,
             "#fdca26"
            ],
            [
             1,
             "#f0f921"
            ]
           ],
           "sequentialminus": [
            [
             0,
             "#0d0887"
            ],
            [
             0.1111111111111111,
             "#46039f"
            ],
            [
             0.2222222222222222,
             "#7201a8"
            ],
            [
             0.3333333333333333,
             "#9c179e"
            ],
            [
             0.4444444444444444,
             "#bd3786"
            ],
            [
             0.5555555555555556,
             "#d8576b"
            ],
            [
             0.6666666666666666,
             "#ed7953"
            ],
            [
             0.7777777777777778,
             "#fb9f3a"
            ],
            [
             0.8888888888888888,
             "#fdca26"
            ],
            [
             1,
             "#f0f921"
            ]
           ]
          },
          "colorway": [
           "#636efa",
           "#EF553B",
           "#00cc96",
           "#ab63fa",
           "#FFA15A",
           "#19d3f3",
           "#FF6692",
           "#B6E880",
           "#FF97FF",
           "#FECB52"
          ],
          "font": {
           "color": "#2a3f5f"
          },
          "geo": {
           "bgcolor": "white",
           "lakecolor": "white",
           "landcolor": "#E5ECF6",
           "showlakes": true,
           "showland": true,
           "subunitcolor": "white"
          },
          "hoverlabel": {
           "align": "left"
          },
          "hovermode": "closest",
          "mapbox": {
           "style": "light"
          },
          "paper_bgcolor": "white",
          "plot_bgcolor": "#E5ECF6",
          "polar": {
           "angularaxis": {
            "gridcolor": "white",
            "linecolor": "white",
            "ticks": ""
           },
           "bgcolor": "#E5ECF6",
           "radialaxis": {
            "gridcolor": "white",
            "linecolor": "white",
            "ticks": ""
           }
          },
          "scene": {
           "xaxis": {
            "backgroundcolor": "#E5ECF6",
            "gridcolor": "white",
            "gridwidth": 2,
            "linecolor": "white",
            "showbackground": true,
            "ticks": "",
            "zerolinecolor": "white"
           },
           "yaxis": {
            "backgroundcolor": "#E5ECF6",
            "gridcolor": "white",
            "gridwidth": 2,
            "linecolor": "white",
            "showbackground": true,
            "ticks": "",
            "zerolinecolor": "white"
           },
           "zaxis": {
            "backgroundcolor": "#E5ECF6",
            "gridcolor": "white",
            "gridwidth": 2,
            "linecolor": "white",
            "showbackground": true,
            "ticks": "",
            "zerolinecolor": "white"
           }
          },
          "shapedefaults": {
           "line": {
            "color": "#2a3f5f"
           }
          },
          "ternary": {
           "aaxis": {
            "gridcolor": "white",
            "linecolor": "white",
            "ticks": ""
           },
           "baxis": {
            "gridcolor": "white",
            "linecolor": "white",
            "ticks": ""
           },
           "bgcolor": "#E5ECF6",
           "caxis": {
            "gridcolor": "white",
            "linecolor": "white",
            "ticks": ""
           }
          },
          "title": {
           "x": 0.05
          },
          "xaxis": {
           "automargin": true,
           "gridcolor": "white",
           "linecolor": "white",
           "ticks": "",
           "title": {
            "standoff": 15
           },
           "zerolinecolor": "white",
           "zerolinewidth": 2
          },
          "yaxis": {
           "automargin": true,
           "gridcolor": "white",
           "linecolor": "white",
           "ticks": "",
           "title": {
            "standoff": 15
           },
           "zerolinecolor": "white",
           "zerolinewidth": 2
          }
         }
        },
        "xaxis": {
         "anchor": "y",
         "domain": [
          0,
          1
         ],
         "title": {
          "text": "index"
         }
        },
        "yaxis": {
         "anchor": "x",
         "domain": [
          0,
          1
         ],
         "title": {
          "text": "value"
         }
        }
       }
      },
      "text/html": [
       "<div>\n",
       "        \n",
       "        \n",
       "            <div id=\"5bfa45da-5c46-4ba1-80aa-4dac049c6040\" class=\"plotly-graph-div\" style=\"height:525px; width:100%;\"></div>\n",
       "            <script type=\"text/javascript\">\n",
       "                require([\"plotly\"], function(Plotly) {\n",
       "                    window.PLOTLYENV=window.PLOTLYENV || {};\n",
       "                    \n",
       "                if (document.getElementById(\"5bfa45da-5c46-4ba1-80aa-4dac049c6040\")) {\n",
       "                    Plotly.newPlot(\n",
       "                        '5bfa45da-5c46-4ba1-80aa-4dac049c6040',\n",
       "                        [{\"hovertemplate\": \"variable=0<br>index=%{x}<br>value=%{y}<extra></extra>\", \"legendgroup\": \"0\", \"line\": {\"color\": \"#636efa\", \"dash\": \"solid\"}, \"mode\": \"lines\", \"name\": \"0\", \"orientation\": \"v\", \"showlegend\": true, \"type\": \"scatter\", \"x\": [0, 1, 2, 3, 4, 5, 6, 7, 8, 9, 10, 11, 12, 13, 14, 15, 16, 17, 18, 19, 20, 21, 22, 23, 24, 25, 26, 27, 28, 29], \"xaxis\": \"x\", \"y\": [0.6475238800048828, 0.6846382021903992, 0.6973756551742554, 0.7309761643409729, 0.7545843720436096, 0.7722631096839905, 0.8039969205856323, 0.830569863319397, 0.8452838659286499, 0.9247831106185913, 0.9624464511871338, 0.9723289608955383, 0.9769408106803894, 0.9974744915962219, 0.9995607733726501, 0.9998902082443237, 1.0, 1.0, 1.0, 1.0, 1.0, 1.0, 1.0, 1.0, 1.0, 1.0, 1.0, 1.0, 1.0, 1.0], \"yaxis\": \"y\"}],\n",
       "                        {\"legend\": {\"title\": {\"text\": \"variable\"}, \"tracegroupgap\": 0}, \"margin\": {\"t\": 60}, \"template\": {\"data\": {\"bar\": [{\"error_x\": {\"color\": \"#2a3f5f\"}, \"error_y\": {\"color\": \"#2a3f5f\"}, \"marker\": {\"line\": {\"color\": \"#E5ECF6\", \"width\": 0.5}}, \"type\": \"bar\"}], \"barpolar\": [{\"marker\": {\"line\": {\"color\": \"#E5ECF6\", \"width\": 0.5}}, \"type\": \"barpolar\"}], \"carpet\": [{\"aaxis\": {\"endlinecolor\": \"#2a3f5f\", \"gridcolor\": \"white\", \"linecolor\": \"white\", \"minorgridcolor\": \"white\", \"startlinecolor\": \"#2a3f5f\"}, \"baxis\": {\"endlinecolor\": \"#2a3f5f\", \"gridcolor\": \"white\", \"linecolor\": \"white\", \"minorgridcolor\": \"white\", \"startlinecolor\": \"#2a3f5f\"}, \"type\": \"carpet\"}], \"choropleth\": [{\"colorbar\": {\"outlinewidth\": 0, \"ticks\": \"\"}, \"type\": \"choropleth\"}], \"contour\": [{\"colorbar\": {\"outlinewidth\": 0, \"ticks\": \"\"}, \"colorscale\": [[0.0, \"#0d0887\"], [0.1111111111111111, \"#46039f\"], [0.2222222222222222, \"#7201a8\"], [0.3333333333333333, \"#9c179e\"], [0.4444444444444444, \"#bd3786\"], [0.5555555555555556, \"#d8576b\"], [0.6666666666666666, \"#ed7953\"], [0.7777777777777778, \"#fb9f3a\"], [0.8888888888888888, \"#fdca26\"], [1.0, \"#f0f921\"]], \"type\": \"contour\"}], \"contourcarpet\": [{\"colorbar\": {\"outlinewidth\": 0, \"ticks\": \"\"}, \"type\": \"contourcarpet\"}], \"heatmap\": [{\"colorbar\": {\"outlinewidth\": 0, \"ticks\": \"\"}, \"colorscale\": [[0.0, \"#0d0887\"], [0.1111111111111111, \"#46039f\"], [0.2222222222222222, \"#7201a8\"], [0.3333333333333333, \"#9c179e\"], [0.4444444444444444, \"#bd3786\"], [0.5555555555555556, \"#d8576b\"], [0.6666666666666666, \"#ed7953\"], [0.7777777777777778, \"#fb9f3a\"], [0.8888888888888888, \"#fdca26\"], [1.0, \"#f0f921\"]], \"type\": \"heatmap\"}], \"heatmapgl\": [{\"colorbar\": {\"outlinewidth\": 0, \"ticks\": \"\"}, \"colorscale\": [[0.0, \"#0d0887\"], [0.1111111111111111, \"#46039f\"], [0.2222222222222222, \"#7201a8\"], [0.3333333333333333, \"#9c179e\"], [0.4444444444444444, \"#bd3786\"], [0.5555555555555556, \"#d8576b\"], [0.6666666666666666, \"#ed7953\"], [0.7777777777777778, \"#fb9f3a\"], [0.8888888888888888, \"#fdca26\"], [1.0, \"#f0f921\"]], \"type\": \"heatmapgl\"}], \"histogram\": [{\"marker\": {\"colorbar\": {\"outlinewidth\": 0, \"ticks\": \"\"}}, \"type\": \"histogram\"}], \"histogram2d\": [{\"colorbar\": {\"outlinewidth\": 0, \"ticks\": \"\"}, \"colorscale\": [[0.0, \"#0d0887\"], [0.1111111111111111, \"#46039f\"], [0.2222222222222222, \"#7201a8\"], [0.3333333333333333, \"#9c179e\"], [0.4444444444444444, \"#bd3786\"], [0.5555555555555556, \"#d8576b\"], [0.6666666666666666, \"#ed7953\"], [0.7777777777777778, \"#fb9f3a\"], [0.8888888888888888, \"#fdca26\"], [1.0, \"#f0f921\"]], \"type\": \"histogram2d\"}], \"histogram2dcontour\": [{\"colorbar\": {\"outlinewidth\": 0, \"ticks\": \"\"}, \"colorscale\": [[0.0, \"#0d0887\"], [0.1111111111111111, \"#46039f\"], [0.2222222222222222, \"#7201a8\"], [0.3333333333333333, \"#9c179e\"], [0.4444444444444444, \"#bd3786\"], [0.5555555555555556, \"#d8576b\"], [0.6666666666666666, \"#ed7953\"], [0.7777777777777778, \"#fb9f3a\"], [0.8888888888888888, \"#fdca26\"], [1.0, \"#f0f921\"]], \"type\": \"histogram2dcontour\"}], \"mesh3d\": [{\"colorbar\": {\"outlinewidth\": 0, \"ticks\": \"\"}, \"type\": \"mesh3d\"}], \"parcoords\": [{\"line\": {\"colorbar\": {\"outlinewidth\": 0, \"ticks\": \"\"}}, \"type\": \"parcoords\"}], \"pie\": [{\"automargin\": true, \"type\": \"pie\"}], \"scatter\": [{\"marker\": {\"colorbar\": {\"outlinewidth\": 0, \"ticks\": \"\"}}, \"type\": \"scatter\"}], \"scatter3d\": [{\"line\": {\"colorbar\": {\"outlinewidth\": 0, \"ticks\": \"\"}}, \"marker\": {\"colorbar\": {\"outlinewidth\": 0, \"ticks\": \"\"}}, \"type\": \"scatter3d\"}], \"scattercarpet\": [{\"marker\": {\"colorbar\": {\"outlinewidth\": 0, \"ticks\": \"\"}}, \"type\": \"scattercarpet\"}], \"scattergeo\": [{\"marker\": {\"colorbar\": {\"outlinewidth\": 0, \"ticks\": \"\"}}, \"type\": \"scattergeo\"}], \"scattergl\": [{\"marker\": {\"colorbar\": {\"outlinewidth\": 0, \"ticks\": \"\"}}, \"type\": \"scattergl\"}], \"scattermapbox\": [{\"marker\": {\"colorbar\": {\"outlinewidth\": 0, \"ticks\": \"\"}}, \"type\": \"scattermapbox\"}], \"scatterpolar\": [{\"marker\": {\"colorbar\": {\"outlinewidth\": 0, \"ticks\": \"\"}}, \"type\": \"scatterpolar\"}], \"scatterpolargl\": [{\"marker\": {\"colorbar\": {\"outlinewidth\": 0, \"ticks\": \"\"}}, \"type\": \"scatterpolargl\"}], \"scatterternary\": [{\"marker\": {\"colorbar\": {\"outlinewidth\": 0, \"ticks\": \"\"}}, \"type\": \"scatterternary\"}], \"surface\": [{\"colorbar\": {\"outlinewidth\": 0, \"ticks\": \"\"}, \"colorscale\": [[0.0, \"#0d0887\"], [0.1111111111111111, \"#46039f\"], [0.2222222222222222, \"#7201a8\"], [0.3333333333333333, \"#9c179e\"], [0.4444444444444444, \"#bd3786\"], [0.5555555555555556, \"#d8576b\"], [0.6666666666666666, \"#ed7953\"], [0.7777777777777778, \"#fb9f3a\"], [0.8888888888888888, \"#fdca26\"], [1.0, \"#f0f921\"]], \"type\": \"surface\"}], \"table\": [{\"cells\": {\"fill\": {\"color\": \"#EBF0F8\"}, \"line\": {\"color\": \"white\"}}, \"header\": {\"fill\": {\"color\": \"#C8D4E3\"}, \"line\": {\"color\": \"white\"}}, \"type\": \"table\"}]}, \"layout\": {\"annotationdefaults\": {\"arrowcolor\": \"#2a3f5f\", \"arrowhead\": 0, \"arrowwidth\": 1}, \"coloraxis\": {\"colorbar\": {\"outlinewidth\": 0, \"ticks\": \"\"}}, \"colorscale\": {\"diverging\": [[0, \"#8e0152\"], [0.1, \"#c51b7d\"], [0.2, \"#de77ae\"], [0.3, \"#f1b6da\"], [0.4, \"#fde0ef\"], [0.5, \"#f7f7f7\"], [0.6, \"#e6f5d0\"], [0.7, \"#b8e186\"], [0.8, \"#7fbc41\"], [0.9, \"#4d9221\"], [1, \"#276419\"]], \"sequential\": [[0.0, \"#0d0887\"], [0.1111111111111111, \"#46039f\"], [0.2222222222222222, \"#7201a8\"], [0.3333333333333333, \"#9c179e\"], [0.4444444444444444, \"#bd3786\"], [0.5555555555555556, \"#d8576b\"], [0.6666666666666666, \"#ed7953\"], [0.7777777777777778, \"#fb9f3a\"], [0.8888888888888888, \"#fdca26\"], [1.0, \"#f0f921\"]], \"sequentialminus\": [[0.0, \"#0d0887\"], [0.1111111111111111, \"#46039f\"], [0.2222222222222222, \"#7201a8\"], [0.3333333333333333, \"#9c179e\"], [0.4444444444444444, \"#bd3786\"], [0.5555555555555556, \"#d8576b\"], [0.6666666666666666, \"#ed7953\"], [0.7777777777777778, \"#fb9f3a\"], [0.8888888888888888, \"#fdca26\"], [1.0, \"#f0f921\"]]}, \"colorway\": [\"#636efa\", \"#EF553B\", \"#00cc96\", \"#ab63fa\", \"#FFA15A\", \"#19d3f3\", \"#FF6692\", \"#B6E880\", \"#FF97FF\", \"#FECB52\"], \"font\": {\"color\": \"#2a3f5f\"}, \"geo\": {\"bgcolor\": \"white\", \"lakecolor\": \"white\", \"landcolor\": \"#E5ECF6\", \"showlakes\": true, \"showland\": true, \"subunitcolor\": \"white\"}, \"hoverlabel\": {\"align\": \"left\"}, \"hovermode\": \"closest\", \"mapbox\": {\"style\": \"light\"}, \"paper_bgcolor\": \"white\", \"plot_bgcolor\": \"#E5ECF6\", \"polar\": {\"angularaxis\": {\"gridcolor\": \"white\", \"linecolor\": \"white\", \"ticks\": \"\"}, \"bgcolor\": \"#E5ECF6\", \"radialaxis\": {\"gridcolor\": \"white\", \"linecolor\": \"white\", \"ticks\": \"\"}}, \"scene\": {\"xaxis\": {\"backgroundcolor\": \"#E5ECF6\", \"gridcolor\": \"white\", \"gridwidth\": 2, \"linecolor\": \"white\", \"showbackground\": true, \"ticks\": \"\", \"zerolinecolor\": \"white\"}, \"yaxis\": {\"backgroundcolor\": \"#E5ECF6\", \"gridcolor\": \"white\", \"gridwidth\": 2, \"linecolor\": \"white\", \"showbackground\": true, \"ticks\": \"\", \"zerolinecolor\": \"white\"}, \"zaxis\": {\"backgroundcolor\": \"#E5ECF6\", \"gridcolor\": \"white\", \"gridwidth\": 2, \"linecolor\": \"white\", \"showbackground\": true, \"ticks\": \"\", \"zerolinecolor\": \"white\"}}, \"shapedefaults\": {\"line\": {\"color\": \"#2a3f5f\"}}, \"ternary\": {\"aaxis\": {\"gridcolor\": \"white\", \"linecolor\": \"white\", \"ticks\": \"\"}, \"baxis\": {\"gridcolor\": \"white\", \"linecolor\": \"white\", \"ticks\": \"\"}, \"bgcolor\": \"#E5ECF6\", \"caxis\": {\"gridcolor\": \"white\", \"linecolor\": \"white\", \"ticks\": \"\"}}, \"title\": {\"x\": 0.05}, \"xaxis\": {\"automargin\": true, \"gridcolor\": \"white\", \"linecolor\": \"white\", \"ticks\": \"\", \"title\": {\"standoff\": 15}, \"zerolinecolor\": \"white\", \"zerolinewidth\": 2}, \"yaxis\": {\"automargin\": true, \"gridcolor\": \"white\", \"linecolor\": \"white\", \"ticks\": \"\", \"title\": {\"standoff\": 15}, \"zerolinecolor\": \"white\", \"zerolinewidth\": 2}}}, \"xaxis\": {\"anchor\": \"y\", \"domain\": [0.0, 1.0], \"title\": {\"text\": \"index\"}}, \"yaxis\": {\"anchor\": \"x\", \"domain\": [0.0, 1.0], \"title\": {\"text\": \"value\"}}},\n",
       "                        {\"responsive\": true}\n",
       "                    ).then(function(){\n",
       "                            \n",
       "var gd = document.getElementById('5bfa45da-5c46-4ba1-80aa-4dac049c6040');\n",
       "var x = new MutationObserver(function (mutations, observer) {{\n",
       "        var display = window.getComputedStyle(gd).display;\n",
       "        if (!display || display === 'none') {{\n",
       "            console.log([gd, 'removed!']);\n",
       "            Plotly.purge(gd);\n",
       "            observer.disconnect();\n",
       "        }}\n",
       "}});\n",
       "\n",
       "// Listen for the removal of the full notebook cells\n",
       "var notebookContainer = gd.closest('#notebook-container');\n",
       "if (notebookContainer) {{\n",
       "    x.observe(notebookContainer, {childList: true});\n",
       "}}\n",
       "\n",
       "// Listen for the clearing of the current output cell\n",
       "var outputEl = gd.closest('.output');\n",
       "if (outputEl) {{\n",
       "    x.observe(outputEl, {childList: true});\n",
       "}}\n",
       "\n",
       "                        })\n",
       "                };\n",
       "                });\n",
       "            </script>\n",
       "        </div>"
      ]
     },
     "metadata": {},
     "output_type": "display_data"
    }
   ],
   "source": [
    "import plotly.express as px\n",
    "px.line(val_acc)"
   ]
  },
  {
   "cell_type": "code",
   "execution_count": 891,
   "metadata": {
    "ExecuteTime": {
     "end_time": "2020-11-14T17:36:20.603530Z",
     "start_time": "2020-11-14T17:36:20.235312Z"
    }
   },
   "outputs": [
    {
     "name": "stdout",
     "output_type": "stream",
     "text": [
      "285/285 [==============================] - ETA: 0s - loss: 0.5978 - acc: 0.687 - ETA: 0s - loss: 0.5775 - acc: 0.667 - ETA: 0s - loss: 0.5852 - acc: 0.655 - ETA: 0s - loss: 0.5793 - acc: 0.660 - ETA: 0s - loss: 0.5799 - acc: 0.656 - ETA: 0s - loss: 0.5799 - acc: 0.660 - 0s 1ms/step - loss: 0.5787 - acc: 0.6631\n"
     ]
    }
   ],
   "source": [
    "te_loss,te_acc = keras_md.evaluate(k_x_valid,k_y_valid)"
   ]
  },
  {
   "cell_type": "code",
   "execution_count": 892,
   "metadata": {
    "ExecuteTime": {
     "end_time": "2020-11-14T17:36:22.042090Z",
     "start_time": "2020-11-14T17:36:22.028136Z"
    }
   },
   "outputs": [
    {
     "data": {
      "text/plain": [
       "0.5786585807800293"
      ]
     },
     "execution_count": 892,
     "metadata": {},
     "output_type": "execute_result"
    },
    {
     "data": {
      "text/plain": [
       "0.6631162762641907"
      ]
     },
     "execution_count": 892,
     "metadata": {},
     "output_type": "execute_result"
    }
   ],
   "source": [
    "te_loss\n",
    "te_acc"
   ]
  },
  {
   "cell_type": "code",
   "execution_count": 893,
   "metadata": {
    "ExecuteTime": {
     "end_time": "2020-11-14T17:36:25.217262Z",
     "start_time": "2020-11-14T17:36:24.069224Z"
    }
   },
   "outputs": [
    {
     "name": "stdout",
     "output_type": "stream",
     "text": [
      "1139/1139 [==============================] - ETA: 0s - loss: 0.6038 - acc: 0.625 - ETA: 1s - loss: 0.5759 - acc: 0.677 - ETA: 1s - loss: 0.5814 - acc: 0.671 - ETA: 1s - loss: 0.5840 - acc: 0.665 - ETA: 1s - loss: 0.5786 - acc: 0.664 - ETA: 1s - loss: 0.5823 - acc: 0.665 - ETA: 1s - loss: 0.5822 - acc: 0.662 - ETA: 0s - loss: 0.5813 - acc: 0.664 - ETA: 0s - loss: 0.5791 - acc: 0.665 - ETA: 0s - loss: 0.5766 - acc: 0.668 - ETA: 0s - loss: 0.5768 - acc: 0.668 - ETA: 0s - loss: 0.5787 - acc: 0.667 - ETA: 0s - loss: 0.5776 - acc: 0.667 - ETA: 0s - loss: 0.5782 - acc: 0.666 - ETA: 0s - loss: 0.5790 - acc: 0.667 - ETA: 0s - loss: 0.5791 - acc: 0.667 - ETA: 0s - loss: 0.5784 - acc: 0.668 - ETA: 0s - loss: 0.5787 - acc: 0.667 - ETA: 0s - loss: 0.5791 - acc: 0.666 - ETA: 0s - loss: 0.5789 - acc: 0.666 - ETA: 0s - loss: 0.5790 - acc: 0.666 - 1s 932us/step - loss: 0.5785 - acc: 0.6665\n"
     ]
    }
   ],
   "source": [
    "tr_loss,tr_acc = keras_md.evaluate(k_x_train,k_y_train)"
   ]
  },
  {
   "cell_type": "code",
   "execution_count": 894,
   "metadata": {
    "ExecuteTime": {
     "end_time": "2020-11-14T17:36:26.572164Z",
     "start_time": "2020-11-14T17:36:26.558201Z"
    }
   },
   "outputs": [
    {
     "data": {
      "text/plain": [
       "0.5784574747085571"
      ]
     },
     "execution_count": 894,
     "metadata": {},
     "output_type": "execute_result"
    },
    {
     "data": {
      "text/plain": [
       "0.6664928197860718"
      ]
     },
     "execution_count": 894,
     "metadata": {},
     "output_type": "execute_result"
    }
   ],
   "source": [
    "tr_loss\n",
    "tr_acc"
   ]
  },
  {
   "cell_type": "code",
   "execution_count": 895,
   "metadata": {
    "ExecuteTime": {
     "end_time": "2020-11-14T17:36:28.499944Z",
     "start_time": "2020-11-14T17:36:28.185961Z"
    }
   },
   "outputs": [
    {
     "data": {
      "text/plain": [
       "array([[0.17645305],\n",
       "       [0.03769168],\n",
       "       [0.5396986 ],\n",
       "       ...,\n",
       "       [0.6520562 ],\n",
       "       [0.5725282 ],\n",
       "       [0.4904907 ]], dtype=float32)"
      ]
     },
     "execution_count": 895,
     "metadata": {},
     "output_type": "execute_result"
    }
   ],
   "source": [
    "keras_md.predict(test_for_keras)"
   ]
  },
  {
   "cell_type": "code",
   "execution_count": null,
   "metadata": {},
   "outputs": [],
   "source": []
  }
 ],
 "metadata": {
  "kernelspec": {
   "display_name": "simon_env",
   "language": "python",
   "name": "simon_env"
  },
  "language_info": {
   "codemirror_mode": {
    "name": "ipython",
    "version": 3
   },
   "file_extension": ".py",
   "mimetype": "text/x-python",
   "name": "python",
   "nbconvert_exporter": "python",
   "pygments_lexer": "ipython3",
   "version": "3.8.3"
  },
  "toc": {
   "base_numbering": 1,
   "nav_menu": {},
   "number_sections": true,
   "sideBar": true,
   "skip_h1_title": false,
   "title_cell": "Table of Contents",
   "title_sidebar": "Contents",
   "toc_cell": false,
   "toc_position": {
    "height": "calc(100% - 180px)",
    "left": "10px",
    "top": "150px",
    "width": "310.396px"
   },
   "toc_section_display": true,
   "toc_window_display": true
  },
  "varInspector": {
   "cols": {
    "lenName": 16,
    "lenType": 16,
    "lenVar": 40
   },
   "kernels_config": {
    "python": {
     "delete_cmd_postfix": "",
     "delete_cmd_prefix": "del ",
     "library": "var_list.py",
     "varRefreshCmd": "print(var_dic_list())"
    },
    "r": {
     "delete_cmd_postfix": ") ",
     "delete_cmd_prefix": "rm(",
     "library": "var_list.r",
     "varRefreshCmd": "cat(var_dic_list()) "
    }
   },
   "position": {
    "height": "493.636px",
    "left": "951.112px",
    "right": "20px",
    "top": "116.998px",
    "width": "482.008px"
   },
   "types_to_exclude": [
    "module",
    "function",
    "builtin_function_or_method",
    "instance",
    "_Feature"
   ],
   "window_display": false
  }
 },
 "nbformat": 4,
 "nbformat_minor": 4
}
